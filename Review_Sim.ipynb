{
 "cells": [
  {
   "cell_type": "code",
   "execution_count": 1,
   "metadata": {
    "collapsed": true
   },
   "outputs": [],
   "source": [
    "import pandas as pd\n",
    "from tqdm import tqdm\n",
    "from sklearn.metrics import pairwise_distances\n",
    "from scipy import sparse\n",
    "from sklearn.metrics.pairwise import cosine_similarity\n",
    "from sklearn.feature_extraction.text import TfidfVectorizer, CountVectorizer"
   ]
  },
  {
   "cell_type": "code",
   "execution_count": 2,
   "metadata": {
    "collapsed": true
   },
   "outputs": [],
   "source": [
    "reviews1 = pd.read_csv('animerevs.csv')\n",
    "reviews2 = pd.read_csv('animerevs2.csv')\n",
    "# We scraped the reviews into two files. "
   ]
  },
  {
   "cell_type": "code",
   "execution_count": 3,
   "metadata": {},
   "outputs": [
    {
     "data": {
      "text/html": [
       "<div>\n",
       "<style>\n",
       "    .dataframe thead tr:only-child th {\n",
       "        text-align: right;\n",
       "    }\n",
       "\n",
       "    .dataframe thead th {\n",
       "        text-align: left;\n",
       "    }\n",
       "\n",
       "    .dataframe tbody tr th {\n",
       "        vertical-align: top;\n",
       "    }\n",
       "</style>\n",
       "<table border=\"1\" class=\"dataframe\">\n",
       "  <thead>\n",
       "    <tr style=\"text-align: right;\">\n",
       "      <th></th>\n",
       "      <th>Unnamed: 0</th>\n",
       "      <th>Animation</th>\n",
       "      <th>Character</th>\n",
       "      <th>Enjoyment</th>\n",
       "      <th>Overall</th>\n",
       "      <th>Sound</th>\n",
       "      <th>Story</th>\n",
       "      <th>anime_id</th>\n",
       "      <th>text</th>\n",
       "      <th>unkey</th>\n",
       "      <th>user</th>\n",
       "    </tr>\n",
       "  </thead>\n",
       "  <tbody>\n",
       "    <tr>\n",
       "      <th>40147</th>\n",
       "      <td>40147</td>\n",
       "      <td>7</td>\n",
       "      <td>1</td>\n",
       "      <td>4</td>\n",
       "      <td>3</td>\n",
       "      <td>4</td>\n",
       "      <td>2</td>\n",
       "      <td>25283</td>\n",
       "      <td>Spoilers will be...</td>\n",
       "      <td>252832LongDidntReview</td>\n",
       "      <td>2LongDidntReview</td>\n",
       "    </tr>\n",
       "    <tr>\n",
       "      <th>40148</th>\n",
       "      <td>40148</td>\n",
       "      <td>2</td>\n",
       "      <td>1</td>\n",
       "      <td>1</td>\n",
       "      <td>1</td>\n",
       "      <td>2</td>\n",
       "      <td>1</td>\n",
       "      <td>25283</td>\n",
       "      <td>This anime was d...</td>\n",
       "      <td>25283MachoBro</td>\n",
       "      <td>MachoBro</td>\n",
       "    </tr>\n",
       "    <tr>\n",
       "      <th>40149</th>\n",
       "      <td>40149</td>\n",
       "      <td>9</td>\n",
       "      <td>9</td>\n",
       "      <td>6</td>\n",
       "      <td>7</td>\n",
       "      <td>9</td>\n",
       "      <td>3</td>\n",
       "      <td>25285</td>\n",
       "      <td>Story: not much ...</td>\n",
       "      <td>25285AnimeFan48</td>\n",
       "      <td>AnimeFan48</td>\n",
       "    </tr>\n",
       "    <tr>\n",
       "      <th>40150</th>\n",
       "      <td>40150</td>\n",
       "      <td>6</td>\n",
       "      <td>9</td>\n",
       "      <td>8</td>\n",
       "      <td>7</td>\n",
       "      <td>7</td>\n",
       "      <td>8</td>\n",
       "      <td>25303</td>\n",
       "      <td>If you've ever w...</td>\n",
       "      <td>25303daydreamingninja</td>\n",
       "      <td>daydreamingninja</td>\n",
       "    </tr>\n",
       "    <tr>\n",
       "      <th>40151</th>\n",
       "      <td>40151</td>\n",
       "      <td>9</td>\n",
       "      <td>10</td>\n",
       "      <td>10</td>\n",
       "      <td>9</td>\n",
       "      <td>7</td>\n",
       "      <td>9</td>\n",
       "      <td>25313</td>\n",
       "      <td>10                              Mod Note: This...</td>\n",
       "      <td>25313BlobbertMcN</td>\n",
       "      <td>BlobbertMcN</td>\n",
       "    </tr>\n",
       "  </tbody>\n",
       "</table>\n",
       "</div>"
      ],
      "text/plain": [
       "       Unnamed: 0  Animation  Character  Enjoyment  Overall  Sound  Story  \\\n",
       "40147       40147          7          1          4        3      4      2   \n",
       "40148       40148          2          1          1        1      2      1   \n",
       "40149       40149          9          9          6        7      9      3   \n",
       "40150       40150          6          9          8        7      7      8   \n",
       "40151       40151          9         10         10        9      7      9   \n",
       "\n",
       "       anime_id                                               text  \\\n",
       "40147     25283                                Spoilers will be...   \n",
       "40148     25283                                This anime was d...   \n",
       "40149     25285                                Story: not much ...   \n",
       "40150     25303                                If you've ever w...   \n",
       "40151     25313  10                              Mod Note: This...   \n",
       "\n",
       "                       unkey              user  \n",
       "40147  252832LongDidntReview  2LongDidntReview  \n",
       "40148          25283MachoBro          MachoBro  \n",
       "40149        25285AnimeFan48        AnimeFan48  \n",
       "40150  25303daydreamingninja  daydreamingninja  \n",
       "40151       25313BlobbertMcN       BlobbertMcN  "
      ]
     },
     "execution_count": 3,
     "metadata": {},
     "output_type": "execute_result"
    }
   ],
   "source": [
    "reviews2.tail()"
   ]
  },
  {
   "cell_type": "code",
   "execution_count": 4,
   "metadata": {},
   "outputs": [
    {
     "data": {
      "text/html": [
       "<div>\n",
       "<style>\n",
       "    .dataframe thead tr:only-child th {\n",
       "        text-align: right;\n",
       "    }\n",
       "\n",
       "    .dataframe thead th {\n",
       "        text-align: left;\n",
       "    }\n",
       "\n",
       "    .dataframe tbody tr th {\n",
       "        vertical-align: top;\n",
       "    }\n",
       "</style>\n",
       "<table border=\"1\" class=\"dataframe\">\n",
       "  <thead>\n",
       "    <tr style=\"text-align: right;\">\n",
       "      <th></th>\n",
       "      <th>Unnamed: 0</th>\n",
       "      <th>Animation</th>\n",
       "      <th>Character</th>\n",
       "      <th>Enjoyment</th>\n",
       "      <th>Overall</th>\n",
       "      <th>Sound</th>\n",
       "      <th>Story</th>\n",
       "      <th>anime_id</th>\n",
       "      <th>text</th>\n",
       "      <th>unkey</th>\n",
       "      <th>user</th>\n",
       "    </tr>\n",
       "  </thead>\n",
       "  <tbody>\n",
       "    <tr>\n",
       "      <th>54571</th>\n",
       "      <td>54571</td>\n",
       "      <td>9</td>\n",
       "      <td>8</td>\n",
       "      <td>9</td>\n",
       "      <td>8</td>\n",
       "      <td>8</td>\n",
       "      <td>7</td>\n",
       "      <td>10156</td>\n",
       "      <td>Such harsh revie...</td>\n",
       "      <td>10156Catseyes</td>\n",
       "      <td>Catseyes</td>\n",
       "    </tr>\n",
       "    <tr>\n",
       "      <th>54572</th>\n",
       "      <td>54572</td>\n",
       "      <td>7</td>\n",
       "      <td>3</td>\n",
       "      <td>6</td>\n",
       "      <td>6</td>\n",
       "      <td>6</td>\n",
       "      <td>3</td>\n",
       "      <td>10156</td>\n",
       "      <td>I really should ...</td>\n",
       "      <td>10156Raffinate</td>\n",
       "      <td>Raffinate</td>\n",
       "    </tr>\n",
       "    <tr>\n",
       "      <th>54573</th>\n",
       "      <td>54573</td>\n",
       "      <td>9</td>\n",
       "      <td>6</td>\n",
       "      <td>5</td>\n",
       "      <td>6</td>\n",
       "      <td>7</td>\n",
       "      <td>6</td>\n",
       "      <td>10156</td>\n",
       "      <td>[THIS REVIEW CON...</td>\n",
       "      <td>10156ChioneDyrken</td>\n",
       "      <td>ChioneDyrken</td>\n",
       "    </tr>\n",
       "    <tr>\n",
       "      <th>54574</th>\n",
       "      <td>54574</td>\n",
       "      <td>5</td>\n",
       "      <td>5</td>\n",
       "      <td>3</td>\n",
       "      <td>3</td>\n",
       "      <td>3</td>\n",
       "      <td>3</td>\n",
       "      <td>10156</td>\n",
       "      <td>Honestly this fe...</td>\n",
       "      <td>10156Shaja</td>\n",
       "      <td>Shaja</td>\n",
       "    </tr>\n",
       "    <tr>\n",
       "      <th>54575</th>\n",
       "      <td>54575</td>\n",
       "      <td>9</td>\n",
       "      <td>6</td>\n",
       "      <td>6</td>\n",
       "      <td>7</td>\n",
       "      <td>8</td>\n",
       "      <td>5</td>\n",
       "      <td>10156</td>\n",
       "      <td>Well, a typical ...</td>\n",
       "      <td>10156Jo-izo</td>\n",
       "      <td>Jo-izo</td>\n",
       "    </tr>\n",
       "  </tbody>\n",
       "</table>\n",
       "</div>"
      ],
      "text/plain": [
       "       Unnamed: 0  Animation  Character  Enjoyment  Overall  Sound  Story  \\\n",
       "54571       54571          9          8          9        8      8      7   \n",
       "54572       54572          7          3          6        6      6      3   \n",
       "54573       54573          9          6          5        6      7      6   \n",
       "54574       54574          5          5          3        3      3      3   \n",
       "54575       54575          9          6          6        7      8      5   \n",
       "\n",
       "       anime_id                                               text  \\\n",
       "54571     10156                                Such harsh revie...   \n",
       "54572     10156                                I really should ...   \n",
       "54573     10156                                [THIS REVIEW CON...   \n",
       "54574     10156                                Honestly this fe...   \n",
       "54575     10156                                Well, a typical ...   \n",
       "\n",
       "                   unkey          user  \n",
       "54571      10156Catseyes      Catseyes  \n",
       "54572     10156Raffinate     Raffinate  \n",
       "54573  10156ChioneDyrken  ChioneDyrken  \n",
       "54574         10156Shaja         Shaja  \n",
       "54575        10156Jo-izo        Jo-izo  "
      ]
     },
     "execution_count": 4,
     "metadata": {},
     "output_type": "execute_result"
    }
   ],
   "source": [
    "reviews1.tail()"
   ]
  },
  {
   "cell_type": "code",
   "execution_count": 5,
   "metadata": {},
   "outputs": [
    {
     "data": {
      "text/plain": [
       "(40152, 11)"
      ]
     },
     "execution_count": 5,
     "metadata": {},
     "output_type": "execute_result"
    }
   ],
   "source": [
    "reviews2.shape"
   ]
  },
  {
   "cell_type": "code",
   "execution_count": 6,
   "metadata": {},
   "outputs": [
    {
     "data": {
      "text/plain": [
       "(54576, 11)"
      ]
     },
     "execution_count": 6,
     "metadata": {},
     "output_type": "execute_result"
    }
   ],
   "source": [
    "reviews1.shape"
   ]
  },
  {
   "cell_type": "code",
   "execution_count": 7,
   "metadata": {
    "collapsed": true
   },
   "outputs": [],
   "source": [
    "reviews = pd.concat([reviews1,reviews2]) # we need to merge our two reviews. "
   ]
  },
  {
   "cell_type": "code",
   "execution_count": 8,
   "metadata": {},
   "outputs": [
    {
     "data": {
      "text/plain": [
       "6476"
      ]
     },
     "execution_count": 8,
     "metadata": {},
     "output_type": "execute_result"
    }
   ],
   "source": [
    "reviews.anime_id.nunique()# Let's check and see how many anime have reviews. "
   ]
  },
  {
   "cell_type": "code",
   "execution_count": 9,
   "metadata": {},
   "outputs": [
    {
     "data": {
      "text/plain": [
       "(94728, 11)"
      ]
     },
     "execution_count": 9,
     "metadata": {},
     "output_type": "execute_result"
    }
   ],
   "source": [
    "reviews.shape"
   ]
  },
  {
   "cell_type": "code",
   "execution_count": 10,
   "metadata": {},
   "outputs": [
    {
     "data": {
      "text/plain": [
       "94508"
      ]
     },
     "execution_count": 10,
     "metadata": {},
     "output_type": "execute_result"
    }
   ],
   "source": [
    "reviews.unkey.nunique()#let's make sure that we don't have any duplicate reviews. "
   ]
  },
  {
   "cell_type": "code",
   "execution_count": 11,
   "metadata": {
    "collapsed": true
   },
   "outputs": [],
   "source": [
    "# we only have 220 duplicate reviews"
   ]
  },
  {
   "cell_type": "code",
   "execution_count": 12,
   "metadata": {
    "collapsed": true
   },
   "outputs": [],
   "source": [
    "reviews.drop_duplicates(subset='unkey',inplace=True)"
   ]
  },
  {
   "cell_type": "code",
   "execution_count": 13,
   "metadata": {},
   "outputs": [
    {
     "data": {
      "text/plain": [
       "(94508, 11)"
      ]
     },
     "execution_count": 13,
     "metadata": {},
     "output_type": "execute_result"
    }
   ],
   "source": [
    "reviews.shape# our shape is now the number of unique keys. "
   ]
  },
  {
   "cell_type": "markdown",
   "metadata": {},
   "source": [
    "Now that we've cleaned our review data, what we want is a single text string for every distinct anime. "
   ]
  },
  {
   "cell_type": "code",
   "execution_count": 14,
   "metadata": {
    "collapsed": true
   },
   "outputs": [],
   "source": [
    "anime_ids = reviews.anime_id.unique()"
   ]
  },
  {
   "cell_type": "code",
   "execution_count": 15,
   "metadata": {
    "collapsed": true
   },
   "outputs": [],
   "source": [
    "mergedreviewlist =[]\n"
   ]
  },
  {
   "cell_type": "code",
   "execution_count": 16,
   "metadata": {},
   "outputs": [],
   "source": [
    "animeinfo= pd.read_csv('animeinfo3.csv')"
   ]
  },
  {
   "cell_type": "code",
   "execution_count": 17,
   "metadata": {},
   "outputs": [],
   "source": [
    "anime_names = pd.read_csv('animeinfo3.csv').set_index('animeid')['name'].to_dict()"
   ]
  },
  {
   "cell_type": "code",
   "execution_count": 19,
   "metadata": {},
   "outputs": [
    {
     "name": "stderr",
     "output_type": "stream",
     "text": [
      "100%|██████████| 6476/6476 [00:24<00:00, 263.44it/s]\n"
     ]
    }
   ],
   "source": [
    "for num in tqdm(range(len(anime_ids))): # We go through the list of unique anime ids, then we make a single dictionary object with all of the reviews as text. \n",
    "    animerevdict = {}\n",
    "    tempstr = ''\n",
    "    tempdf = reviews[reviews['anime_id']==anime_ids[num]]\n",
    "    #print(tempdf.shape[0])\n",
    "    for revnum in range(tempdf.shape[0]):\n",
    "        \n",
    "        anime_name = anime_names[anime_ids[num]]\n",
    "        str_name_anime_in =str(tempdf.iloc[revnum]['text']) \n",
    "        str_stripped= str_name_anime_in.replace(anime_name,'anime_name')\n",
    "        \n",
    "        tempstr = tempstr + str_stripped\n",
    "    animerevdict['anime_id']= anime_ids[num]\n",
    "    animerevdict['revtext']=tempstr\n",
    "    mergedreviewlist.append(animerevdict)"
   ]
  },
  {
   "cell_type": "code",
   "execution_count": null,
   "metadata": {},
   "outputs": [],
   "source": []
  },
  {
   "cell_type": "code",
   "execution_count": 21,
   "metadata": {
    "collapsed": true
   },
   "outputs": [],
   "source": [
    "reviews_to_vec = pd.DataFrame(mergedreviewlist)"
   ]
  },
  {
   "cell_type": "code",
   "execution_count": null,
   "metadata": {},
   "outputs": [],
   "source": [
    "reviews_to_vec.loc[2]['revtext']"
   ]
  },
  {
   "cell_type": "code",
   "execution_count": 23,
   "metadata": {},
   "outputs": [
    {
     "data": {
      "text/html": [
       "<div>\n",
       "<style>\n",
       "    .dataframe thead tr:only-child th {\n",
       "        text-align: right;\n",
       "    }\n",
       "\n",
       "    .dataframe thead th {\n",
       "        text-align: left;\n",
       "    }\n",
       "\n",
       "    .dataframe tbody tr th {\n",
       "        vertical-align: top;\n",
       "    }\n",
       "</style>\n",
       "<table border=\"1\" class=\"dataframe\">\n",
       "  <thead>\n",
       "    <tr style=\"text-align: right;\">\n",
       "      <th></th>\n",
       "      <th>anime_id</th>\n",
       "      <th>revtext</th>\n",
       "    </tr>\n",
       "  </thead>\n",
       "  <tbody>\n",
       "    <tr>\n",
       "      <th>0</th>\n",
       "      <td>1</td>\n",
       "      <td>ent9                              People who k...</td>\n",
       "    </tr>\n",
       "    <tr>\n",
       "      <th>1</th>\n",
       "      <td>32772</td>\n",
       "      <td>Okay, since most...</td>\n",
       "    </tr>\n",
       "    <tr>\n",
       "      <th>2</th>\n",
       "      <td>6</td>\n",
       "      <td>ent10                              anime_name ...</td>\n",
       "    </tr>\n",
       "    <tr>\n",
       "      <th>3</th>\n",
       "      <td>7</td>\n",
       "      <td>9                              anime_name (WHR...</td>\n",
       "    </tr>\n",
       "    <tr>\n",
       "      <th>4</th>\n",
       "      <td>8</td>\n",
       "      <td>What can I say a...</td>\n",
       "    </tr>\n",
       "  </tbody>\n",
       "</table>\n",
       "</div>"
      ],
      "text/plain": [
       "   anime_id                                            revtext\n",
       "0         1  ent9                              People who k...\n",
       "1     32772                                Okay, since most...\n",
       "2         6  ent10                              anime_name ...\n",
       "3         7  9                              anime_name (WHR...\n",
       "4         8                                What can I say a..."
      ]
     },
     "execution_count": 23,
     "metadata": {},
     "output_type": "execute_result"
    }
   ],
   "source": [
    "reviews_to_vec.head()"
   ]
  },
  {
   "cell_type": "code",
   "execution_count": 24,
   "metadata": {
    "collapsed": true
   },
   "outputs": [],
   "source": [
    "stopwords = ['another','anime','the','that','and','to','genre','show','fan','thing','manga', 'season','second', 'anime_name' ]"
   ]
  },
  {
   "cell_type": "code",
   "execution_count": 25,
   "metadata": {
    "collapsed": true
   },
   "outputs": [],
   "source": [
    "tfidf = TfidfVectorizer(ngram_range=[1,3],stop_words=stopwords,)\n",
    "tfidf2 = TfidfVectorizer(ngram_range=[1,3],stop_words=stopwords,binary=True)\n",
    "tfidf3 = TfidfVectorizer(ngram_range=[1,3],stop_words=stopwords,max_features=900)\n",
    "tfidf4 = TfidfVectorizer(ngram_range=[1,3],stop_words=stopwords,binary=True, max_features=600)# max features 600 and binary true will not produce a good output together"
   ]
  },
  {
   "cell_type": "code",
   "execution_count": null,
   "metadata": {
    "collapsed": true
   },
   "outputs": [],
   "source": [
    "\n",
    "#anime_review_words4 = tfidf4.fit_transform(reviews_to_vec['revtext']) # this experiment generated a result of 1 for too many things, "
   ]
  },
  {
   "cell_type": "code",
   "execution_count": 26,
   "metadata": {
    "collapsed": true
   },
   "outputs": [],
   "source": [
    "anime_review_words3 = tfidf3.fit_transform(reviews_to_vec['revtext'])# this will take a very long time "
   ]
  },
  {
   "cell_type": "code",
   "execution_count": 35,
   "metadata": {
    "collapsed": true
   },
   "outputs": [],
   "source": [
    "anime_review_words2 = tfidf2.fit_transform(reviews_to_vec['revtext'])# this will take a very long time "
   ]
  },
  {
   "cell_type": "code",
   "execution_count": null,
   "metadata": {
    "collapsed": true
   },
   "outputs": [],
   "source": [
    "anime_review_words1 = tfidf.fit_transform(reviews_to_vec['revtext'])# this will take a very long time "
   ]
  },
  {
   "cell_type": "code",
   "execution_count": null,
   "metadata": {
    "collapsed": true
   },
   "outputs": [],
   "source": [
    "tempdf = reviews[reviews['anime_id']==anime_ids[num]]"
   ]
  },
  {
   "cell_type": "code",
   "execution_count": null,
   "metadata": {
    "collapsed": true
   },
   "outputs": [],
   "source": [
    "rev1cos =cosine_similarity(anime_review_words1)\n",
    "reviews_to_vec.to_csv('reviews_to_vectorize.csv')\n"
   ]
  },
  {
   "cell_type": "code",
   "execution_count": 28,
   "metadata": {
    "collapsed": true
   },
   "outputs": [],
   "source": [
    "animeinfo= pd.read_csv('animeinfo3.csv')\n",
    "animenames=pd.merge(reviews_to_vec,animeinfo,left_on='anime_id',right_on='animeid')"
   ]
  },
  {
   "cell_type": "code",
   "execution_count": null,
   "metadata": {
    "collapsed": true
   },
   "outputs": [],
   "source": [
    "rev1_sim_cos_df = pd.DataFrame(rev1cos, index=animenames.name.values , columns=animenames.name.values)"
   ]
  },
  {
   "cell_type": "code",
   "execution_count": null,
   "metadata": {},
   "outputs": [],
   "source": [
    "rev1_sim_cos_df.loc[:,'Death Note'].sort_values()[-20:]"
   ]
  },
  {
   "cell_type": "code",
   "execution_count": null,
   "metadata": {},
   "outputs": [],
   "source": [
    "rev1_sim_cos_df.loc[:,'Sword Art Online'].sort_values()[-20:]"
   ]
  },
  {
   "cell_type": "code",
   "execution_count": null,
   "metadata": {},
   "outputs": [],
   "source": [
    "rev1_sim_cos_df.loc[:,'Girls und Panzer'].sort_values()[-20:]"
   ]
  },
  {
   "cell_type": "code",
   "execution_count": null,
   "metadata": {},
   "outputs": [],
   "source": [
    "rev1_sim_cos_df.loc[:,'Katanagatari'].sort_values()[-20:]"
   ]
  },
  {
   "cell_type": "code",
   "execution_count": null,
   "metadata": {},
   "outputs": [],
   "source": [
    "rev1_sim_cos_df.loc[:,'One Punch Man'].sort_values()[-20:]"
   ]
  },
  {
   "cell_type": "code",
   "execution_count": null,
   "metadata": {},
   "outputs": [],
   "source": [
    "rev1_sim_cos_df.loc[:,'Another'].sort_values()[-20:]"
   ]
  },
  {
   "cell_type": "code",
   "execution_count": null,
   "metadata": {},
   "outputs": [],
   "source": [
    "rev1_sim_cos_df.loc[:,'Girls und Panzer'].sort_values()[-20:]"
   ]
  },
  {
   "cell_type": "code",
   "execution_count": null,
   "metadata": {},
   "outputs": [],
   "source": [
    "rev1_sim_cos_df.loc[:,'Katanagatari'].sort_values()[-20:]"
   ]
  },
  {
   "cell_type": "code",
   "execution_count": 37,
   "metadata": {
    "collapsed": true
   },
   "outputs": [],
   "source": [
    "rev2cos =cosine_similarity(anime_review_words2)"
   ]
  },
  {
   "cell_type": "code",
   "execution_count": 38,
   "metadata": {
    "collapsed": true
   },
   "outputs": [],
   "source": [
    "rev2_sim_cos_df = pd.DataFrame(rev2cos, index=animenames.name.values , columns=animenames.name.values)"
   ]
  },
  {
   "cell_type": "code",
   "execution_count": 39,
   "metadata": {},
   "outputs": [
    {
     "data": {
      "text/plain": [
       "Ano Hi Mita Hana no Namae wo Bokutachi wa Mada Shiranai.    0.032295\n",
       "Guilty Crown                                                0.032316\n",
       "Sakurasou no Pet na Kanojo                                  0.032325\n",
       "Shinsekai yori                                              0.032412\n",
       "Sword Art Online                                            0.032477\n",
       "Charlotte                                                   0.032492\n",
       "Fairy Tail                                                  0.032603\n",
       "Hunter x Hunter (2011)                                      0.032639\n",
       "Durarara!!                                                  0.033026\n",
       "Another                                                     0.033264\n",
       "Highschool of the Dead                                      0.033346\n",
       "Steins;Gate                                                 0.033365\n",
       "Kill la Kill                                                0.033432\n",
       "Clannad                                                     0.033533\n",
       "Akame ga Kill!                                              0.033593\n",
       "Mahou Shoujo Madoka★Magica                                  0.033754\n",
       "K-On!                                                       0.033890\n",
       "Shingeki no Kyojin                                          0.034225\n",
       "Angel Beats!                                                0.035352\n",
       "Girls und Panzer                                            1.000000\n",
       "Name: Girls und Panzer, dtype: float64"
      ]
     },
     "execution_count": 39,
     "metadata": {},
     "output_type": "execute_result"
    }
   ],
   "source": [
    "rev2_sim_cos_df.loc[:,'Girls und Panzer'].sort_values()[-20:]"
   ]
  },
  {
   "cell_type": "code",
   "execution_count": 40,
   "metadata": {},
   "outputs": [
    {
     "data": {
      "text/plain": [
       "Tokyo Ghoul                              0.049956\n",
       "Charlotte                                0.050207\n",
       "Neon Genesis Evangelion                  0.050209\n",
       "School Days                              0.050259\n",
       "Clannad                                  0.050469\n",
       "Shigatsu wa Kimi no Uso                  0.050787\n",
       "One Piece                                0.051518\n",
       "Mahou Shoujo Madoka★Magica               0.051967\n",
       "Fairy Tail                               0.052103\n",
       "Guilty Crown                             0.052807\n",
       "Akame ga Kill!                           0.053000\n",
       "Boku dake ga Inai Machi                  0.053236\n",
       "Hunter x Hunter (2011)                   0.054601\n",
       "Re:Zero kara Hajimeru Isekai Seikatsu    0.054977\n",
       "Death Note                               0.055053\n",
       "Steins;Gate                              0.055337\n",
       "Angel Beats!                             0.057018\n",
       "Shingeki no Kyojin                       0.058860\n",
       "Sword Art Online                         0.060257\n",
       "One Punch Man                            1.000000\n",
       "Name: One Punch Man, dtype: float64"
      ]
     },
     "execution_count": 40,
     "metadata": {},
     "output_type": "execute_result"
    }
   ],
   "source": [
    "rev2_sim_cos_df.loc[:,'One Punch Man'].sort_values()[-20:]"
   ]
  },
  {
   "cell_type": "code",
   "execution_count": 41,
   "metadata": {},
   "outputs": [
    {
     "data": {
      "text/plain": [
       "Ano Hi Mita Hana no Namae wo Bokutachi wa Mada Shiranai.    0.047904\n",
       "Higurashi no Naku Koro ni                                   0.048268\n",
       "Neon Genesis Evangelion                                     0.048528\n",
       "Shigatsu wa Kimi no Uso                                     0.049579\n",
       "Guilty Crown                                                0.049614\n",
       "Another                                                     0.049678\n",
       "Shinsekai yori                                              0.049702\n",
       "Elfen Lied                                                  0.049749\n",
       "Boku dake ga Inai Machi                                     0.049751\n",
       "Durarara!!                                                  0.049859\n",
       "School Days                                                 0.050417\n",
       "Re:Zero kara Hajimeru Isekai Seikatsu                       0.051126\n",
       "Shingeki no Kyojin                                          0.051350\n",
       "Death Note                                                  0.051389\n",
       "Clannad                                                     0.051849\n",
       "Mahou Shoujo Madoka★Magica                                  0.052553\n",
       "Angel Beats!                                                0.053776\n",
       "Steins;Gate                                                 0.053935\n",
       "Sword Art Online                                            0.054119\n",
       "Bakemonogatari                                              1.000000\n",
       "Name: Bakemonogatari, dtype: float64"
      ]
     },
     "execution_count": 41,
     "metadata": {},
     "output_type": "execute_result"
    }
   ],
   "source": [
    "rev2_sim_cos_df.loc[:,'Bakemonogatari'].sort_values()[-20:]"
   ]
  },
  {
   "cell_type": "code",
   "execution_count": 42,
   "metadata": {},
   "outputs": [
    {
     "data": {
      "text/plain": [
       "Shinsekai yori                           0.060771\n",
       "Neon Genesis Evangelion                  0.061303\n",
       "Another                                  0.061337\n",
       "Clannad                                  0.061427\n",
       "Hunter x Hunter (2011)                   0.062043\n",
       "Charlotte                                0.062125\n",
       "Elfen Lied                               0.063369\n",
       "Shigatsu wa Kimi no Uso                  0.063916\n",
       "Akame ga Kill!                           0.065055\n",
       "Mahou Shoujo Madoka★Magica               0.065600\n",
       "School Days                              0.067488\n",
       "Boku dake ga Inai Machi                  0.068118\n",
       "Guilty Crown                             0.068563\n",
       "Death Note                               0.068746\n",
       "Steins;Gate                              0.069966\n",
       "Re:Zero kara Hajimeru Isekai Seikatsu    0.072313\n",
       "Sword Art Online II                      0.072765\n",
       "Shingeki no Kyojin                       0.073761\n",
       "Angel Beats!                             0.075092\n",
       "Sword Art Online                         1.000000\n",
       "Name: Sword Art Online, dtype: float64"
      ]
     },
     "execution_count": 42,
     "metadata": {},
     "output_type": "execute_result"
    }
   ],
   "source": [
    "rev2_sim_cos_df.loc[:,'Sword Art Online'].sort_values()[-20:]"
   ]
  },
  {
   "cell_type": "code",
   "execution_count": 43,
   "metadata": {},
   "outputs": [
    {
     "data": {
      "text/plain": [
       "Shigatsu wa Kimi no Uso                  0.042919\n",
       "Boku dake ga Inai Machi                  0.042979\n",
       "Baccano!                                 0.043056\n",
       "Another                                  0.043066\n",
       "One Punch Man                            0.043095\n",
       "Clannad                                  0.043153\n",
       "Bakemonogatari                           0.043602\n",
       "Durarara!!                               0.043618\n",
       "Guilty Crown                             0.044031\n",
       "Re:Zero kara Hajimeru Isekai Seikatsu    0.044097\n",
       "Shinsekai yori                           0.044293\n",
       "Akame ga Kill!                           0.044319\n",
       "Sword Art Online                         0.044468\n",
       "Death Note                               0.044768\n",
       "Mahou Shoujo Madoka★Magica               0.044921\n",
       "Hunter x Hunter (2011)                   0.045599\n",
       "Shingeki no Kyojin                       0.045768\n",
       "Steins;Gate                              0.046008\n",
       "Angel Beats!                             0.046753\n",
       "Katanagatari                             1.000000\n",
       "Name: Katanagatari, dtype: float64"
      ]
     },
     "execution_count": 43,
     "metadata": {},
     "output_type": "execute_result"
    }
   ],
   "source": [
    "rev2_sim_cos_df.loc[:,'Katanagatari'].sort_values()[-20:]"
   ]
  },
  {
   "cell_type": "code",
   "execution_count": 44,
   "metadata": {},
   "outputs": [
    {
     "data": {
      "text/plain": [
       "Clannad                     0.025077\n",
       "Sakamichi no Apollon        0.025085\n",
       "Ergo Proxy                  0.025089\n",
       "Hai to Gensou no Grimgar    0.025097\n",
       "Ookami to Koushinryou       0.025129\n",
       "Steins;Gate                 0.025131\n",
       "Zankyou no Terror           0.025165\n",
       "Haibane Renmei              0.025211\n",
       "Cowboy Bebop                0.025417\n",
       "Death Parade                0.025490\n",
       "Shinsekai yori              0.025579\n",
       "Psycho-Pass                 0.025726\n",
       "Baccano!                    0.025972\n",
       "Hyouka                      0.026055\n",
       "Monster                     0.026190\n",
       "Katanagatari                0.026448\n",
       "Durarara!!                  0.026919\n",
       "Samurai Champloo            0.026992\n",
       "Mushishi                    0.027217\n",
       "Saraiya Goyou               1.000000\n",
       "Name: Saraiya Goyou, dtype: float64"
      ]
     },
     "execution_count": 44,
     "metadata": {},
     "output_type": "execute_result"
    }
   ],
   "source": [
    "rev2_sim_cos_df.loc[:,'Saraiya Goyou'].sort_values()[-20:]"
   ]
  },
  {
   "cell_type": "code",
   "execution_count": 45,
   "metadata": {},
   "outputs": [
    {
     "data": {
      "text/plain": [
       "ReLIFE                                                       0.029723\n",
       "Steins;Gate                                                  0.029764\n",
       "Fairy Tail                                                   0.029924\n",
       "Ping Pong The Animation                                      0.029941\n",
       "Clannad                                                      0.029970\n",
       "Shigatsu wa Kimi no Uso                                      0.029981\n",
       "Shingeki no Kyojin                                           0.030108\n",
       "Boku no Hero Academia                                        0.030151\n",
       "One Punch Man                                                0.030302\n",
       "Ano Hi Mita Hana no Namae wo Bokutachi wa Mada Shiranai.     0.030391\n",
       "Sakurasou no Pet na Kanojo                                   0.030414\n",
       "Durarara!!                                                   0.030509\n",
       "Angel Beats!                                                 0.030618\n",
       "Hunter x Hunter (2011)                                       0.030887\n",
       "Diamond no Ace                                               0.031478\n",
       "Chihayafuru                                                  0.031702\n",
       "Kuroko no Basket                                             0.035348\n",
       "Haikyuu!!: Karasuno Koukou VS Shiratorizawa Gakuen Koukou    0.056495\n",
       "Haikyuu!!                                                    0.059525\n",
       "Haikyuu!! Second Season                                      1.000000\n",
       "Name: Haikyuu!! Second Season, dtype: float64"
      ]
     },
     "execution_count": 45,
     "metadata": {},
     "output_type": "execute_result"
    }
   ],
   "source": [
    "rev2_sim_cos_df.loc[:,'Haikyuu!! Second Season'].sort_values()[-20:]"
   ]
  },
  {
   "cell_type": "code",
   "execution_count": 29,
   "metadata": {},
   "outputs": [],
   "source": [
    "rev3cos =cosine_similarity(anime_review_words3)\n",
    "rev3_sim_cos_df = pd.DataFrame(rev3cos, index=animenames.name.values , columns=animenames.name.values)"
   ]
  },
  {
   "cell_type": "code",
   "execution_count": 30,
   "metadata": {},
   "outputs": [
    {
     "data": {
      "text/plain": [
       "Neon Genesis Evangelion               0.946979\n",
       "Kuroshitsuji                          0.947289\n",
       "Pandora Hearts                        0.947341\n",
       "Durarara!!                            0.947375\n",
       "Tokyo Ghoul                           0.947389\n",
       "Steins;Gate                           0.947703\n",
       "Trigun                                0.947941\n",
       "Guilty Crown                          0.948008\n",
       "Tengen Toppa Gurren Lagann            0.948038\n",
       "Deadman Wonderland                    0.948632\n",
       "Ajin                                  0.948639\n",
       "Higashi no Eden                       0.949293\n",
       "Eureka Seven                          0.949478\n",
       "Kenpuu Denki Berserk                  0.949621\n",
       "Psycho-Pass                           0.950435\n",
       "Shingeki no Kyojin                    0.950739\n",
       "Code Geass: Hangyaku no Lelouch R2    0.956811\n",
       "Monster                               0.957061\n",
       "Code Geass: Hangyaku no Lelouch       0.959507\n",
       "Death Note                            1.000000\n",
       "Name: Death Note, dtype: float64"
      ]
     },
     "execution_count": 30,
     "metadata": {},
     "output_type": "execute_result"
    }
   ],
   "source": [
    "rev3_sim_cos_df.loc[:,'Death Note'].sort_values()[-20:]"
   ]
  },
  {
   "cell_type": "code",
   "execution_count": 31,
   "metadata": {},
   "outputs": [
    {
     "data": {
      "text/plain": [
       "Freezing                        0.950922\n",
       "Black Bullet                    0.950982\n",
       "Flip Flappers                   0.951903\n",
       "Love Lab                        0.951959\n",
       "Upotte!!                        0.952152\n",
       "Strawberry Panic                0.952615\n",
       "Vividred Operation              0.953387\n",
       "Shirobako                       0.953632\n",
       "Lucky☆Star                      0.954153\n",
       "Hibike! Euphonium               0.955191\n",
       "K-On!!                          0.955983\n",
       "K-On!                           0.956498\n",
       "Yuuki Yuuna wa Yuusha de Aru    0.957138\n",
       "Highschool of the Dead          0.957623\n",
       "Gakkougurashi!                  0.957865\n",
       "Sakura Trick                    0.958905\n",
       "Gunslinger Girl                 0.961120\n",
       "Strike Witches                  0.964879\n",
       "High School Fleet               0.972705\n",
       "Girls und Panzer                1.000000\n",
       "Name: Girls und Panzer, dtype: float64"
      ]
     },
     "execution_count": 31,
     "metadata": {},
     "output_type": "execute_result"
    }
   ],
   "source": [
    "rev3_sim_cos_df.loc[:,'Girls und Panzer'].sort_values()[-20:]"
   ]
  },
  {
   "cell_type": "code",
   "execution_count": 32,
   "metadata": {},
   "outputs": [
    {
     "data": {
      "text/plain": [
       "Tokyo Ghoul √A                      0.963883\n",
       "Fate/stay night                     0.964029\n",
       "Shakugan no Shana                   0.964034\n",
       "Deadman Wonderland                  0.964544\n",
       "Phantom: Requiem for the Phantom    0.964862\n",
       "Eureka Seven                        0.964936\n",
       "Quanzhi Gaoshou                     0.964940\n",
       "Gantz                               0.965026\n",
       "Overlord                            0.965625\n",
       "Koutetsujou no Kabaneri             0.965909\n",
       "Charlotte                           0.966076\n",
       "Shingeki no Kyojin                  0.966080\n",
       "Tokyo Ghoul                         0.966615\n",
       "Black Bullet                        0.967811\n",
       "God Eater                           0.969963\n",
       "Log Horizon                         0.971295\n",
       "Guilty Crown                        0.971753\n",
       "Accel World                         0.976045\n",
       "Btooom!                             0.976880\n",
       "Sword Art Online                    1.000000\n",
       "Name: Sword Art Online, dtype: float64"
      ]
     },
     "execution_count": 32,
     "metadata": {},
     "output_type": "execute_result"
    }
   ],
   "source": [
    "rev3_sim_cos_df.loc[:,'Sword Art Online'].sort_values()[-20:]"
   ]
  },
  {
   "cell_type": "code",
   "execution_count": 33,
   "metadata": {},
   "outputs": [
    {
     "data": {
      "text/plain": [
       "Bokurano                      0.972094\n",
       "Shiki                         0.972279\n",
       "Shinsekai yori                0.972524\n",
       "Mousou Dairinin               0.972621\n",
       "Claymore                      0.972764\n",
       "Fate/Zero                     0.973001\n",
       "Ergo Proxy                    0.973610\n",
       "Tengen Toppa Gurren Lagann    0.973772\n",
       "Bakemonogatari                0.973989\n",
       "Eureka Seven                  0.974446\n",
       "Cowboy Bebop                  0.975275\n",
       "Mawaru Penguindrum            0.975449\n",
       "Neon Genesis Evangelion       0.975746\n",
       "Nanatsu no Taizai             0.975819\n",
       "Kekkai Sensen                 0.976308\n",
       "Psycho-Pass                   0.976663\n",
       "Durarara!!                    0.977811\n",
       "Samurai Champloo              0.978640\n",
       "Shingeki no Kyojin            0.979881\n",
       "Katanagatari                  1.000000\n",
       "Name: Katanagatari, dtype: float64"
      ]
     },
     "execution_count": 33,
     "metadata": {},
     "output_type": "execute_result"
    }
   ],
   "source": [
    "rev3_sim_cos_df.loc[:,'Katanagatari'].sort_values()[-20:]"
   ]
  },
  {
   "cell_type": "code",
   "execution_count": 34,
   "metadata": {},
   "outputs": [
    {
     "data": {
      "text/plain": [
       "K                                                            0.960760\n",
       "Magi: The Labyrinth of Magic                                 0.961370\n",
       "Fullmetal Alchemist: Brotherhood                             0.961427\n",
       "Rainbow: Nisha Rokubou no Shichinin                          0.961429\n",
       "Prince of Stride: Alternative                                0.961707\n",
       "Mawaru Penguindrum                                           0.961833\n",
       "Phantom: Requiem for the Phantom                             0.962400\n",
       "Bokurano                                                     0.963304\n",
       "Fullmetal Alchemist                                          0.963534\n",
       "Shiki                                                        0.963872\n",
       "Kokoro Connect                                               0.963901\n",
       "Angel Beats!                                                 0.964423\n",
       "Ansatsu Kyoushitsu (TV) 2nd Season                           0.965014\n",
       "Nanatsu no Taizai                                            0.965119\n",
       "Haikyuu!!: Karasuno Koukou VS Shiratorizawa Gakuen Koukou    0.966248\n",
       "Durarara!!                                                   0.968434\n",
       "Shingeki no Kyojin                                           0.969196\n",
       "Kuroko no Basket                                             0.972413\n",
       "Haikyuu!!                                                    0.977556\n",
       "Haikyuu!! Second Season                                      1.000000\n",
       "Name: Haikyuu!! Second Season, dtype: float64"
      ]
     },
     "execution_count": 34,
     "metadata": {},
     "output_type": "execute_result"
    }
   ],
   "source": [
    "rev3_sim_cos_df.loc[:,'Haikyuu!! Second Season'].sort_values()[-20:]"
   ]
  },
  {
   "cell_type": "code",
   "execution_count": 36,
   "metadata": {},
   "outputs": [
    {
     "data": {
      "text/plain": [
       "Ghost Hunt                    0.971931\n",
       "Air                           0.971942\n",
       "FLCL                          0.972058\n",
       "Sakurasou no Pet na Kanojo    0.973214\n",
       "Mawaru Penguindrum            0.973865\n",
       "Katanagatari                  0.973989\n",
       "Ergo Proxy                    0.974161\n",
       "Nisemonogatari                0.974669\n",
       "Elfen Lied                    0.974880\n",
       "Higurashi no Naku Koro ni     0.975073\n",
       "Nanatsu no Taizai             0.975275\n",
       "Psycho-Pass                   0.975927\n",
       "Shingeki no Kyojin            0.975930\n",
       "Neon Genesis Evangelion       0.976631\n",
       "Ookami to Koushinryou         0.977277\n",
       "Kanon (2006)                  0.977301\n",
       "Shokugeki no Souma            0.977888\n",
       "Clannad                       0.978652\n",
       "Durarara!!                    0.978705\n",
       "Bakemonogatari                1.000000\n",
       "Name: Bakemonogatari, dtype: float64"
      ]
     },
     "execution_count": 36,
     "metadata": {},
     "output_type": "execute_result"
    }
   ],
   "source": [
    "rev3_sim_cos_df.loc[:,'Bakemonogatari'].sort_values()[-20:]"
   ]
  },
  {
   "cell_type": "code",
   "execution_count": null,
   "metadata": {
    "collapsed": true
   },
   "outputs": [],
   "source": []
  },
  {
   "cell_type": "code",
   "execution_count": null,
   "metadata": {},
   "outputs": [],
   "source": [
    "\n"
   ]
  },
  {
   "cell_type": "code",
   "execution_count": null,
   "metadata": {
    "collapsed": true
   },
   "outputs": [],
   "source": [
    "\n"
   ]
  },
  {
   "cell_type": "code",
   "execution_count": null,
   "metadata": {
    "collapsed": true
   },
   "outputs": [],
   "source": [
    "\n"
   ]
  },
  {
   "cell_type": "code",
   "execution_count": null,
   "metadata": {
    "collapsed": true
   },
   "outputs": [],
   "source": [
    "\n"
   ]
  },
  {
   "cell_type": "code",
   "execution_count": null,
   "metadata": {
    "collapsed": true
   },
   "outputs": [],
   "source": []
  },
  {
   "cell_type": "code",
   "execution_count": null,
   "metadata": {},
   "outputs": [],
   "source": []
  },
  {
   "cell_type": "code",
   "execution_count": null,
   "metadata": {},
   "outputs": [],
   "source": []
  }
 ],
 "metadata": {
  "kernelspec": {
   "display_name": "Python 3",
   "language": "python",
   "name": "python3"
  },
  "language_info": {
   "codemirror_mode": {
    "name": "ipython",
    "version": 3
   },
   "file_extension": ".py",
   "mimetype": "text/x-python",
   "name": "python",
   "nbconvert_exporter": "python",
   "pygments_lexer": "ipython3",
   "version": "3.6.1"
  }
 },
 "nbformat": 4,
 "nbformat_minor": 2
}
