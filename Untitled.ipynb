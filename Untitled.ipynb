{
 "cells": [
  {
   "cell_type": "code",
   "execution_count": 1,
   "metadata": {
    "collapsed": true
   },
   "outputs": [],
   "source": [
    "import pandas as pd"
   ]
  },
  {
   "cell_type": "code",
   "execution_count": 2,
   "metadata": {
    "collapsed": true
   },
   "outputs": [],
   "source": [
    "review  = pd.read_csv('animeedascores.csv')"
   ]
  },
  {
   "cell_type": "code",
   "execution_count": 3,
   "metadata": {},
   "outputs": [
    {
     "data": {
      "text/html": [
       "<div>\n",
       "<style>\n",
       "    .dataframe thead tr:only-child th {\n",
       "        text-align: right;\n",
       "    }\n",
       "\n",
       "    .dataframe thead th {\n",
       "        text-align: left;\n",
       "    }\n",
       "\n",
       "    .dataframe tbody tr th {\n",
       "        vertical-align: top;\n",
       "    }\n",
       "</style>\n",
       "<table border=\"1\" class=\"dataframe\">\n",
       "  <thead>\n",
       "    <tr style=\"text-align: right;\">\n",
       "      <th></th>\n",
       "      <th>Unnamed: 0</th>\n",
       "      <th>Unnamed: 0.1</th>\n",
       "      <th>animeid</th>\n",
       "      <th>animescore</th>\n",
       "      <th>index</th>\n",
       "      <th>name</th>\n",
       "      <th>status</th>\n",
       "      <th>unkey</th>\n",
       "    </tr>\n",
       "  </thead>\n",
       "  <tbody>\n",
       "    <tr>\n",
       "      <th>0</th>\n",
       "      <td>0</td>\n",
       "      <td>0</td>\n",
       "      <td>32878</td>\n",
       "      <td>0</td>\n",
       "      <td>palelion</td>\n",
       "      <td>palelion</td>\n",
       "      <td>CONSUMING</td>\n",
       "      <td>32878palelion</td>\n",
       "    </tr>\n",
       "    <tr>\n",
       "      <th>1</th>\n",
       "      <td>1</td>\n",
       "      <td>1</td>\n",
       "      <td>31964</td>\n",
       "      <td>0</td>\n",
       "      <td>palelion</td>\n",
       "      <td>palelion</td>\n",
       "      <td>CONSUMING</td>\n",
       "      <td>31964palelion</td>\n",
       "    </tr>\n",
       "    <tr>\n",
       "      <th>2</th>\n",
       "      <td>2</td>\n",
       "      <td>2</td>\n",
       "      <td>13367</td>\n",
       "      <td>0</td>\n",
       "      <td>palelion</td>\n",
       "      <td>palelion</td>\n",
       "      <td>CONSUMING</td>\n",
       "      <td>13367palelion</td>\n",
       "    </tr>\n",
       "    <tr>\n",
       "      <th>3</th>\n",
       "      <td>3</td>\n",
       "      <td>3</td>\n",
       "      <td>189</td>\n",
       "      <td>0</td>\n",
       "      <td>palelion</td>\n",
       "      <td>palelion</td>\n",
       "      <td>CONSUMING</td>\n",
       "      <td>189palelion</td>\n",
       "    </tr>\n",
       "    <tr>\n",
       "      <th>4</th>\n",
       "      <td>4</td>\n",
       "      <td>4</td>\n",
       "      <td>330</td>\n",
       "      <td>0</td>\n",
       "      <td>palelion</td>\n",
       "      <td>palelion</td>\n",
       "      <td>CONSUMING</td>\n",
       "      <td>330palelion</td>\n",
       "    </tr>\n",
       "  </tbody>\n",
       "</table>\n",
       "</div>"
      ],
      "text/plain": [
       "   Unnamed: 0  Unnamed: 0.1  animeid  animescore     index      name  \\\n",
       "0           0             0    32878           0  palelion  palelion   \n",
       "1           1             1    31964           0  palelion  palelion   \n",
       "2           2             2    13367           0  palelion  palelion   \n",
       "3           3             3      189           0  palelion  palelion   \n",
       "4           4             4      330           0  palelion  palelion   \n",
       "\n",
       "      status          unkey  \n",
       "0  CONSUMING  32878palelion  \n",
       "1  CONSUMING  31964palelion  \n",
       "2  CONSUMING  13367palelion  \n",
       "3  CONSUMING    189palelion  \n",
       "4  CONSUMING    330palelion  "
      ]
     },
     "execution_count": 3,
     "metadata": {},
     "output_type": "execute_result"
    }
   ],
   "source": [
    "review.head()"
   ]
  },
  {
   "cell_type": "code",
   "execution_count": 4,
   "metadata": {},
   "outputs": [
    {
     "data": {
      "text/plain": [
       "11907"
      ]
     },
     "execution_count": 4,
     "metadata": {},
     "output_type": "execute_result"
    }
   ],
   "source": [
    "review.animeid.nunique()"
   ]
  },
  {
   "cell_type": "code",
   "execution_count": 5,
   "metadata": {},
   "outputs": [
    {
     "data": {
      "text/plain": [
       "90516"
      ]
     },
     "execution_count": 5,
     "metadata": {},
     "output_type": "execute_result"
    }
   ],
   "source": [
    "review.name.nunique()"
   ]
  },
  {
   "cell_type": "code",
   "execution_count": 6,
   "metadata": {},
   "outputs": [
    {
     "data": {
      "text/plain": [
       "(8989067, 8)"
      ]
     },
     "execution_count": 6,
     "metadata": {},
     "output_type": "execute_result"
    }
   ],
   "source": [
    "review.shape"
   ]
  }
 ],
 "metadata": {
  "kernelspec": {
   "display_name": "Python 3",
   "language": "python",
   "name": "python3"
  },
  "language_info": {
   "codemirror_mode": {
    "name": "ipython",
    "version": 3
   },
   "file_extension": ".py",
   "mimetype": "text/x-python",
   "name": "python",
   "nbconvert_exporter": "python",
   "pygments_lexer": "ipython3",
   "version": "3.6.1"
  }
 },
 "nbformat": 4,
 "nbformat_minor": 2
}
