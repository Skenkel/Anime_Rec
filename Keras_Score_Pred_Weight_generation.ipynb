{
 "cells": [
  {
   "cell_type": "markdown",
   "metadata": {},
   "source": [
    "# Purpose:\n",
    "This notebook contains the code that is use to generate weights for the three \"Score prediction\" regression neural nets. \n",
    "\n",
    "Each net is trained on a different type of score. The final output of this notebook is the saved keras weights which are used in the final predictor. \n",
    "\n"
   ]
  },
  {
   "cell_type": "code",
   "execution_count": 9,
   "metadata": {
    "scrolled": false
   },
   "outputs": [
    {
     "name": "stdout",
     "output_type": "stream",
     "text": [
      "Thu Sep  7 19:52:42 2017       \r\n",
      "+-----------------------------------------------------------------------------+\r\n",
      "| NVIDIA-SMI 384.69                 Driver Version: 384.69                    |\r\n",
      "|-------------------------------+----------------------+----------------------+\r\n",
      "| GPU  Name        Persistence-M| Bus-Id        Disp.A | Volatile Uncorr. ECC |\r\n",
      "| Fan  Temp  Perf  Pwr:Usage/Cap|         Memory-Usage | GPU-Util  Compute M. |\r\n",
      "|===============================+======================+======================|\r\n",
      "|   0  GeForce GTX 108...  Off  | 00000000:04:00.0 Off |                  N/A |\r\n",
      "| 20%   43C    P0    62W / 250W |     10MiB / 11170MiB |      0%      Default |\r\n",
      "+-------------------------------+----------------------+----------------------+\r\n",
      "                                                                               \r\n",
      "+-----------------------------------------------------------------------------+\r\n",
      "| Processes:                                                       GPU Memory |\r\n",
      "|  GPU       PID  Type  Process name                               Usage      |\r\n",
      "|=============================================================================|\r\n",
      "|  No running processes found                                                 |\r\n",
      "+-----------------------------------------------------------------------------+\r\n"
     ]
    }
   ],
   "source": [
    "!nvidia-smi"
   ]
  },
  {
   "cell_type": "code",
   "execution_count": 10,
   "metadata": {},
   "outputs": [],
   "source": [
    "import numpy as np\n",
    "from keras import backend as K\n",
    "from keras.layers import Input, Embedding, merge\n",
    "import keras.layers\n",
    "from keras.regularizers import l2, l1\n",
    "from keras.layers.core import Flatten, Dense, Dropout, Lambda\n",
    "from keras.models import Sequential, Model\n",
    "from keras.optimizers import SGD, RMSprop, Adam\n",
    "from IPython.display import SVG\n",
    "from keras.utils.vis_utils import model_to_dot\n",
    "#import pydotplus as pydot \n",
    "#import graphviz\n",
    "from keras.utils import plot_model\n",
    "from sklearn.metrics import mean_absolute_error"
   ]
  },
  {
   "cell_type": "code",
   "execution_count": 11,
   "metadata": {
    "collapsed": true
   },
   "outputs": [],
   "source": [
    "import pandas as pd"
   ]
  },
  {
   "cell_type": "code",
   "execution_count": 12,
   "metadata": {
    "collapsed": true
   },
   "outputs": [],
   "source": [
    "ratings_score_train = pd.read_csv('mal_scores_train_nonzero_v2.csv')#  Time to load in all of the data. \n",
    "ratings_score_test = pd.read_csv('mal_scores_test_nonzero_v2.csv')# the v2 version of this data has no \"test\" users who aren't present in the training data. \n",
    "#ratings_no_score_train = pd.read_csv('mal_scores_train_zero.csv') # In prior iterations of this model, this was used to impute scores in a stacked neural net. This did not improve the final recommendations. "
   ]
  },
  {
   "cell_type": "markdown",
   "metadata": {},
   "source": [
    "At this iteration, we can load in a dictionary of user an anime that have been vectorized. Commented out is the code needed to regenerate that dictionary. \n"
   ]
  },
  {
   "cell_type": "code",
   "execution_count": 13,
   "metadata": {},
   "outputs": [],
   "source": [
    "userid2idx=np.load(\"user.npy\").item()\n",
    "animeid2idx=np.load(\"anime.npy\").item()\n",
    "#From prior parts of the model, the user and anime embedding id is stored in this dictionary, to make sure that anime have the same embedding when they are loaded into the recommendation engine.  \n",
    "#userid2idx = {o:i for i,o in enumerate(users)} # is the code redo the dictionary\n",
    "#animeid2idx = {o:i for i,o in enumerate(animes)} # remove missing anime numbers and re-order\n",
    "#np.save(\"user.npy\", userid2idx)\n",
    "#np.save(\"anime.npy\", animeid2idx)\n",
    "#userid mapping\n",
    "#users1 = ratings_score_train.userid.unique()\n",
    "#users2 = ratings_score_test.userid.unique()\n",
    "#users3 = ratings_no_score_train.userid.unique()\n",
    "#animeid mapping\n",
    "#anime1= ratings_score_train.animeid.unique()\n",
    "#anime2=ratings_score_test.animeid.unique()\n",
    "#anime3=ratings_no_score_train.animeid.unique()\n",
    "#animes = set(anime1).union(set(anime2)).union(set(anime3))\n",
    "#users = set(users1).union(set(users2)).union(set(users3))\n"
   ]
  },
  {
   "cell_type": "code",
   "execution_count": 14,
   "metadata": {},
   "outputs": [],
   "source": [
    "n_users = len(userid2idx)\n",
    "n_animes = len(animeid2idx)"
   ]
  },
  {
   "cell_type": "code",
   "execution_count": 16,
   "metadata": {},
   "outputs": [],
   "source": [
    "ratings_score_test['anime_id_emb'] = ratings_score_test.animeid.apply(lambda x: animeid2idx[x])\n",
    "ratings_score_train['anime_id_emb'] = ratings_score_train.animeid.apply(lambda x: animeid2idx[x])\n",
    "#ratings_no_score_train['anime_id_emb'] = ratings_no_score_train.animeid.apply(lambda x: animeid2idx[x])"
   ]
  },
  {
   "cell_type": "code",
   "execution_count": 17,
   "metadata": {},
   "outputs": [
    {
     "data": {
      "text/plain": [
       "230962"
      ]
     },
     "execution_count": 17,
     "metadata": {},
     "output_type": "execute_result"
    }
   ],
   "source": [
    "n_users"
   ]
  },
  {
   "cell_type": "code",
   "execution_count": 18,
   "metadata": {},
   "outputs": [
    {
     "data": {
      "text/plain": [
       "12873"
      ]
     },
     "execution_count": 18,
     "metadata": {},
     "output_type": "execute_result"
    }
   ],
   "source": [
    "n_animes"
   ]
  },
  {
   "cell_type": "code",
   "execution_count": 19,
   "metadata": {
    "collapsed": true
   },
   "outputs": [],
   "source": [
    "ratings_score_test['user_id_emb'] = ratings_score_test.userid.apply(lambda x: userid2idx[x])\n",
    "ratings_score_train['user_id_emb'] = ratings_score_train.userid.apply(lambda x: userid2idx[x])\n",
    "#ratings_no_score_train['user_id_emb'] = ratings_no_score_train.userid.apply(lambda x: userid2idx[x])"
   ]
  },
  {
   "cell_type": "code",
   "execution_count": null,
   "metadata": {
    "collapsed": true
   },
   "outputs": [],
   "source": []
  },
  {
   "cell_type": "code",
   "execution_count": 20,
   "metadata": {
    "collapsed": true
   },
   "outputs": [],
   "source": [
    "n_factors = 36 #changing this number changes how many hidden factors each user and each anime is transformed into. "
   ]
  },
  {
   "cell_type": "markdown",
   "metadata": {
    "collapsed": true
   },
   "source": [
    "## Data Cleaning:\n",
    "After some iteration, the final recommendations are improved by removing certain outliers. "
   ]
  },
  {
   "cell_type": "code",
   "execution_count": 21,
   "metadata": {
    "collapsed": true
   },
   "outputs": [],
   "source": [
    "ratings_score_train=ratings_score_train[(ratings_score_train['user_rev_count']<1500) & (ratings_score_train['user_rev_count']>25)]"
   ]
  },
  {
   "cell_type": "code",
   "execution_count": 22,
   "metadata": {
    "collapsed": true
   },
   "outputs": [],
   "source": [
    "ratings_score_train=ratings_score_train[ratings_score_train['score_usr_scaled']!=0]"
   ]
  },
  {
   "cell_type": "code",
   "execution_count": 23,
   "metadata": {
    "collapsed": true
   },
   "outputs": [],
   "source": [
    "ratings_score_train = ratings_score_train[ratings_score_train['anime_rev_count']<50000]# let's remove the absolutely most common."
   ]
  },
  {
   "cell_type": "code",
   "execution_count": 24,
   "metadata": {},
   "outputs": [
    {
     "name": "stderr",
     "output_type": "stream",
     "text": [
      "/usr/local/lib/python3.5/dist-packages/ipykernel_launcher.py:6: UserWarning: Update your `Embedding` call to the Keras 2 API: `Embedding(230977, 36, embeddings_regularizer=<keras.reg..., name=\"Embed_User_Hidden_Factors\", input_length=1)`\n",
      "  \n",
      "/usr/local/lib/python3.5/dist-packages/ipykernel_launcher.py:3: UserWarning: Update your `Embedding` call to the Keras 2 API: `Embedding(12873, 36, embeddings_regularizer=<keras.reg..., name=\"Embed_Anime_Hidden_Factors\", input_length=1)`\n",
      "  This is separate from the ipykernel package so we can avoid doing imports until\n"
     ]
    }
   ],
   "source": [
    "def embedding_input_anime1(name, n_in, n_out, reg):\n",
    "    inp = Input(shape=(1,), dtype='int64', name=name)\n",
    "    return inp, Embedding(n_in, n_out, input_length=1, W_regularizer=l2(reg),name='Embed_Anime_Hidden_Factors')(inp)\n",
    "def embedding_input_user1(name, n_in, n_out, reg):\n",
    "    inp = Input(shape=(1,), dtype='int64', name=name)\n",
    "    return inp, Embedding(n_in, n_out, input_length=1, W_regularizer=l2(reg),name='Embed_User_Hidden_Factors')(inp)\n",
    "\n",
    "user_in1, u1 = embedding_input_user1('user_id_in', n_users+15, n_factors, 1e-5)\n",
    "anime_in1, a1 = embedding_input_anime1('anime_id_in', n_animes, n_factors, 0)"
   ]
  },
  {
   "cell_type": "code",
   "execution_count": 25,
   "metadata": {},
   "outputs": [
    {
     "name": "stderr",
     "output_type": "stream",
     "text": [
      "/usr/local/lib/python3.5/dist-packages/ipykernel_launcher.py:2: UserWarning: The `merge` function is deprecated and will be removed after 08/2017. Use instead layers from `keras.layers.merge`, e.g. `add`, `concatenate`, etc.\n",
      "  \n",
      "/usr/local/lib/python3.5/dist-packages/keras/legacy/layers.py:458: UserWarning: The `Merge` layer is deprecated and will be removed after 08/2017. Use instead layers from `keras.layers.merge`, e.g. `add`, `concatenate`, etc.\n",
      "  name=name)\n"
     ]
    }
   ],
   "source": [
    "# nn1, It is given no modifications for status. It is predicting score\n",
    "x = merge([u1, a1], mode='concat', name='All_Factors_on_one_layer')\n",
    "x = Flatten()(x)\n",
    "#x = Dropout(0.55, name='Prevent_overfit')(x)\n",
    "x = Dense(70, activation='relu',name='Random_HF_Interactions')(x)\n",
    "x = Dropout(0.55,name='Prevent_overfit2')(x)\n",
    "x = Dense(16, activation='relu',name='Random_HF_Interactions2')(x)\n",
    "x = Dropout(0.1, name='Prevent_overfit')(x)\n",
    "x = Dense(1,name='Final_Interactions')(x)\n",
    "nn1 = Model([user_in1, anime_in1], x)\n",
    "nn1.compile(Adam(0.001), loss='mse')"
   ]
  },
  {
   "cell_type": "code",
   "execution_count": 26,
   "metadata": {},
   "outputs": [
    {
     "name": "stdout",
     "output_type": "stream",
     "text": [
      "Train on 9771714 samples, validate on 1210873 samples\n",
      "Epoch 1/8\n",
      "9771714/9771714 [==============================] - 27s - loss: 4.9472 - val_loss: 2.0314\n",
      "Epoch 2/8\n",
      "9771714/9771714 [==============================] - 26s - loss: 2.3761 - val_loss: 1.9279\n",
      "Epoch 3/8\n",
      "9771714/9771714 [==============================] - 26s - loss: 2.2107 - val_loss: 1.8766\n",
      "Epoch 4/8\n",
      "9771714/9771714 [==============================] - 26s - loss: 2.0277 - val_loss: 1.8376\n",
      "Epoch 5/8\n",
      "9771714/9771714 [==============================] - 26s - loss: 1.8506 - val_loss: 1.8168\n",
      "Epoch 6/8\n",
      "9771714/9771714 [==============================] - 26s - loss: 1.7181 - val_loss: 1.8047\n",
      "Epoch 7/8\n",
      "9771714/9771714 [==============================] - 26s - loss: 1.6383 - val_loss: 1.7912\n",
      "Epoch 8/8\n",
      "9771714/9771714 [==============================] - 26s - loss: 1.6026 - val_loss: 1.7964\n"
     ]
    },
    {
     "data": {
      "text/plain": [
       "<keras.callbacks.History at 0x7f144940b978>"
      ]
     },
     "execution_count": 26,
     "metadata": {},
     "output_type": "execute_result"
    }
   ],
   "source": [
    "nn1.fit([ratings_score_train.user_id_emb, ratings_score_train.anime_id_emb], ratings_score_train.score, batch_size=5120, epochs=8, \n",
    "          validation_data=([ratings_score_test.user_id_emb, ratings_score_test.anime_id_emb], ratings_score_test.score))"
   ]
  },
  {
   "cell_type": "code",
   "execution_count": 27,
   "metadata": {
    "collapsed": true
   },
   "outputs": [],
   "source": [
    "nn1.lr=.0005"
   ]
  },
  {
   "cell_type": "code",
   "execution_count": 28,
   "metadata": {},
   "outputs": [
    {
     "name": "stdout",
     "output_type": "stream",
     "text": [
      "Train on 9771714 samples, validate on 1210873 samples\n",
      "Epoch 1/8\n",
      "9771714/9771714 [==============================] - 16s - loss: 1.5587 - val_loss: 1.7777\n",
      "Epoch 2/8\n",
      "9771714/9771714 [==============================] - 16s - loss: 1.5503 - val_loss: 1.7758\n",
      "Epoch 3/8\n",
      "9771714/9771714 [==============================] - 15s - loss: 1.5460 - val_loss: 1.7798\n",
      "Epoch 4/8\n",
      "9771714/9771714 [==============================] - 16s - loss: 1.5394 - val_loss: 1.7796\n",
      "Epoch 5/8\n",
      "9771714/9771714 [==============================] - 15s - loss: 1.5337 - val_loss: 1.7785\n",
      "Epoch 6/8\n",
      "9771714/9771714 [==============================] - 16s - loss: 1.5275 - val_loss: 1.7799\n",
      "Epoch 7/8\n",
      "9771714/9771714 [==============================] - 15s - loss: 1.5228 - val_loss: 1.7785\n",
      "Epoch 8/8\n",
      "9771714/9771714 [==============================] - 15s - loss: 1.5178 - val_loss: 1.7833\n"
     ]
    },
    {
     "data": {
      "text/plain": [
       "<keras.callbacks.History at 0x7f13de3a4f98>"
      ]
     },
     "execution_count": 28,
     "metadata": {},
     "output_type": "execute_result"
    }
   ],
   "source": [
    "nn1.fit([ratings_score_train.user_id_emb, ratings_score_train.anime_id_emb], ratings_score_train.score, batch_size=10120, epochs=8, \n",
    "          validation_data=([ratings_score_test.user_id_emb, ratings_score_test.anime_id_emb], ratings_score_test.score))"
   ]
  },
  {
   "cell_type": "code",
   "execution_count": 29,
   "metadata": {},
   "outputs": [
    {
     "data": {
      "text/plain": [
       "0.98166690871267037"
      ]
     },
     "execution_count": 29,
     "metadata": {},
     "output_type": "execute_result"
    }
   ],
   "source": [
    "nn1pred= nn1.predict([ratings_score_test.user_id_emb, ratings_score_test.anime_id_emb])\n",
    "nn1targ = ratings_score_test.score.values\n",
    "mean_absolute_error(nn1targ, nn1pred) "
   ]
  },
  {
   "cell_type": "code",
   "execution_count": 30,
   "metadata": {
    "collapsed": true
   },
   "outputs": [],
   "source": [
    "nn1.save_weights('nn_score_weights.h5')"
   ]
  },
  {
   "cell_type": "code",
   "execution_count": 30,
   "metadata": {
    "collapsed": true
   },
   "outputs": [],
   "source": [
    "#plot_model(nn1, to_file='score.png')\n",
    "#plot_model(nn12, to_file='user_score.png')\n",
    "#plot_model(nn13, to_file='anime_score.png')"
   ]
  },
  {
   "cell_type": "markdown",
   "metadata": {},
   "source": [
    "The User_Scaled_Score branch\n",
    "data prep: drop all scores for shows that are not  listed as complete or dropped.\n"
   ]
  },
  {
   "cell_type": "code",
   "execution_count": 21,
   "metadata": {
    "collapsed": true
   },
   "outputs": [],
   "source": [
    "ratings_score_train_complete= ratings_score_train[(ratings_score_train['status']=='COMPLETED') | (ratings_score_train['status']=='DROPPED')]"
   ]
  },
  {
   "cell_type": "code",
   "execution_count": 22,
   "metadata": {
    "collapsed": true
   },
   "outputs": [],
   "source": [
    "#ratings_score_train_complete= ratings_score_train # The alternative to the above cell to train the model on shows of all status. "
   ]
  },
  {
   "cell_type": "code",
   "execution_count": 33,
   "metadata": {},
   "outputs": [
    {
     "name": "stderr",
     "output_type": "stream",
     "text": [
      "/usr/local/lib/python3.5/dist-packages/ipykernel_launcher.py:6: UserWarning: Update your `Embedding` call to the Keras 2 API: `Embedding(230977, 36, embeddings_regularizer=<keras.reg..., input_length=1, name=\"Embed_User_Hidden_Factors\")`\n",
      "  \n",
      "/usr/local/lib/python3.5/dist-packages/ipykernel_launcher.py:3: UserWarning: Update your `Embedding` call to the Keras 2 API: `Embedding(12873, 36, embeddings_regularizer=<keras.reg..., input_length=1, name=\"Embed_Anime_Hidden_Factors\")`\n",
      "  This is separate from the ipykernel package so we can avoid doing imports until\n",
      "/usr/local/lib/python3.5/dist-packages/ipykernel_launcher.py:11: UserWarning: The `merge` function is deprecated and will be removed after 08/2017. Use instead layers from `keras.layers.merge`, e.g. `add`, `concatenate`, etc.\n",
      "  # This is added back by InteractiveShellApp.init_path()\n",
      "/usr/local/lib/python3.5/dist-packages/keras/legacy/layers.py:458: UserWarning: The `Merge` layer is deprecated and will be removed after 08/2017. Use instead layers from `keras.layers.merge`, e.g. `add`, `concatenate`, etc.\n",
      "  name=name)\n"
     ]
    }
   ],
   "source": [
    "def embedding_input_anime22(name, n_in, n_out, reg):\n",
    "    inp = Input(shape=(1,), dtype='int64', name=name)\n",
    "    return inp, Embedding(n_in, n_out, input_length=1, W_regularizer=l2(reg),name='Embed_Anime_Hidden_Factors')(inp)\n",
    "def embedding_input_user22(name, n_in, n_out, reg):\n",
    "    inp = Input(shape=(1,), dtype='int64', name=name)\n",
    "    return inp, Embedding(n_in, n_out, input_length=1, W_regularizer=l2(reg),name='Embed_User_Hidden_Factors')(inp)\n",
    "\n",
    "user_in22, u22 = embedding_input_user22('user_id_in', n_users+15, n_factors, 1e-5)\n",
    "anime_in22, a22 = embedding_input_anime22('anime_id_in', n_animes, n_factors, 0)\n",
    "# nn22, It is only given complete. Trying to predict usr scaled score. \n",
    "x = merge([u22, a22], mode='concat', name='All_Factors_on_one_layer')\n",
    "x = Flatten()(x)\n",
    "#x = Dropout(0.55, name='Prevent_overfit')(x)\n",
    "x = Dense(70, activation='relu',name='Random_HF_Interactions')(x)\n",
    "x = Dropout(0.55,name='Prevent_overfit2')(x)\n",
    "x = Dense(16, activation='relu',name='Random_HF_Interactions2')(x)\n",
    "x = Dropout(0.1, name='Prevent_overfit')(x)\n",
    "x = Dense(1,name='Final_Interactions')(x)\n",
    "nn22 = Model([user_in22, anime_in22], x)\n",
    "nn22.compile(Adam(0.001), loss='mse')"
   ]
  },
  {
   "cell_type": "code",
   "execution_count": 34,
   "metadata": {},
   "outputs": [
    {
     "name": "stdout",
     "output_type": "stream",
     "text": [
      "Train on 9240364 samples, validate on 1210873 samples\n",
      "Epoch 1/8\n",
      "9240364/9240364 [==============================] - 24s - loss: 1.6491 - val_loss: 1.6467\n",
      "Epoch 2/8\n",
      "9240364/9240364 [==============================] - 24s - loss: 1.5799 - val_loss: 1.6337\n",
      "Epoch 3/8\n",
      "9240364/9240364 [==============================] - 23s - loss: 1.5548 - val_loss: 1.6252\n",
      "Epoch 4/8\n",
      "9240364/9240364 [==============================] - 23s - loss: 1.5373 - val_loss: 1.6246\n",
      "Epoch 5/8\n",
      "9240364/9240364 [==============================] - 24s - loss: 1.5243 - val_loss: 1.6240\n",
      "Epoch 6/8\n",
      "9240364/9240364 [==============================] - 23s - loss: 1.5136 - val_loss: 1.6218\n",
      "Epoch 7/8\n",
      "9240364/9240364 [==============================] - 24s - loss: 1.5052 - val_loss: 1.6226\n",
      "Epoch 8/8\n",
      "9240364/9240364 [==============================] - 23s - loss: 1.4980 - val_loss: 1.6211\n"
     ]
    },
    {
     "data": {
      "text/plain": [
       "<keras.callbacks.History at 0x7f9984cc7780>"
      ]
     },
     "execution_count": 34,
     "metadata": {},
     "output_type": "execute_result"
    }
   ],
   "source": [
    "nn22.fit([ratings_score_train_complete.user_id_emb, ratings_score_train_complete.anime_id_emb], ratings_score_train_complete.score_usr_scaled, batch_size=5120, epochs=8, \n",
    "          validation_data=([ratings_score_test.user_id_emb, ratings_score_test.anime_id_emb], ratings_score_test.score_usr_scaled))"
   ]
  },
  {
   "cell_type": "code",
   "execution_count": 35,
   "metadata": {
    "collapsed": true
   },
   "outputs": [],
   "source": [
    "nn22.lr=.0005"
   ]
  },
  {
   "cell_type": "code",
   "execution_count": 36,
   "metadata": {},
   "outputs": [
    {
     "name": "stdout",
     "output_type": "stream",
     "text": [
      "Train on 9240364 samples, validate on 1210873 samples\n",
      "Epoch 1/4\n",
      "9240364/9240364 [==============================] - 10s - loss: 1.4488 - val_loss: 1.6171\n",
      "Epoch 2/4\n",
      "9240364/9240364 [==============================] - 10s - loss: 1.4322 - val_loss: 1.6151\n",
      "Epoch 3/4\n",
      "9240364/9240364 [==============================] - 10s - loss: 1.4273 - val_loss: 1.6157\n",
      "Epoch 4/4\n",
      "9240364/9240364 [==============================] - 10s - loss: 1.4244 - val_loss: 1.6178\n"
     ]
    },
    {
     "data": {
      "text/plain": [
       "<keras.callbacks.History at 0x7f9986309e80>"
      ]
     },
     "execution_count": 36,
     "metadata": {},
     "output_type": "execute_result"
    }
   ],
   "source": [
    "nn22.fit([ratings_score_train_complete.user_id_emb, ratings_score_train_complete.anime_id_emb], ratings_score_train_complete.score_usr_scaled, batch_size=20120, epochs=4, \n",
    "          validation_data=([ratings_score_test.user_id_emb, ratings_score_test.anime_id_emb], ratings_score_test.score_usr_scaled))"
   ]
  },
  {
   "cell_type": "code",
   "execution_count": 37,
   "metadata": {
    "collapsed": true
   },
   "outputs": [],
   "source": [
    "nn22.save_weights('nn_score_usr_weights.h5')"
   ]
  },
  {
   "cell_type": "code",
   "execution_count": 38,
   "metadata": {},
   "outputs": [
    {
     "data": {
      "text/plain": [
       "0.93386003456007916"
      ]
     },
     "execution_count": 38,
     "metadata": {},
     "output_type": "execute_result"
    }
   ],
   "source": [
    "nn22pred= nn22.predict([ratings_score_test.user_id_emb, ratings_score_test.anime_id_emb])\n",
    "nn22targ = ratings_score_test.score_usr_scaled.values\n",
    "mean_absolute_error(nn22targ, nn22pred)"
   ]
  },
  {
   "cell_type": "code",
   "execution_count": 39,
   "metadata": {},
   "outputs": [
    {
     "name": "stderr",
     "output_type": "stream",
     "text": [
      "/usr/local/lib/python3.5/dist-packages/ipykernel_launcher.py:6: UserWarning: Update your `Embedding` call to the Keras 2 API: `Embedding(230977, 36, embeddings_regularizer=<keras.reg..., input_length=1, name=\"Embed_User_Hidden_Factors\")`\n",
      "  \n",
      "/usr/local/lib/python3.5/dist-packages/ipykernel_launcher.py:3: UserWarning: Update your `Embedding` call to the Keras 2 API: `Embedding(12873, 36, embeddings_regularizer=<keras.reg..., input_length=1, name=\"Embed_Anime_Hidden_Factors\")`\n",
      "  This is separate from the ipykernel package so we can avoid doing imports until\n",
      "/usr/local/lib/python3.5/dist-packages/ipykernel_launcher.py:11: UserWarning: The `merge` function is deprecated and will be removed after 08/2017. Use instead layers from `keras.layers.merge`, e.g. `add`, `concatenate`, etc.\n",
      "  # This is added back by InteractiveShellApp.init_path()\n",
      "/usr/local/lib/python3.5/dist-packages/keras/legacy/layers.py:458: UserWarning: The `Merge` layer is deprecated and will be removed after 08/2017. Use instead layers from `keras.layers.merge`, e.g. `add`, `concatenate`, etc.\n",
      "  name=name)\n"
     ]
    }
   ],
   "source": [
    "def embedding_input_anime23(name, n_in, n_out, reg):\n",
    "    inp = Input(shape=(1,), dtype='int64', name=name)\n",
    "    return inp, Embedding(n_in, n_out, input_length=1, W_regularizer=l2(reg),name='Embed_Anime_Hidden_Factors')(inp)\n",
    "def embedding_input_user23(name, n_in, n_out, reg):\n",
    "    inp = Input(shape=(1,), dtype='int64', name=name)\n",
    "    return inp, Embedding(n_in, n_out, input_length=1, W_regularizer=l2(reg),name='Embed_User_Hidden_Factors')(inp)\n",
    "\n",
    "user_in23, u23 = embedding_input_user23('user_id_in', n_users+15, n_factors, 0)\n",
    "anime_in23, a23 = embedding_input_anime23('anime_id_in', n_animes, n_factors, 0)\n",
    "# nn23, It is only given complete. Trying to predict anime scaled score. \n",
    "x = merge([u23, a23], mode='concat', name='All_Factors_on_one_layer')\n",
    "x = Flatten()(x)\n",
    "#x = Dropout(0.55, name='Prevent_overfit')(x)\n",
    "x = Dense(70, activation='relu',name='Random_HF_Interactions')(x)\n",
    "x = Dropout(0.55,name='Prevent_overfit2')(x)\n",
    "x = Dense(16, activation='relu',name='Random_HF_Interactions2')(x)\n",
    "x = Dropout(0.1, name='Prevent_overfit')(x)\n",
    "x = Dense(1,name='Final_Interactions')(x)\n",
    "nn23 = Model([user_in23, anime_in23], x)\n",
    "nn23.compile(Adam(0.001), loss='mse')"
   ]
  },
  {
   "cell_type": "code",
   "execution_count": 40,
   "metadata": {},
   "outputs": [
    {
     "name": "stdout",
     "output_type": "stream",
     "text": [
      "Train on 9240364 samples, validate on 1210873 samples\n",
      "Epoch 1/8\n",
      "9240364/9240364 [==============================] - 21s - loss: 1.7164 - val_loss: 1.7234\n",
      "Epoch 2/8\n",
      "9240364/9240364 [==============================] - 22s - loss: 1.5840 - val_loss: 1.6957\n",
      "Epoch 3/8\n",
      "9240364/9240364 [==============================] - 20s - loss: 1.5497 - val_loss: 1.6889\n",
      "Epoch 4/8\n",
      "9240364/9240364 [==============================] - 22s - loss: 1.5247 - val_loss: 1.6801\n",
      "Epoch 5/8\n",
      "9240364/9240364 [==============================] - 21s - loss: 1.5039 - val_loss: 1.6743\n",
      "Epoch 6/8\n",
      "9240364/9240364 [==============================] - 21s - loss: 1.4857 - val_loss: 1.6722\n",
      "Epoch 7/8\n",
      "9240364/9240364 [==============================] - 22s - loss: 1.4702 - val_loss: 1.6717\n",
      "Epoch 8/8\n",
      "9240364/9240364 [==============================] - 20s - loss: 1.4571 - val_loss: 1.6686\n"
     ]
    },
    {
     "data": {
      "text/plain": [
       "<keras.callbacks.History at 0x7f998a39d780>"
      ]
     },
     "execution_count": 40,
     "metadata": {},
     "output_type": "execute_result"
    }
   ],
   "source": [
    "nn23.fit([ratings_score_train_complete.user_id_emb, ratings_score_train_complete.anime_id_emb], ratings_score_train_complete.score_anime_scaled, batch_size=5120, epochs=8, \n",
    "          validation_data=([ratings_score_test.user_id_emb, ratings_score_test.anime_id_emb], ratings_score_test.score_anime_scaled))"
   ]
  },
  {
   "cell_type": "code",
   "execution_count": 41,
   "metadata": {
    "collapsed": true
   },
   "outputs": [],
   "source": [
    "nn23.lr=.0005"
   ]
  },
  {
   "cell_type": "code",
   "execution_count": 42,
   "metadata": {},
   "outputs": [
    {
     "name": "stdout",
     "output_type": "stream",
     "text": [
      "Train on 9240364 samples, validate on 1210873 samples\n",
      "Epoch 1/4\n",
      "9240364/9240364 [==============================] - 9s - loss: 1.4172 - val_loss: 1.6681\n",
      "Epoch 2/4\n",
      "9240364/9240364 [==============================] - 10s - loss: 1.4057 - val_loss: 1.6696\n",
      "Epoch 3/4\n",
      "9240364/9240364 [==============================] - 9s - loss: 1.3994 - val_loss: 1.6703\n",
      "Epoch 4/4\n",
      "9240364/9240364 [==============================] - 9s - loss: 1.3953 - val_loss: 1.6719\n"
     ]
    },
    {
     "data": {
      "text/plain": [
       "<keras.callbacks.History at 0x7f99995a6b38>"
      ]
     },
     "execution_count": 42,
     "metadata": {},
     "output_type": "execute_result"
    }
   ],
   "source": [
    "nn23.fit([ratings_score_train_complete.user_id_emb, ratings_score_train_complete.anime_id_emb], ratings_score_train_complete.score_anime_scaled, batch_size=20120, epochs=4, \n",
    "          validation_data=([ratings_score_test.user_id_emb, ratings_score_test.anime_id_emb], ratings_score_test.score_anime_scaled))"
   ]
  },
  {
   "cell_type": "code",
   "execution_count": 43,
   "metadata": {
    "collapsed": true
   },
   "outputs": [],
   "source": [
    "nn23.save_weights('nn_score_anime_weights.h5')"
   ]
  },
  {
   "cell_type": "code",
   "execution_count": 44,
   "metadata": {
    "scrolled": true
   },
   "outputs": [
    {
     "data": {
      "text/plain": [
       "0.96388360887655522"
      ]
     },
     "execution_count": 44,
     "metadata": {},
     "output_type": "execute_result"
    }
   ],
   "source": [
    "nn23pred= nn23.predict([ratings_score_test.user_id_emb, ratings_score_test.anime_id_emb])\n",
    "nn23targ = ratings_score_test.score_anime_scaled.values\n",
    "mean_absolute_error(nn23targ, nn23pred)"
   ]
  },
  {
   "cell_type": "code",
   "execution_count": null,
   "metadata": {
    "collapsed": true
   },
   "outputs": [],
   "source": []
  }
 ],
 "metadata": {
  "kernelspec": {
   "display_name": "Python 3",
   "language": "python",
   "name": "python3"
  },
  "language_info": {
   "codemirror_mode": {
    "name": "ipython",
    "version": 3
   },
   "file_extension": ".py",
   "mimetype": "text/x-python",
   "name": "python",
   "nbconvert_exporter": "python",
   "pygments_lexer": "ipython3",
   "version": "3.5.2"
  }
 },
 "nbformat": 4,
 "nbformat_minor": 2
}
