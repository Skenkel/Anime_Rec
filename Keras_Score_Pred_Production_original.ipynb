{
 "cells": [
  {
   "cell_type": "markdown",
   "metadata": {},
   "source": [
    "This uses a deep neural network and no imputation\n"
   ]
  },
  {
   "cell_type": "code",
   "execution_count": 36,
   "metadata": {
    "scrolled": false
   },
   "outputs": [
    {
     "name": "stdout",
     "output_type": "stream",
     "text": [
      "Mon Sep  4 15:18:47 2017       \r\n",
      "+-----------------------------------------------------------------------------+\r\n",
      "| NVIDIA-SMI 384.69                 Driver Version: 384.69                    |\r\n",
      "|-------------------------------+----------------------+----------------------+\r\n",
      "| GPU  Name        Persistence-M| Bus-Id        Disp.A | Volatile Uncorr. ECC |\r\n",
      "| Fan  Temp  Perf  Pwr:Usage/Cap|         Memory-Usage | GPU-Util  Compute M. |\r\n",
      "|===============================+======================+======================|\r\n",
      "|   0  GeForce GTX 108...  Off  | 00000000:04:00.0 Off |                  N/A |\r\n",
      "| 20%   37C    P8    18W / 250W |  10691MiB / 11170MiB |      0%      Default |\r\n",
      "+-------------------------------+----------------------+----------------------+\r\n",
      "                                                                               \r\n",
      "+-----------------------------------------------------------------------------+\r\n",
      "| Processes:                                                       GPU Memory |\r\n",
      "|  GPU       PID  Type  Process name                               Usage      |\r\n",
      "|=============================================================================|\r\n",
      "+-----------------------------------------------------------------------------+\r\n"
     ]
    }
   ],
   "source": [
    "!nvidia-smi"
   ]
  },
  {
   "cell_type": "code",
   "execution_count": null,
   "metadata": {
    "collapsed": true
   },
   "outputs": [],
   "source": [
    "import numpy as np\n",
    "from keras import backend as K\n",
    "from keras.layers import Input, Embedding, merge\n",
    "import keras.layers\n",
    "from keras.regularizers import l2, l1\n",
    "from keras.layers.core import Flatten, Dense, Dropout, Lambda\n",
    "from keras.models import Sequential, Model\n",
    "from keras.optimizers import SGD, RMSprop, Adam\n",
    "from IPython.display import SVG\n",
    "from keras.utils.vis_utils import model_to_dot\n",
    "#import pydotplus as pydot \n",
    "#import graphviz\n",
    "from keras.utils import plot_model\n",
    "from sklearn.metrics import mean_absolute_error"
   ]
  },
  {
   "cell_type": "code",
   "execution_count": null,
   "metadata": {
    "collapsed": true
   },
   "outputs": [],
   "source": [
    "import pandas as pd"
   ]
  },
  {
   "cell_type": "code",
   "execution_count": null,
   "metadata": {
    "collapsed": true
   },
   "outputs": [],
   "source": [
    "ratings_score_train = pd.read_csv('mal_scores_train_nonzero_v2.csv')# \n",
    "ratings_score_test = pd.read_csv('mal_scores_test_nonzero_v2.csv')# the v2 version of this data has no \"test\" users who aren't present in the training data. \n",
    "ratings_no_score_train = pd.read_csv('mal_scores_train_zero.csv') "
   ]
  },
  {
   "cell_type": "markdown",
   "metadata": {},
   "source": [
    "Now we need to re-order and dataprep.\n"
   ]
  },
  {
   "cell_type": "code",
   "execution_count": null,
   "metadata": {
    "collapsed": true
   },
   "outputs": [],
   "source": [
    "ratins_score_train"
   ]
  },
  {
   "cell_type": "code",
   "execution_count": 116,
   "metadata": {
    "collapsed": true
   },
   "outputs": [],
   "source": [
    "#userid mapping\n",
    "users1 = ratings_score_train.userid.unique()\n",
    "users2 = ratings_score_test.userid.unique()\n",
    "users3 = ratings_no_score_train.userid.unique()\n",
    "#animeid mapping\n",
    "anime1= ratings_score_train.animeid.unique()\n",
    "anime2=ratings_score_test.animeid.unique()\n",
    "anime3=ratings_no_score_train.animeid.unique()\n",
    "#statusid mapping\n",
    "status = ratings_score_train.status.unique() #only need to do this on one of the dataframes because there are only 6 status, and a status cannot be missing. \n",
    "n_status = ratings_score_train.status.nunique()"
   ]
  },
  {
   "cell_type": "code",
   "execution_count": 117,
   "metadata": {
    "collapsed": true
   },
   "outputs": [],
   "source": [
    "users = set(users1).union(set(users2)).union(set(users3))"
   ]
  },
  {
   "cell_type": "code",
   "execution_count": 118,
   "metadata": {
    "collapsed": true
   },
   "outputs": [],
   "source": [
    "userid2idx=np.load(\"user.npy\").item()\n",
    "animeid2idx=np.load(\"anime.npy\").item()\n",
    "#userid2idx = {o:i for i,o in enumerate(users)} # turn the user strings into a numerical value. "
   ]
  },
  {
   "cell_type": "code",
   "execution_count": 119,
   "metadata": {},
   "outputs": [
    {
     "data": {
      "text/plain": [
       "230962"
      ]
     },
     "execution_count": 119,
     "metadata": {},
     "output_type": "execute_result"
    }
   ],
   "source": [
    "len(userid2idx)"
   ]
  },
  {
   "cell_type": "code",
   "execution_count": 120,
   "metadata": {
    "collapsed": true
   },
   "outputs": [],
   "source": [
    "animes = set(anime1).union(set(anime2)).union(set(anime3))"
   ]
  },
  {
   "cell_type": "code",
   "execution_count": 121,
   "metadata": {
    "collapsed": true
   },
   "outputs": [],
   "source": [
    "#animeid2idx = {o:i for i,o in enumerate(animes)} # remove missing anime numbers and re-order"
   ]
  },
  {
   "cell_type": "code",
   "execution_count": 122,
   "metadata": {
    "collapsed": true
   },
   "outputs": [],
   "source": [
    "np.save(\"user.npy\", userid2idx)\n",
    "np.save(\"anime.npy\", animeid2idx)\n"
   ]
  },
  {
   "cell_type": "code",
   "execution_count": 123,
   "metadata": {
    "collapsed": true
   },
   "outputs": [],
   "source": [
    "status2idx = {o:i for i,o in enumerate(status)} # turn the watched status into a vector "
   ]
  },
  {
   "cell_type": "code",
   "execution_count": 124,
   "metadata": {
    "collapsed": true
   },
   "outputs": [],
   "source": [
    "n_users = len(users)\n",
    "n_animes = len(animes)"
   ]
  },
  {
   "cell_type": "code",
   "execution_count": 125,
   "metadata": {
    "collapsed": true
   },
   "outputs": [],
   "source": [
    "ratings_score_test['anime_id_emb'] = ratings_score_test.animeid.apply(lambda x: animeid2idx[x])\n",
    "ratings_score_train['anime_id_emb'] = ratings_score_train.animeid.apply(lambda x: animeid2idx[x])\n",
    "ratings_no_score_train['anime_id_emb'] = ratings_no_score_train.animeid.apply(lambda x: animeid2idx[x])"
   ]
  },
  {
   "cell_type": "code",
   "execution_count": 126,
   "metadata": {
    "collapsed": true
   },
   "outputs": [],
   "source": [
    "ratings_score_test['user_id_emb'] = ratings_score_test.userid.apply(lambda x: userid2idx[x])\n",
    "ratings_score_train['user_id_emb'] = ratings_score_train.userid.apply(lambda x: userid2idx[x])\n",
    "ratings_no_score_train['user_id_emb'] = ratings_no_score_train.userid.apply(lambda x: userid2idx[x])"
   ]
  },
  {
   "cell_type": "code",
   "execution_count": 127,
   "metadata": {
    "collapsed": true
   },
   "outputs": [],
   "source": [
    "ratings_score_test['status_emb'] = ratings_score_test.status.apply(lambda x: status2idx[x])\n",
    "ratings_score_train['status_emb'] = ratings_score_train.status.apply(lambda x: status2idx[x])\n",
    "ratings_no_score_train['status_emb'] = ratings_no_score_train.status.apply(lambda x: status2idx[x])"
   ]
  },
  {
   "cell_type": "code",
   "execution_count": 128,
   "metadata": {
    "collapsed": true
   },
   "outputs": [],
   "source": [
    "n_factors = 40 #changing this number changes how many hidden factors each user and each anime is transformed into. "
   ]
  },
  {
   "cell_type": "code",
   "execution_count": 129,
   "metadata": {},
   "outputs": [
    {
     "data": {
      "text/html": [
       "<div>\n",
       "<style>\n",
       "    .dataframe thead tr:only-child th {\n",
       "        text-align: right;\n",
       "    }\n",
       "\n",
       "    .dataframe thead th {\n",
       "        text-align: left;\n",
       "    }\n",
       "\n",
       "    .dataframe tbody tr th {\n",
       "        vertical-align: top;\n",
       "    }\n",
       "</style>\n",
       "<table border=\"1\" class=\"dataframe\">\n",
       "  <thead>\n",
       "    <tr style=\"text-align: right;\">\n",
       "      <th></th>\n",
       "      <th>Unnamed: 0</th>\n",
       "      <th>Unnamed: 0.1</th>\n",
       "      <th>Unnamed: 0.1.1</th>\n",
       "      <th>animeid</th>\n",
       "      <th>animescore</th>\n",
       "      <th>index</th>\n",
       "      <th>name</th>\n",
       "      <th>status</th>\n",
       "      <th>unkey</th>\n",
       "      <th>userid</th>\n",
       "      <th>score</th>\n",
       "      <th>useravg</th>\n",
       "      <th>animeavg</th>\n",
       "      <th>score_anime_scaled</th>\n",
       "      <th>score_usr_scaled</th>\n",
       "      <th>user_rev_count</th>\n",
       "      <th>anime_id_emb</th>\n",
       "      <th>user_id_emb</th>\n",
       "      <th>status_emb</th>\n",
       "    </tr>\n",
       "  </thead>\n",
       "  <tbody>\n",
       "    <tr>\n",
       "      <th>0</th>\n",
       "      <td>0</td>\n",
       "      <td>0</td>\n",
       "      <td>13202</td>\n",
       "      <td>2001</td>\n",
       "      <td>10</td>\n",
       "      <td>Lancerevomr</td>\n",
       "      <td>Lancerevomr</td>\n",
       "      <td>COMPLETED</td>\n",
       "      <td>2001Lancerevomr</td>\n",
       "      <td>Lancerevomr</td>\n",
       "      <td>10</td>\n",
       "      <td>10.0</td>\n",
       "      <td>8.681996</td>\n",
       "      <td>1.318004</td>\n",
       "      <td>0.0</td>\n",
       "      <td>1</td>\n",
       "      <td>1822</td>\n",
       "      <td>220189</td>\n",
       "      <td>0</td>\n",
       "    </tr>\n",
       "    <tr>\n",
       "      <th>1</th>\n",
       "      <td>1</td>\n",
       "      <td>1</td>\n",
       "      <td>21990</td>\n",
       "      <td>10719</td>\n",
       "      <td>10</td>\n",
       "      <td>kuelpanda</td>\n",
       "      <td>kuelpanda</td>\n",
       "      <td>COMPLETED</td>\n",
       "      <td>10719kuelpanda</td>\n",
       "      <td>kuelpanda</td>\n",
       "      <td>10</td>\n",
       "      <td>9.5</td>\n",
       "      <td>7.535472</td>\n",
       "      <td>2.464528</td>\n",
       "      <td>0.5</td>\n",
       "      <td>2</td>\n",
       "      <td>6344</td>\n",
       "      <td>53804</td>\n",
       "      <td>0</td>\n",
       "    </tr>\n",
       "    <tr>\n",
       "      <th>2</th>\n",
       "      <td>2</td>\n",
       "      <td>2</td>\n",
       "      <td>21991</td>\n",
       "      <td>10155</td>\n",
       "      <td>9</td>\n",
       "      <td>kuelpanda</td>\n",
       "      <td>kuelpanda</td>\n",
       "      <td>COMPLETED</td>\n",
       "      <td>10155kuelpanda</td>\n",
       "      <td>kuelpanda</td>\n",
       "      <td>9</td>\n",
       "      <td>9.5</td>\n",
       "      <td>7.105895</td>\n",
       "      <td>1.894105</td>\n",
       "      <td>-0.5</td>\n",
       "      <td>2</td>\n",
       "      <td>6092</td>\n",
       "      <td>53804</td>\n",
       "      <td>0</td>\n",
       "    </tr>\n",
       "    <tr>\n",
       "      <th>3</th>\n",
       "      <td>3</td>\n",
       "      <td>3</td>\n",
       "      <td>22409</td>\n",
       "      <td>15051</td>\n",
       "      <td>10</td>\n",
       "      <td>vxxyman</td>\n",
       "      <td>vxxyman</td>\n",
       "      <td>COMPLETED</td>\n",
       "      <td>15051vxxyman</td>\n",
       "      <td>vxxyman</td>\n",
       "      <td>10</td>\n",
       "      <td>10.0</td>\n",
       "      <td>7.654129</td>\n",
       "      <td>2.345871</td>\n",
       "      <td>0.0</td>\n",
       "      <td>1</td>\n",
       "      <td>7213</td>\n",
       "      <td>96692</td>\n",
       "      <td>0</td>\n",
       "    </tr>\n",
       "    <tr>\n",
       "      <th>4</th>\n",
       "      <td>4</td>\n",
       "      <td>4</td>\n",
       "      <td>23792</td>\n",
       "      <td>1</td>\n",
       "      <td>10</td>\n",
       "      <td>pinheiro</td>\n",
       "      <td>pinheiro</td>\n",
       "      <td>COMPLETED</td>\n",
       "      <td>1pinheiro</td>\n",
       "      <td>pinheiro</td>\n",
       "      <td>10</td>\n",
       "      <td>10.0</td>\n",
       "      <td>8.804023</td>\n",
       "      <td>1.195977</td>\n",
       "      <td>0.0</td>\n",
       "      <td>1</td>\n",
       "      <td>0</td>\n",
       "      <td>218194</td>\n",
       "      <td>0</td>\n",
       "    </tr>\n",
       "  </tbody>\n",
       "</table>\n",
       "</div>"
      ],
      "text/plain": [
       "   Unnamed: 0  Unnamed: 0.1  Unnamed: 0.1.1  animeid  animescore        index  \\\n",
       "0           0             0           13202     2001          10  Lancerevomr   \n",
       "1           1             1           21990    10719          10    kuelpanda   \n",
       "2           2             2           21991    10155           9    kuelpanda   \n",
       "3           3             3           22409    15051          10      vxxyman   \n",
       "4           4             4           23792        1          10     pinheiro   \n",
       "\n",
       "          name     status            unkey       userid  score  useravg  \\\n",
       "0  Lancerevomr  COMPLETED  2001Lancerevomr  Lancerevomr     10     10.0   \n",
       "1    kuelpanda  COMPLETED   10719kuelpanda    kuelpanda     10      9.5   \n",
       "2    kuelpanda  COMPLETED   10155kuelpanda    kuelpanda      9      9.5   \n",
       "3      vxxyman  COMPLETED     15051vxxyman      vxxyman     10     10.0   \n",
       "4     pinheiro  COMPLETED        1pinheiro     pinheiro     10     10.0   \n",
       "\n",
       "   animeavg  score_anime_scaled  score_usr_scaled  user_rev_count  \\\n",
       "0  8.681996            1.318004               0.0               1   \n",
       "1  7.535472            2.464528               0.5               2   \n",
       "2  7.105895            1.894105              -0.5               2   \n",
       "3  7.654129            2.345871               0.0               1   \n",
       "4  8.804023            1.195977               0.0               1   \n",
       "\n",
       "   anime_id_emb  user_id_emb  status_emb  \n",
       "0          1822       220189           0  \n",
       "1          6344        53804           0  \n",
       "2          6092        53804           0  \n",
       "3          7213        96692           0  \n",
       "4             0       218194           0  "
      ]
     },
     "execution_count": 129,
     "metadata": {},
     "output_type": "execute_result"
    }
   ],
   "source": [
    "ratings_score_train.head()"
   ]
  },
  {
   "cell_type": "code",
   "execution_count": 130,
   "metadata": {
    "collapsed": true
   },
   "outputs": [],
   "source": [
    "ratings_score_train=ratings_score_train[(ratings_score_train['user_rev_count']<2000) & (ratings_score_train['user_rev_count']>10)]"
   ]
  },
  {
   "cell_type": "code",
   "execution_count": 131,
   "metadata": {
    "collapsed": true
   },
   "outputs": [],
   "source": [
    "ratings_score_train=ratings_score_train[ratings_score_train['score_usr_scaled']!=0]"
   ]
  },
  {
   "cell_type": "code",
   "execution_count": 109,
   "metadata": {
    "collapsed": true
   },
   "outputs": [],
   "source": [
    "ratings_score_train = ratings_score_train[ratings_score_train['anime_rev_count']<80000]# let's remove the absolutely most common. "
   ]
  },
  {
   "cell_type": "code",
   "execution_count": 110,
   "metadata": {
    "collapsed": true
   },
   "outputs": [],
   "source": [
    "# these are the embedding functions that will be used for all models. For code modularity (the ability to cut paste a model to another notebook to test several at the same time), we're going to redfine this each time. \n"
   ]
  },
  {
   "cell_type": "code",
   "execution_count": 142,
   "metadata": {},
   "outputs": [
    {
     "name": "stderr",
     "output_type": "stream",
     "text": [
      "/usr/local/lib/python3.5/dist-packages/ipykernel_launcher.py:6: UserWarning: Update your `Embedding` call to the Keras 2 API: `Embedding(229771, 32, input_length=1, name=\"Embed_User_Hidden_Factors\", embeddings_regularizer=<keras.reg...)`\n",
      "  \n",
      "/usr/local/lib/python3.5/dist-packages/ipykernel_launcher.py:3: UserWarning: Update your `Embedding` call to the Keras 2 API: `Embedding(12826, 32, input_length=1, name=\"Embed_Anime_Hidden_Factors\", embeddings_regularizer=<keras.reg...)`\n",
      "  This is separate from the ipykernel package so we can avoid doing imports until\n"
     ]
    }
   ],
   "source": [
    "def embedding_input_anime1(name, n_in, n_out, reg):\n",
    "    inp = Input(shape=(1,), dtype='int64', name=name)\n",
    "    return inp, Embedding(n_in, n_out, input_length=1, W_regularizer=l2(reg),name='Embed_Anime_Hidden_Factors')(inp)\n",
    "def embedding_input_user1(name, n_in, n_out, reg):\n",
    "    inp = Input(shape=(1,), dtype='int64', name=name)\n",
    "    return inp, Embedding(n_in, n_out, input_length=1, W_regularizer=l2(reg),name='Embed_User_Hidden_Factors')(inp)\n",
    "\n",
    "user_in1, u1 = embedding_input_user1('user_id_in', n_users+15, n_factors, 1e-7)\n",
    "anime_in1, a1 = embedding_input_anime1('anime_id_in', n_animes, n_factors, 1e-8)"
   ]
  },
  {
   "cell_type": "code",
   "execution_count": 143,
   "metadata": {},
   "outputs": [
    {
     "name": "stderr",
     "output_type": "stream",
     "text": [
      "/usr/local/lib/python3.5/dist-packages/ipykernel_launcher.py:2: UserWarning: The `merge` function is deprecated and will be removed after 08/2017. Use instead layers from `keras.layers.merge`, e.g. `add`, `concatenate`, etc.\n",
      "  \n",
      "/usr/local/lib/python3.5/dist-packages/keras/legacy/layers.py:458: UserWarning: The `Merge` layer is deprecated and will be removed after 08/2017. Use instead layers from `keras.layers.merge`, e.g. `add`, `concatenate`, etc.\n",
      "  name=name)\n"
     ]
    }
   ],
   "source": [
    "# nn1, It is given no modifications for status. It is predicting score\n",
    "x = merge([u1, a1], mode='concat', name='All_Factors_on_one_layer')\n",
    "x = Flatten()(x)\n",
    "x = Dropout(0.55, name='Prevent_overfit')(x)\n",
    "x = Dense(70, activation='relu',name='Random_HF_Interactions')(x)\n",
    "x = Dropout(0.55,name='Prevent_overfit2')(x)\n",
    "x = Dense(16, activation='relu',name='Random_HF_Interactions2')(x)\n",
    "x = Dense(1,name='Final_Interactions')(x)\n",
    "nn1 = Model([user_in1, anime_in1], x)\n",
    "nn1.compile(Adam(0.001), loss='mse')"
   ]
  },
  {
   "cell_type": "code",
   "execution_count": 144,
   "metadata": {},
   "outputs": [
    {
     "name": "stdout",
     "output_type": "stream",
     "text": [
      "Train on 9677648 samples, validate on 1210873 samples\n",
      "Epoch 1/5\n",
      "9677648/9677648 [==============================] - 23s - loss: 5.3648 - val_loss: 1.8508\n",
      "Epoch 2/5\n",
      "9677648/9677648 [==============================] - 22s - loss: 1.7931 - val_loss: 1.7974\n",
      "Epoch 3/5\n",
      "9677648/9677648 [==============================] - 22s - loss: 1.7159 - val_loss: 1.8321\n",
      "Epoch 4/5\n",
      "9677648/9677648 [==============================] - 22s - loss: 1.6857 - val_loss: 1.8526\n",
      "Epoch 5/5\n",
      "9677648/9677648 [==============================] - 22s - loss: 1.6598 - val_loss: 1.8505\n"
     ]
    },
    {
     "data": {
      "text/plain": [
       "<keras.callbacks.History at 0x7f0a716b3080>"
      ]
     },
     "execution_count": 144,
     "metadata": {},
     "output_type": "execute_result"
    }
   ],
   "source": [
    "nn1.fit([ratings_score_train.user_id_emb, ratings_score_train.anime_id_emb], ratings_score_train.score, batch_size=5120, epochs=5, \n",
    "          validation_data=([ratings_score_test.user_id_emb, ratings_score_test.anime_id_emb], ratings_score_test.score))"
   ]
  },
  {
   "cell_type": "code",
   "execution_count": 135,
   "metadata": {},
   "outputs": [
    {
     "name": "stdout",
     "output_type": "stream",
     "text": [
      "Train on 9677648 samples, validate on 1210873 samples\n",
      "Epoch 1/8\n",
      "9677648/9677648 [==============================] - 11s - loss: 1508.9978 - val_loss: 2149.6322\n",
      "Epoch 2/8\n",
      "9677648/9677648 [==============================] - 11s - loss: 2157.9858 - val_loss: 2149.4622\n",
      "Epoch 3/8\n",
      "9677648/9677648 [==============================] - 11s - loss: 2159.5891 - val_loss: 2149.3725\n",
      "Epoch 4/8\n",
      "9677648/9677648 [==============================] - 11s - loss: 2150.2961 - val_loss: 2149.0401\n",
      "Epoch 5/8\n",
      "9677648/9677648 [==============================] - 11s - loss: 2148.6452 - val_loss: 2148.7540\n",
      "Epoch 6/8\n",
      "9677648/9677648 [==============================] - 11s - loss: 2148.8633 - val_loss: 2148.4774\n",
      "Epoch 7/8\n",
      "9677648/9677648 [==============================] - 11s - loss: 2103.6858 - val_loss: 2089.7716\n",
      "Epoch 8/8\n",
      "9677648/9677648 [==============================] - 11s - loss: 2092.6544 - val_loss: 2089.5534\n"
     ]
    },
    {
     "data": {
      "text/plain": [
       "<keras.callbacks.History at 0x7f0753a80e80>"
      ]
     },
     "execution_count": 135,
     "metadata": {},
     "output_type": "execute_result"
    }
   ],
   "source": [
    "nn1.fit([ratings_score_train.user_id_emb, ratings_score_train.anime_id_emb], ratings_score_train.score, batch_size=15120, epochs=8, \n",
    "          validation_data=([ratings_score_test.user_id_emb, ratings_score_test.anime_id_emb], ratings_score_test.score))"
   ]
  },
  {
   "cell_type": "code",
   "execution_count": 145,
   "metadata": {},
   "outputs": [
    {
     "data": {
      "text/plain": [
       "1.01442604448999"
      ]
     },
     "execution_count": 145,
     "metadata": {},
     "output_type": "execute_result"
    }
   ],
   "source": [
    "nn1pred= nn1.predict([ratings_score_test.user_id_emb, ratings_score_test.anime_id_emb])\n",
    "nn1targ = ratings_score_test.score.values\n",
    "mean_absolute_error(nn1targ, nn1pred)"
   ]
  },
  {
   "cell_type": "code",
   "execution_count": 146,
   "metadata": {
    "collapsed": true
   },
   "outputs": [],
   "source": [
    "nn1.save_weights('nn_score_weights_orig.h5')"
   ]
  },
  {
   "cell_type": "code",
   "execution_count": null,
   "metadata": {
    "collapsed": true
   },
   "outputs": [],
   "source": [
    "#plot_model(nn1, to_file='score.png')\n",
    "#plot_model(nn12, to_file='user_score.png')\n",
    "#plot_model(nn13, to_file='anime_score.png')"
   ]
  },
  {
   "cell_type": "markdown",
   "metadata": {},
   "source": [
    "The NN2 Branch.\n",
    "This drop all scores for shows that are not  listed as complete.\n"
   ]
  },
  {
   "cell_type": "code",
   "execution_count": null,
   "metadata": {
    "collapsed": true
   },
   "outputs": [],
   "source": [
    "ratings_score_train.head()"
   ]
  },
  {
   "cell_type": "code",
   "execution_count": null,
   "metadata": {
    "collapsed": true
   },
   "outputs": [],
   "source": [
    "ratings_score_train_complete= ratings_score_train[(ratings_score_train['status']=='COMPLETED') | (ratings_score_train['status']=='DROPPED')]"
   ]
  },
  {
   "cell_type": "code",
   "execution_count": 147,
   "metadata": {
    "collapsed": true
   },
   "outputs": [],
   "source": [
    "#ratings_score_train_complete= ratings_score_train # This Variation allows for hold, watching etc to also be used. "
   ]
  },
  {
   "cell_type": "code",
   "execution_count": 149,
   "metadata": {},
   "outputs": [
    {
     "name": "stderr",
     "output_type": "stream",
     "text": [
      "/usr/local/lib/python3.5/dist-packages/ipykernel_launcher.py:6: UserWarning: Update your `Embedding` call to the Keras 2 API: `Embedding(229771, 32, input_length=1, name=\"Embed_User_Hidden_Factors\", embeddings_regularizer=<keras.reg...)`\n",
      "  \n",
      "/usr/local/lib/python3.5/dist-packages/ipykernel_launcher.py:3: UserWarning: Update your `Embedding` call to the Keras 2 API: `Embedding(12826, 32, input_length=1, name=\"Embed_Anime_Hidden_Factors\", embeddings_regularizer=<keras.reg...)`\n",
      "  This is separate from the ipykernel package so we can avoid doing imports until\n",
      "/usr/local/lib/python3.5/dist-packages/ipykernel_launcher.py:11: UserWarning: The `merge` function is deprecated and will be removed after 08/2017. Use instead layers from `keras.layers.merge`, e.g. `add`, `concatenate`, etc.\n",
      "  # This is added back by InteractiveShellApp.init_path()\n",
      "/usr/local/lib/python3.5/dist-packages/keras/legacy/layers.py:458: UserWarning: The `Merge` layer is deprecated and will be removed after 08/2017. Use instead layers from `keras.layers.merge`, e.g. `add`, `concatenate`, etc.\n",
      "  name=name)\n"
     ]
    }
   ],
   "source": [
    "def embedding_input_anime22(name, n_in, n_out, reg):\n",
    "    inp = Input(shape=(1,), dtype='int64', name=name)\n",
    "    return inp, Embedding(n_in, n_out, input_length=1, W_regularizer=l2(reg),name='Embed_Anime_Hidden_Factors')(inp)\n",
    "def embedding_input_user22(name, n_in, n_out, reg):\n",
    "    inp = Input(shape=(1,), dtype='int64', name=name)\n",
    "    return inp, Embedding(n_in, n_out, input_length=1, W_regularizer=l2(reg),name='Embed_User_Hidden_Factors')(inp)\n",
    "\n",
    "user_in22, u22 = embedding_input_user22('user_id_in', n_users+15, n_factors, 1e-7)\n",
    "anime_in22, a22 = embedding_input_anime22('anime_id_in', n_animes, n_factors, 1e-8)\n",
    "# nn22, It is only given complete. Trying to predict usr scaled score. \n",
    "x = merge([u22, a22], mode='concat', name='All_Factors_on_one_layer')\n",
    "x = Flatten()(x)\n",
    "x = Dropout(0.55, name='Prevent_overfit')(x)\n",
    "x = Dense(70, activation='relu',name='Random_HF_Interactions')(x)\n",
    "x = Dropout(0.55,name='Prevent_overfit2')(x)\n",
    "x = Dense(16, activation='relu',name='Random_HF_Interactions2')(x)\n",
    "x = Dense(1,name='Final_Interactions')(x)\n",
    "nn22 = Model([user_in22, anime_in22], x)\n",
    "nn22.compile(Adam(0.001), loss='mse')"
   ]
  },
  {
   "cell_type": "code",
   "execution_count": 150,
   "metadata": {},
   "outputs": [
    {
     "name": "stdout",
     "output_type": "stream",
     "text": [
      "Train on 9677648 samples, validate on 1210873 samples\n",
      "Epoch 1/5\n",
      "9677648/9677648 [==============================] - 24s - loss: 1.6767 - val_loss: 1.5965\n",
      "Epoch 2/5\n",
      "9677648/9677648 [==============================] - 23s - loss: 1.5972 - val_loss: 1.5794\n",
      "Epoch 3/5\n",
      "9677648/9677648 [==============================] - 23s - loss: 1.5766 - val_loss: 1.5782\n",
      "Epoch 4/5\n",
      "9677648/9677648 [==============================] - 23s - loss: 1.5657 - val_loss: 1.5838\n",
      "Epoch 5/5\n",
      "9677648/9677648 [==============================] - 23s - loss: 1.5580 - val_loss: 1.5905\n"
     ]
    },
    {
     "data": {
      "text/plain": [
       "<keras.callbacks.History at 0x7f07a19d0f98>"
      ]
     },
     "execution_count": 150,
     "metadata": {},
     "output_type": "execute_result"
    }
   ],
   "source": [
    "nn22.fit([ratings_score_train_complete.user_id_emb, ratings_score_train_complete.anime_id_emb], ratings_score_train_complete.score_usr_scaled, batch_size=5120, epochs=5, \n",
    "          validation_data=([ratings_score_test.user_id_emb, ratings_score_test.anime_id_emb], ratings_score_test.score_usr_scaled))"
   ]
  },
  {
   "cell_type": "code",
   "execution_count": 151,
   "metadata": {},
   "outputs": [
    {
     "name": "stdout",
     "output_type": "stream",
     "text": [
      "Train on 9677648 samples, validate on 1210873 samples\n",
      "Epoch 1/8\n",
      "9677648/9677648 [==============================] - 11s - loss: 1.5429 - val_loss: 1.5795\n",
      "Epoch 2/8\n",
      "9677648/9677648 [==============================] - 11s - loss: 1.5386 - val_loss: 1.5797\n",
      "Epoch 3/8\n",
      "9677648/9677648 [==============================] - 11s - loss: 1.5361 - val_loss: 1.5803\n",
      "Epoch 4/8\n",
      "9677648/9677648 [==============================] - 11s - loss: 1.5335 - val_loss: 1.5766\n",
      "Epoch 5/8\n",
      "9677648/9677648 [==============================] - 11s - loss: 1.5310 - val_loss: 1.5695\n",
      "Epoch 6/8\n",
      "9677648/9677648 [==============================] - 11s - loss: 1.5282 - val_loss: 1.5710\n",
      "Epoch 7/8\n",
      "9677648/9677648 [==============================] - 11s - loss: 1.5258 - val_loss: 1.5658\n",
      "Epoch 8/8\n",
      "9677648/9677648 [==============================] - 11s - loss: 1.5232 - val_loss: 1.5680\n"
     ]
    },
    {
     "data": {
      "text/plain": [
       "<keras.callbacks.History at 0x7f07bf6be240>"
      ]
     },
     "execution_count": 151,
     "metadata": {},
     "output_type": "execute_result"
    }
   ],
   "source": [
    "nn22.fit([ratings_score_train_complete.user_id_emb, ratings_score_train_complete.anime_id_emb], ratings_score_train_complete.score_usr_scaled, batch_size=15120, epochs=8, \n",
    "          validation_data=([ratings_score_test.user_id_emb, ratings_score_test.anime_id_emb], ratings_score_test.score_usr_scaled))"
   ]
  },
  {
   "cell_type": "code",
   "execution_count": 152,
   "metadata": {
    "collapsed": true
   },
   "outputs": [],
   "source": [
    "nn22.save_weights('nn_score_usr_weights_orig.h5')"
   ]
  },
  {
   "cell_type": "code",
   "execution_count": 153,
   "metadata": {},
   "outputs": [
    {
     "data": {
      "text/plain": [
       "0.93747145176742608"
      ]
     },
     "execution_count": 153,
     "metadata": {},
     "output_type": "execute_result"
    }
   ],
   "source": [
    "nn22pred= nn22.predict([ratings_score_test.user_id_emb, ratings_score_test.anime_id_emb])\n",
    "nn22targ = ratings_score_test.score_usr_scaled.values\n",
    "mean_absolute_error(nn22targ, nn22pred)"
   ]
  },
  {
   "cell_type": "code",
   "execution_count": 154,
   "metadata": {},
   "outputs": [
    {
     "name": "stderr",
     "output_type": "stream",
     "text": [
      "/usr/local/lib/python3.5/dist-packages/ipykernel_launcher.py:6: UserWarning: Update your `Embedding` call to the Keras 2 API: `Embedding(229771, 32, input_length=1, name=\"Embed_User_Hidden_Factors\", embeddings_regularizer=<keras.reg...)`\n",
      "  \n",
      "/usr/local/lib/python3.5/dist-packages/ipykernel_launcher.py:3: UserWarning: Update your `Embedding` call to the Keras 2 API: `Embedding(12826, 32, input_length=1, name=\"Embed_Anime_Hidden_Factors\", embeddings_regularizer=<keras.reg...)`\n",
      "  This is separate from the ipykernel package so we can avoid doing imports until\n",
      "/usr/local/lib/python3.5/dist-packages/ipykernel_launcher.py:11: UserWarning: The `merge` function is deprecated and will be removed after 08/2017. Use instead layers from `keras.layers.merge`, e.g. `add`, `concatenate`, etc.\n",
      "  # This is added back by InteractiveShellApp.init_path()\n",
      "/usr/local/lib/python3.5/dist-packages/keras/legacy/layers.py:458: UserWarning: The `Merge` layer is deprecated and will be removed after 08/2017. Use instead layers from `keras.layers.merge`, e.g. `add`, `concatenate`, etc.\n",
      "  name=name)\n"
     ]
    }
   ],
   "source": [
    "def embedding_input_anime23(name, n_in, n_out, reg):\n",
    "    inp = Input(shape=(1,), dtype='int64', name=name)\n",
    "    return inp, Embedding(n_in, n_out, input_length=1, W_regularizer=l2(reg),name='Embed_Anime_Hidden_Factors')(inp)\n",
    "def embedding_input_user23(name, n_in, n_out, reg):\n",
    "    inp = Input(shape=(1,), dtype='int64', name=name)\n",
    "    return inp, Embedding(n_in, n_out, input_length=1, W_regularizer=l2(reg),name='Embed_User_Hidden_Factors')(inp)\n",
    "\n",
    "user_in23, u23 = embedding_input_user23('user_id_in', n_users+15, n_factors, 1e-7)\n",
    "anime_in23, a23 = embedding_input_anime23('anime_id_in', n_animes, n_factors, 1e-8)\n",
    "# nn23, It is only given complete. Trying to predict anime scaled score. \n",
    "x = merge([u23, a23], mode='concat', name='All_Factors_on_one_layer')\n",
    "x = Flatten()(x)\n",
    "x = Dropout(0.55, name='Prevent_overfit')(x)\n",
    "x = Dense(70, activation='relu',name='Random_HF_Interactions')(x)\n",
    "x = Dropout(0.55,name='Prevent_overfit2')(x)\n",
    "x = Dense(16, activation='relu',name='Random_HF_Interactions2')(x)\n",
    "x = Dense(1,name='Final_Interactions')(x)\n",
    "nn23 = Model([user_in23, anime_in23], x)\n",
    "nn23.compile(Adam(0.001), loss='mse')"
   ]
  },
  {
   "cell_type": "code",
   "execution_count": 155,
   "metadata": {},
   "outputs": [
    {
     "name": "stdout",
     "output_type": "stream",
     "text": [
      "Train on 9677648 samples, validate on 1210873 samples\n",
      "Epoch 1/5\n",
      "9677648/9677648 [==============================] - 23s - loss: 1.7921 - val_loss: 1.7744\n",
      "Epoch 2/5\n",
      "9677648/9677648 [==============================] - 22s - loss: 1.6563 - val_loss: 1.7464\n",
      "Epoch 3/5\n",
      "9677648/9677648 [==============================] - 22s - loss: 1.6281 - val_loss: 1.7353\n",
      "Epoch 4/5\n",
      "9677648/9677648 [==============================] - 22s - loss: 1.6107 - val_loss: 1.7507\n",
      "Epoch 5/5\n",
      "9677648/9677648 [==============================] - 22s - loss: 1.5987 - val_loss: 1.7530\n"
     ]
    },
    {
     "data": {
      "text/plain": [
       "<keras.callbacks.History at 0x7f0792184fd0>"
      ]
     },
     "execution_count": 155,
     "metadata": {},
     "output_type": "execute_result"
    }
   ],
   "source": [
    "nn23.fit([ratings_score_train_complete.user_id_emb, ratings_score_train_complete.anime_id_emb], ratings_score_train_complete.score_anime_scaled, batch_size=5120, epochs=5, \n",
    "          validation_data=([ratings_score_test.user_id_emb, ratings_score_test.anime_id_emb], ratings_score_test.score_anime_scaled))"
   ]
  },
  {
   "cell_type": "code",
   "execution_count": 156,
   "metadata": {},
   "outputs": [
    {
     "name": "stdout",
     "output_type": "stream",
     "text": [
      "Train on 9677648 samples, validate on 1210873 samples\n",
      "Epoch 1/8\n",
      "9677648/9677648 [==============================] - 11s - loss: 1.6468 - val_loss: 2.1152\n",
      "Epoch 2/8\n",
      "9677648/9677648 [==============================] - 11s - loss: 1.7907 - val_loss: 2.0473\n",
      "Epoch 3/8\n",
      "9677648/9677648 [==============================] - 11s - loss: 1.8625 - val_loss: 2.1534\n",
      "Epoch 4/8\n",
      "9677648/9677648 [==============================] - 11s - loss: 1.9112 - val_loss: 2.1735\n",
      "Epoch 5/8\n",
      "9677648/9677648 [==============================] - 11s - loss: 1.9717 - val_loss: 2.2579\n",
      "Epoch 6/8\n",
      "9677648/9677648 [==============================] - 11s - loss: 2.0448 - val_loss: 2.4646\n",
      "Epoch 7/8\n",
      "9677648/9677648 [==============================] - 11s - loss: 2.1702 - val_loss: 2.4314\n",
      "Epoch 8/8\n",
      "9677648/9677648 [==============================] - 11s - loss: 2.1903 - val_loss: 2.4573\n"
     ]
    },
    {
     "data": {
      "text/plain": [
       "<keras.callbacks.History at 0x7f0732e81630>"
      ]
     },
     "execution_count": 156,
     "metadata": {},
     "output_type": "execute_result"
    }
   ],
   "source": [
    "nn23.fit([ratings_score_train_complete.user_id_emb, ratings_score_train_complete.anime_id_emb], ratings_score_train_complete.score_anime_scaled, batch_size=15120, epochs=8, \n",
    "          validation_data=([ratings_score_test.user_id_emb, ratings_score_test.anime_id_emb], ratings_score_test.score_anime_scaled))"
   ]
  },
  {
   "cell_type": "code",
   "execution_count": 157,
   "metadata": {
    "collapsed": true
   },
   "outputs": [],
   "source": [
    "nn23.save_weights('nn_score_anime_weights_orig.h5')"
   ]
  },
  {
   "cell_type": "code",
   "execution_count": 158,
   "metadata": {
    "scrolled": true
   },
   "outputs": [
    {
     "data": {
      "text/plain": [
       "0.99841925557038202"
      ]
     },
     "execution_count": 158,
     "metadata": {},
     "output_type": "execute_result"
    }
   ],
   "source": [
    "nn23pred= nn23.predict([ratings_score_test.user_id_emb, ratings_score_test.anime_id_emb])\n",
    "nn23targ = ratings_score_test.score_anime_scaled.values\n",
    "mean_absolute_error(nn23targ, nn23pred)"
   ]
  },
  {
   "cell_type": "code",
   "execution_count": null,
   "metadata": {
    "collapsed": true
   },
   "outputs": [],
   "source": []
  }
 ],
 "metadata": {
  "kernelspec": {
   "display_name": "Python 3",
   "language": "python",
   "name": "python3"
  },
  "language_info": {
   "codemirror_mode": {
    "name": "ipython",
    "version": 3
   },
   "file_extension": ".py",
   "mimetype": "text/x-python",
   "name": "python",
   "nbconvert_exporter": "python",
   "pygments_lexer": "ipython3",
   "version": "3.5.2"
  }
 },
 "nbformat": 4,
 "nbformat_minor": 2
}
