{
 "cells": [
  {
   "cell_type": "code",
   "execution_count": 8,
   "metadata": {},
   "outputs": [],
   "source": [
    "import numpy as np\n",
    "from keras import backend as K\n",
    "from keras.layers import Input, Embedding, merge\n",
    "import keras.layers\n",
    "from keras.regularizers import l2, l1\n",
    "from keras.layers.core import Flatten, Dense, Dropout, Lambda\n",
    "from keras.models import Sequential, Model\n",
    "from keras.optimizers import SGD, RMSprop, Adam\n",
    "from IPython.display import SVG\n",
    "from keras.utils.vis_utils import model_to_dot\n",
    "import pydotplus as pydot \n",
    "import graphviz\n",
    "from keras.utils import plot_model\n"
   ]
  },
  {
   "cell_type": "code",
   "execution_count": null,
   "metadata": {
    "collapsed": true
   },
   "outputs": [],
   "source": []
  },
  {
   "cell_type": "code",
   "execution_count": 9,
   "metadata": {
    "collapsed": true
   },
   "outputs": [],
   "source": [
    "import pandas as pd"
   ]
  },
  {
   "cell_type": "code",
   "execution_count": 10,
   "metadata": {
    "collapsed": true
   },
   "outputs": [],
   "source": [
    "csvtoload = 'animeedascores.csv'"
   ]
  },
  {
   "cell_type": "markdown",
   "metadata": {},
   "source": [
    "Data is loaded as ratings temp, then transformed into ratings 1,2,3 then fed into a neural Net. THe data istransformed differently for temp 4. \n",
    "1st removes all 0's. \n",
    "2nd is limited only to shows that are completed.\n",
    "3rd uses a some numerical transformations to reward intend to see, penalize on hold, and greatly penalize dropped shows. \n",
    "4th doesn't modify the data, but will be fed into a neural network that will attempt to embed the status with n hidden factors, which will be appended to the anime's status. "
   ]
  },
  {
   "cell_type": "code",
   "execution_count": 11,
   "metadata": {
    "collapsed": true
   },
   "outputs": [],
   "source": [
    "ratingstemp = pd.read_csv(csvtoload) # This is a subset of reviews with all 0's dropped. \n",
    "ratingstemp['userid']=ratingstemp['index']\n",
    "ratingstemp['score']=ratingstemp['animescore']"
   ]
  },
  {
   "cell_type": "code",
   "execution_count": 12,
   "metadata": {
    "collapsed": true
   },
   "outputs": [],
   "source": [
    "ratings_1=ratingstemp[(ratingstemp['score']!=0)] # this represents only shows that have a non zero score"
   ]
  },
  {
   "cell_type": "code",
   "execution_count": 13,
   "metadata": {
    "collapsed": true
   },
   "outputs": [],
   "source": [
    "ratings_2=ratingstemp[ratingstemp['status']=='COMPLETED'] # this represents only shows that viewer claims to have completed."
   ]
  },
  {
   "cell_type": "code",
   "execution_count": 14,
   "metadata": {
    "collapsed": true
   },
   "outputs": [],
   "source": [
    "ratings_3= ratingstemp.copy()# this involves some more advanced modifications\n"
   ]
  },
  {
   "cell_type": "code",
   "execution_count": 15,
   "metadata": {},
   "outputs": [
    {
     "data": {
      "text/html": [
       "<div>\n",
       "<style>\n",
       "    .dataframe thead tr:only-child th {\n",
       "        text-align: right;\n",
       "    }\n",
       "\n",
       "    .dataframe thead th {\n",
       "        text-align: left;\n",
       "    }\n",
       "\n",
       "    .dataframe tbody tr th {\n",
       "        vertical-align: top;\n",
       "    }\n",
       "</style>\n",
       "<table border=\"1\" class=\"dataframe\">\n",
       "  <thead>\n",
       "    <tr style=\"text-align: right;\">\n",
       "      <th></th>\n",
       "      <th>Unnamed: 0</th>\n",
       "      <th>Unnamed: 0.1</th>\n",
       "      <th>animeid</th>\n",
       "      <th>animescore</th>\n",
       "      <th>index</th>\n",
       "      <th>name</th>\n",
       "      <th>status</th>\n",
       "      <th>unkey</th>\n",
       "      <th>userid</th>\n",
       "      <th>score</th>\n",
       "    </tr>\n",
       "  </thead>\n",
       "  <tbody>\n",
       "    <tr>\n",
       "      <th>0</th>\n",
       "      <td>0</td>\n",
       "      <td>0</td>\n",
       "      <td>32878</td>\n",
       "      <td>0</td>\n",
       "      <td>palelion</td>\n",
       "      <td>palelion</td>\n",
       "      <td>CONSUMING</td>\n",
       "      <td>32878palelion</td>\n",
       "      <td>palelion</td>\n",
       "      <td>0</td>\n",
       "    </tr>\n",
       "    <tr>\n",
       "      <th>1</th>\n",
       "      <td>1</td>\n",
       "      <td>1</td>\n",
       "      <td>31964</td>\n",
       "      <td>0</td>\n",
       "      <td>palelion</td>\n",
       "      <td>palelion</td>\n",
       "      <td>CONSUMING</td>\n",
       "      <td>31964palelion</td>\n",
       "      <td>palelion</td>\n",
       "      <td>0</td>\n",
       "    </tr>\n",
       "    <tr>\n",
       "      <th>2</th>\n",
       "      <td>2</td>\n",
       "      <td>2</td>\n",
       "      <td>13367</td>\n",
       "      <td>0</td>\n",
       "      <td>palelion</td>\n",
       "      <td>palelion</td>\n",
       "      <td>CONSUMING</td>\n",
       "      <td>13367palelion</td>\n",
       "      <td>palelion</td>\n",
       "      <td>0</td>\n",
       "    </tr>\n",
       "    <tr>\n",
       "      <th>3</th>\n",
       "      <td>3</td>\n",
       "      <td>3</td>\n",
       "      <td>189</td>\n",
       "      <td>0</td>\n",
       "      <td>palelion</td>\n",
       "      <td>palelion</td>\n",
       "      <td>CONSUMING</td>\n",
       "      <td>189palelion</td>\n",
       "      <td>palelion</td>\n",
       "      <td>0</td>\n",
       "    </tr>\n",
       "    <tr>\n",
       "      <th>4</th>\n",
       "      <td>4</td>\n",
       "      <td>4</td>\n",
       "      <td>330</td>\n",
       "      <td>0</td>\n",
       "      <td>palelion</td>\n",
       "      <td>palelion</td>\n",
       "      <td>CONSUMING</td>\n",
       "      <td>330palelion</td>\n",
       "      <td>palelion</td>\n",
       "      <td>0</td>\n",
       "    </tr>\n",
       "  </tbody>\n",
       "</table>\n",
       "</div>"
      ],
      "text/plain": [
       "   Unnamed: 0  Unnamed: 0.1  animeid  animescore     index      name  \\\n",
       "0           0             0    32878           0  palelion  palelion   \n",
       "1           1             1    31964           0  palelion  palelion   \n",
       "2           2             2    13367           0  palelion  palelion   \n",
       "3           3             3      189           0  palelion  palelion   \n",
       "4           4             4      330           0  palelion  palelion   \n",
       "\n",
       "      status          unkey    userid  score  \n",
       "0  CONSUMING  32878palelion  palelion      0  \n",
       "1  CONSUMING  31964palelion  palelion      0  \n",
       "2  CONSUMING  13367palelion  palelion      0  \n",
       "3  CONSUMING    189palelion  palelion      0  \n",
       "4  CONSUMING    330palelion  palelion      0  "
      ]
     },
     "execution_count": 15,
     "metadata": {},
     "output_type": "execute_result"
    }
   ],
   "source": [
    "ratings_3.head()"
   ]
  },
  {
   "cell_type": "code",
   "execution_count": 16,
   "metadata": {
    "collapsed": true
   },
   "outputs": [],
   "source": [
    "scoreadj = {'COMPLETED':0,'CONSUMING':0,'DROPPED':-2,'ONHOLD':-1,'BACKLOG':-.5}\n",
    "\n",
    "ratings_3['score_adj']= ratings_3.status.map(scoreadj)"
   ]
  },
  {
   "cell_type": "code",
   "execution_count": 17,
   "metadata": {
    "collapsed": true
   },
   "outputs": [],
   "source": [
    "ratings_3['score']=ratings_3['score']+ratings_3['score_adj']"
   ]
  },
  {
   "cell_type": "code",
   "execution_count": 18,
   "metadata": {
    "collapsed": true
   },
   "outputs": [],
   "source": [
    "#ratings_3.tail()"
   ]
  },
  {
   "cell_type": "code",
   "execution_count": 19,
   "metadata": {
    "collapsed": true
   },
   "outputs": [],
   "source": [
    "ratings_4=ratingstemp.copy()# this is the same as ratings 3, but with imputed scores for 0's."
   ]
  },
  {
   "cell_type": "code",
   "execution_count": 20,
   "metadata": {
    "collapsed": true
   },
   "outputs": [],
   "source": [
    "ratings_4_1 = ratings_4[ratings_4['score']==0]\n",
    "ratings_4_2 = ratings_4[ratings_4['score']!=0]\n",
    "scoreimpute = {'COMPLETED':8,'CONSUMING':7,'DROPPED':3,'ONHOLD':5,'BACKLOG':6}"
   ]
  },
  {
   "cell_type": "code",
   "execution_count": 21,
   "metadata": {},
   "outputs": [
    {
     "name": "stderr",
     "output_type": "stream",
     "text": [
      "/home/nerd/Data/Conda/lib/python3.6/site-packages/ipykernel_launcher.py:1: SettingWithCopyWarning: \n",
      "A value is trying to be set on a copy of a slice from a DataFrame.\n",
      "Try using .loc[row_indexer,col_indexer] = value instead\n",
      "\n",
      "See the caveats in the documentation: http://pandas.pydata.org/pandas-docs/stable/indexing.html#indexing-view-versus-copy\n",
      "  \"\"\"Entry point for launching an IPython kernel.\n"
     ]
    }
   ],
   "source": [
    "ratings_4_1['score']=ratings_4_1.status.map(scoreimpute)"
   ]
  },
  {
   "cell_type": "code",
   "execution_count": 22,
   "metadata": {
    "collapsed": true
   },
   "outputs": [],
   "source": [
    "#ratings_4_1.tail()"
   ]
  },
  {
   "cell_type": "code",
   "execution_count": 23,
   "metadata": {
    "collapsed": true
   },
   "outputs": [],
   "source": [
    "ratings_4.loc[ratings_4_1.index,'score']= ratings_4_1['score']"
   ]
  },
  {
   "cell_type": "code",
   "execution_count": 24,
   "metadata": {
    "collapsed": true
   },
   "outputs": [],
   "source": [
    "#ratings_4_1['score']"
   ]
  },
  {
   "cell_type": "code",
   "execution_count": 25,
   "metadata": {
    "collapsed": true
   },
   "outputs": [],
   "source": [
    "#ratings_4.head()"
   ]
  },
  {
   "cell_type": "code",
   "execution_count": 26,
   "metadata": {
    "collapsed": true
   },
   "outputs": [],
   "source": [
    "#ratings_4=ratings_4[ratings_4['status']!='BACKLOG']\n",
    "#ratings_4['status'].value_counts()"
   ]
  },
  {
   "cell_type": "code",
   "execution_count": 27,
   "metadata": {
    "collapsed": true
   },
   "outputs": [],
   "source": [
    "ratings_5= ratingstemp.copy() # this will be unmodified, but the neural network will have a different architecture"
   ]
  },
  {
   "cell_type": "code",
   "execution_count": 28,
   "metadata": {
    "collapsed": true
   },
   "outputs": [],
   "source": [
    "def prep_for_keras1(df):\n",
    "    users = df.userid.unique()\n",
    "    animes = df.animeid.unique()\n",
    "    userid2idx = {o:i for i,o in enumerate(users)} # turn the user strings into a numerical value. \n",
    "    animeid2idx = {o:i for i,o in enumerate(animes)} # remove missing anime numbers and re-order\n",
    "    df['anime_id'] = df.animeid.apply(lambda x: animeid2idx[x]) #the above code set up mapping, this applies it. \n",
    "    df.userid = df.userid.apply(lambda x: userid2idx[x])# the above code set up mapping, this applies it.\n",
    "    n_users = df.userid.nunique()\n",
    "    n_animes = df.anime_id.nunique()\n",
    "    return df,n_users, n_animes,userid2idx,animeid2idx"
   ]
  },
  {
   "cell_type": "code",
   "execution_count": 29,
   "metadata": {},
   "outputs": [
    {
     "name": "stderr",
     "output_type": "stream",
     "text": [
      "/home/nerd/Data/Conda/lib/python3.6/site-packages/ipykernel_launcher.py:6: SettingWithCopyWarning: \n",
      "A value is trying to be set on a copy of a slice from a DataFrame.\n",
      "Try using .loc[row_indexer,col_indexer] = value instead\n",
      "\n",
      "See the caveats in the documentation: http://pandas.pydata.org/pandas-docs/stable/indexing.html#indexing-view-versus-copy\n",
      "  \n",
      "/home/nerd/Data/Conda/lib/python3.6/site-packages/pandas/core/generic.py:2999: SettingWithCopyWarning: \n",
      "A value is trying to be set on a copy of a slice from a DataFrame.\n",
      "Try using .loc[row_indexer,col_indexer] = value instead\n",
      "\n",
      "See the caveats in the documentation: http://pandas.pydata.org/pandas-docs/stable/indexing.html#indexing-view-versus-copy\n",
      "  self[name] = value\n"
     ]
    }
   ],
   "source": [
    "ratings1, n_users1,n_animes1,useridnn1,animeidnn1 = prep_for_keras1(ratings_1)"
   ]
  },
  {
   "cell_type": "code",
   "execution_count": 30,
   "metadata": {
    "collapsed": true
   },
   "outputs": [],
   "source": [
    "n_factors = 40"
   ]
  },
  {
   "cell_type": "code",
   "execution_count": 31,
   "metadata": {
    "collapsed": true
   },
   "outputs": [],
   "source": [
    "msk1 = np.random.rand(len(ratings1)) < 0.8 #training vs test set ratio\n",
    "trn1 = ratings1[msk1]\n",
    "val1 = ratings1[~msk1]"
   ]
  },
  {
   "cell_type": "code",
   "execution_count": 32,
   "metadata": {
    "collapsed": true
   },
   "outputs": [],
   "source": [
    "user_in = Input(shape=(1,), dtype='int64', name='user_in')\n",
    "u = Embedding(n_users1, n_factors, input_length=1, embeddings_regularizer=l2(1e-4))(user_in)\n",
    "anime_in = Input(shape=(1,), dtype='int64', name='anime_in')\n",
    "m = Embedding(n_animes1, n_factors, input_length=1, embeddings_regularizer=l2(1e-4))(anime_in)"
   ]
  },
  {
   "cell_type": "code",
   "execution_count": 26,
   "metadata": {
    "collapsed": true
   },
   "outputs": [],
   "source": [
    "x = keras.layers.dot([u, m], axes=2)\n",
    "x = Flatten()(x)\n",
    "model = Model([user_in, anime_in], x)\n",
    "model.compile(Adam(0.001), loss='mae')"
   ]
  },
  {
   "cell_type": "code",
   "execution_count": 27,
   "metadata": {
    "collapsed": true
   },
   "outputs": [],
   "source": [
    "model.lr=.5"
   ]
  },
  {
   "cell_type": "code",
   "execution_count": 28,
   "metadata": {},
   "outputs": [
    {
     "name": "stdout",
     "output_type": "stream",
     "text": [
      "Train on 3795465 samples, validate on 947488 samples\n",
      "Epoch 1/1\n",
      "3795465/3795465 [==============================] - 9s - loss: 7.7553 - val_loss: 7.7524\n"
     ]
    },
    {
     "data": {
      "text/plain": [
       "<keras.callbacks.History at 0x7fd154f88ac8>"
      ]
     },
     "execution_count": 28,
     "metadata": {},
     "output_type": "execute_result"
    }
   ],
   "source": [
    "model.fit([trn1.userid, trn1.anime_id], trn1.score, batch_size=5120, epochs=1, \n",
    "          validation_data=([val1.userid, val1.anime_id], val1.score))"
   ]
  },
  {
   "cell_type": "code",
   "execution_count": null,
   "metadata": {
    "collapsed": true
   },
   "outputs": [],
   "source": [
    "\n"
   ]
  },
  {
   "cell_type": "code",
   "execution_count": null,
   "metadata": {
    "collapsed": true
   },
   "outputs": [],
   "source": []
  },
  {
   "cell_type": "code",
   "execution_count": 45,
   "metadata": {
    "collapsed": true
   },
   "outputs": [],
   "source": [
    "def embedding_input_anime(name, n_in, n_out, reg):\n",
    "    inp = Input(shape=(1,), dtype='int64', name=name)\n",
    "    return inp, Embedding(n_in, n_out, input_length=1, W_regularizer=l2(reg),name='Embed_Anime_Hidden_Factors')(inp)\n",
    "def embedding_input_user(name, n_in, n_out, reg):\n",
    "    inp = Input(shape=(1,), dtype='int64', name=name)\n",
    "    return inp, Embedding(n_in, n_out, input_length=1, W_regularizer=l2(reg),name='Embed_User_Hidden_Factors')(inp)\n",
    "def embedding_input_status(name, n_in, n_out, reg):\n",
    "    inp = Input(shape=(1,), dtype='int64', name=name)\n",
    "    return inp, Embedding(n_in, n_out, input_length=1, W_regularizer=l2(reg),name='Embed_Status_Hidden_Factors')(inp)"
   ]
  },
  {
   "cell_type": "code",
   "execution_count": 34,
   "metadata": {},
   "outputs": [
    {
     "name": "stderr",
     "output_type": "stream",
     "text": [
      "/home/nerd/Data/Conda/lib/python3.6/site-packages/ipykernel_launcher.py:6: UserWarning: Update your `Embedding` call to the Keras 2 API: `Embedding(74849, 40, input_length=1, name=\"Embed_User_Hidden_Factors\", embeddings_regularizer=<keras.reg...)`\n",
      "  \n",
      "/home/nerd/Data/Conda/lib/python3.6/site-packages/ipykernel_launcher.py:3: UserWarning: Update your `Embedding` call to the Keras 2 API: `Embedding(10412, 40, input_length=1, name=\"Embed_Anime_Hidden_Factors\", embeddings_regularizer=<keras.reg...)`\n",
      "  This is separate from the ipykernel package so we can avoid doing imports until\n"
     ]
    }
   ],
   "source": [
    "user_in1, u1 = embedding_input_user('user_id_in', n_users1, n_factors, 1e-4)\n",
    "anime_in1, a1 = embedding_input_anime('anime_id_in', n_animes1, n_factors, 1e-4)"
   ]
  },
  {
   "cell_type": "code",
   "execution_count": 37,
   "metadata": {},
   "outputs": [
    {
     "name": "stderr",
     "output_type": "stream",
     "text": [
      "/home/nerd/Data/Conda/lib/python3.6/site-packages/ipykernel_launcher.py:1: UserWarning: The `merge` function is deprecated and will be removed after 08/2017. Use instead layers from `keras.layers.merge`, e.g. `add`, `concatenate`, etc.\n",
      "  \"\"\"Entry point for launching an IPython kernel.\n",
      "/home/nerd/Data/Conda/lib/python3.6/site-packages/keras/legacy/layers.py:456: UserWarning: The `Merge` layer is deprecated and will be removed after 08/2017. Use instead layers from `keras.layers.merge`, e.g. `add`, `concatenate`, etc.\n",
      "  name=name)\n"
     ]
    }
   ],
   "source": [
    "x = merge([u1, a1], mode='concat', name='All_Factors_on_one_layer')\n",
    "x = Flatten()(x)\n",
    "x = Dropout(0.3, name='Prevent_overfit')(x)\n",
    "x = Dense(70, activation='relu',name='Random_HF_Interactions')(x)\n",
    "x = Dropout(0.75,name='Prevent_overfit2')(x)\n",
    "x = Dense(1,name='Final_Interactions')(x)\n",
    "nn1 = Model([user_in1, anime_in1], x)\n",
    "nn1.compile(Adam(0.001), loss='mse')"
   ]
  },
  {
   "cell_type": "code",
   "execution_count": 32,
   "metadata": {},
   "outputs": [
    {
     "name": "stdout",
     "output_type": "stream",
     "text": [
      "Train on 3795465 samples, validate on 947488 samples\n",
      "Epoch 1/1\n",
      "3795465/3795465 [==============================] - 8s - loss: 11.8896 - val_loss: 2.4877\n"
     ]
    },
    {
     "data": {
      "text/plain": [
       "<keras.callbacks.History at 0x7fd154a8f6d8>"
      ]
     },
     "execution_count": 32,
     "metadata": {},
     "output_type": "execute_result"
    }
   ],
   "source": [
    "nn1.fit([trn1.userid, trn1.anime_id], trn1.score, batch_size=5120, epochs=1, \n",
    "          validation_data=([val1.userid, val1.anime_id], val1.score))"
   ]
  },
  {
   "cell_type": "code",
   "execution_count": 33,
   "metadata": {
    "collapsed": true
   },
   "outputs": [],
   "source": [
    "nn1.lr=.5"
   ]
  },
  {
   "cell_type": "code",
   "execution_count": 34,
   "metadata": {},
   "outputs": [
    {
     "ename": "NameError",
     "evalue": "name 'trn' is not defined",
     "output_type": "error",
     "traceback": [
      "\u001b[0;31m---------------------------------------------------------------------------\u001b[0m",
      "\u001b[0;31mNameError\u001b[0m                                 Traceback (most recent call last)",
      "\u001b[0;32m<ipython-input-34-2c62c95e8e69>\u001b[0m in \u001b[0;36m<module>\u001b[0;34m()\u001b[0m\n\u001b[0;32m----> 1\u001b[0;31m nn1.fit([trn.userid, trn.anime_id], trn.score, batch_size=5120, epochs=6, \n\u001b[0m\u001b[1;32m      2\u001b[0m           validation_data=([val.userid, val.anime_id], val.score))\n",
      "\u001b[0;31mNameError\u001b[0m: name 'trn' is not defined"
     ]
    }
   ],
   "source": [
    "nn1.fit([trn.userid, trn.anime_id], trn.score, batch_size=5120, epochs=6, \n",
    "          validation_data=([val.userid, val.anime_id], val.score))"
   ]
  },
  {
   "cell_type": "code",
   "execution_count": null,
   "metadata": {
    "collapsed": true
   },
   "outputs": [],
   "source": [
    "nn1.lr=.01"
   ]
  },
  {
   "cell_type": "code",
   "execution_count": null,
   "metadata": {
    "collapsed": true
   },
   "outputs": [],
   "source": [
    "nn1.fit([trn.userid, trn.anime_id], trn.score, batch_size=5120, epochs=18, \n",
    "          validation_data=([val.userid, val.anime_id], val.score))"
   ]
  },
  {
   "cell_type": "code",
   "execution_count": 38,
   "metadata": {
    "collapsed": true
   },
   "outputs": [],
   "source": [
    "plot_model(nn1, to_file='nn1_1.png')"
   ]
  },
  {
   "cell_type": "code",
   "execution_count": 69,
   "metadata": {
    "collapsed": true
   },
   "outputs": [],
   "source": [
    "nn1.save_weights('nn1weights.h5')"
   ]
  },
  {
   "cell_type": "code",
   "execution_count": 37,
   "metadata": {},
   "outputs": [
    {
     "name": "stderr",
     "output_type": "stream",
     "text": [
      "/home/nerd/Data/Conda/lib/python3.6/site-packages/ipykernel_launcher.py:6: SettingWithCopyWarning: \n",
      "A value is trying to be set on a copy of a slice from a DataFrame.\n",
      "Try using .loc[row_indexer,col_indexer] = value instead\n",
      "\n",
      "See the caveats in the documentation: http://pandas.pydata.org/pandas-docs/stable/indexing.html#indexing-view-versus-copy\n",
      "  \n",
      "/home/nerd/Data/Conda/lib/python3.6/site-packages/pandas/core/generic.py:2999: SettingWithCopyWarning: \n",
      "A value is trying to be set on a copy of a slice from a DataFrame.\n",
      "Try using .loc[row_indexer,col_indexer] = value instead\n",
      "\n",
      "See the caveats in the documentation: http://pandas.pydata.org/pandas-docs/stable/indexing.html#indexing-view-versus-copy\n",
      "  self[name] = value\n"
     ]
    }
   ],
   "source": [
    "ratings2, n_users2,n_animes2,useridnn2,animeidnn2 = prep_for_keras1(ratings_2)"
   ]
  },
  {
   "cell_type": "code",
   "execution_count": 40,
   "metadata": {
    "collapsed": true
   },
   "outputs": [],
   "source": [
    "msk2 = np.random.rand(len(ratings2)) < 0.8 #training vs test set ratio\n",
    "trn2 = ratings2[msk2]\n",
    "val2 = ratings2[~msk2]"
   ]
  },
  {
   "cell_type": "code",
   "execution_count": 41,
   "metadata": {},
   "outputs": [
    {
     "name": "stderr",
     "output_type": "stream",
     "text": [
      "/home/nerd/Data/Conda/lib/python3.6/site-packages/ipykernel_launcher.py:3: UserWarning: Update your `Embedding` call to the Keras 2 API: `Embedding(78252, 40, input_length=1, embeddings_regularizer=<keras.reg...)`\n",
      "  This is separate from the ipykernel package so we can avoid doing imports until\n",
      "/home/nerd/Data/Conda/lib/python3.6/site-packages/ipykernel_launcher.py:3: UserWarning: Update your `Embedding` call to the Keras 2 API: `Embedding(10384, 40, input_length=1, embeddings_regularizer=<keras.reg...)`\n",
      "  This is separate from the ipykernel package so we can avoid doing imports until\n"
     ]
    }
   ],
   "source": [
    "user_in2, u2 = embedding_input('user_in', n_users2, n_factors, 1e-4)\n",
    "anim_in2, a2 = embedding_input('anime_in', n_animes2, n_factors, 1e-4)"
   ]
  },
  {
   "cell_type": "code",
   "execution_count": 43,
   "metadata": {},
   "outputs": [
    {
     "name": "stderr",
     "output_type": "stream",
     "text": [
      "/home/nerd/Data/Conda/lib/python3.6/site-packages/ipykernel_launcher.py:1: UserWarning: The `merge` function is deprecated and will be removed after 08/2017. Use instead layers from `keras.layers.merge`, e.g. `add`, `concatenate`, etc.\n",
      "  \"\"\"Entry point for launching an IPython kernel.\n",
      "/home/nerd/Data/Conda/lib/python3.6/site-packages/keras/legacy/layers.py:456: UserWarning: The `Merge` layer is deprecated and will be removed after 08/2017. Use instead layers from `keras.layers.merge`, e.g. `add`, `concatenate`, etc.\n",
      "  name=name)\n"
     ]
    }
   ],
   "source": [
    "x = merge([u2, a2], mode='concat')\n",
    "x = Flatten()(x)\n",
    "x = Dropout(0.3)(x)\n",
    "x = Dense(70, activation='relu')(x)\n",
    "x = Dropout(0.75)(x)\n",
    "x = Dense(1)(x)\n",
    "nn2 = Model([user_in2, anim_in2], x)\n",
    "nn2.compile(Adam(0.001), loss='mae')"
   ]
  },
  {
   "cell_type": "code",
   "execution_count": 44,
   "metadata": {},
   "outputs": [
    {
     "name": "stdout",
     "output_type": "stream",
     "text": [
      "Train on 4619245 samples, validate on 1156121 samples\n",
      "Epoch 1/1\n",
      "4619245/4619245 [==============================] - 11s - loss: 2.6253 - val_loss: 1.5751\n"
     ]
    },
    {
     "data": {
      "text/plain": [
       "<keras.callbacks.History at 0x7fd12aca6cf8>"
      ]
     },
     "execution_count": 44,
     "metadata": {},
     "output_type": "execute_result"
    }
   ],
   "source": [
    "nn2.fit([trn2.userid, trn2.anime_id], trn2.score, batch_size=5120, epochs=1, \n",
    "          validation_data=([val2.userid, val2.anime_id], val2.score))"
   ]
  },
  {
   "cell_type": "code",
   "execution_count": 70,
   "metadata": {
    "collapsed": true
   },
   "outputs": [],
   "source": [
    "nn2.save_weights('nn2weights.h5')"
   ]
  },
  {
   "cell_type": "code",
   "execution_count": 46,
   "metadata": {
    "collapsed": true
   },
   "outputs": [],
   "source": [
    "ratings3, n_users3,n_animes3,useridnn3,animeidnn3 = prep_for_keras1(ratings_3)"
   ]
  },
  {
   "cell_type": "code",
   "execution_count": 47,
   "metadata": {
    "collapsed": true
   },
   "outputs": [],
   "source": [
    "msk3 = np.random.rand(len(ratings3)) < 0.8 #training vs test set ratio\n",
    "trn3 = ratings3[msk3]\n",
    "val3 = ratings3[~msk3]"
   ]
  },
  {
   "cell_type": "code",
   "execution_count": 48,
   "metadata": {},
   "outputs": [
    {
     "name": "stderr",
     "output_type": "stream",
     "text": [
      "/home/nerd/Data/Conda/lib/python3.6/site-packages/ipykernel_launcher.py:3: UserWarning: Update your `Embedding` call to the Keras 2 API: `Embedding(90516, 40, input_length=1, embeddings_regularizer=<keras.reg...)`\n",
      "  This is separate from the ipykernel package so we can avoid doing imports until\n",
      "/home/nerd/Data/Conda/lib/python3.6/site-packages/ipykernel_launcher.py:3: UserWarning: Update your `Embedding` call to the Keras 2 API: `Embedding(11907, 40, input_length=1, embeddings_regularizer=<keras.reg...)`\n",
      "  This is separate from the ipykernel package so we can avoid doing imports until\n"
     ]
    }
   ],
   "source": [
    "user_in3, u3 = embedding_input('user_in', n_users3, n_factors, 1e-4)\n",
    "anim_in3, a3 = embedding_input('anime_in', n_animes3, n_factors, 1e-4)"
   ]
  },
  {
   "cell_type": "code",
   "execution_count": 49,
   "metadata": {},
   "outputs": [
    {
     "name": "stderr",
     "output_type": "stream",
     "text": [
      "/home/nerd/Data/Conda/lib/python3.6/site-packages/ipykernel_launcher.py:1: UserWarning: The `merge` function is deprecated and will be removed after 08/2017. Use instead layers from `keras.layers.merge`, e.g. `add`, `concatenate`, etc.\n",
      "  \"\"\"Entry point for launching an IPython kernel.\n",
      "/home/nerd/Data/Conda/lib/python3.6/site-packages/keras/legacy/layers.py:456: UserWarning: The `Merge` layer is deprecated and will be removed after 08/2017. Use instead layers from `keras.layers.merge`, e.g. `add`, `concatenate`, etc.\n",
      "  name=name)\n"
     ]
    }
   ],
   "source": [
    "x = merge([u3, a3], mode='concat')\n",
    "x = Flatten()(x)\n",
    "x = Dropout(0.3)(x)\n",
    "x = Dense(70, activation='relu')(x)\n",
    "x = Dropout(0.75)(x)\n",
    "x = Dense(1)(x)\n",
    "nn3 = Model([user_in3, anim_in3], x)\n",
    "nn3.compile(Adam(0.001), loss='mae')"
   ]
  },
  {
   "cell_type": "code",
   "execution_count": 50,
   "metadata": {},
   "outputs": [
    {
     "name": "stdout",
     "output_type": "stream",
     "text": [
      "Train on 7193177 samples, validate on 1795890 samples\n",
      "Epoch 1/1\n",
      "7193177/7193177 [==============================] - 19s - loss: 2.9119 - val_loss: 2.4947\n"
     ]
    },
    {
     "data": {
      "text/plain": [
       "<keras.callbacks.History at 0x7fd12a41ad30>"
      ]
     },
     "execution_count": 50,
     "metadata": {},
     "output_type": "execute_result"
    }
   ],
   "source": [
    "nn3.fit([trn3.userid, trn3.anime_id], trn3.score, batch_size=5120, epochs=1, \n",
    "          validation_data=([val3.userid, val3.anime_id], val3.score))"
   ]
  },
  {
   "cell_type": "code",
   "execution_count": 71,
   "metadata": {
    "collapsed": true
   },
   "outputs": [],
   "source": [
    "nn3.save_weights('nn3weights.h5')"
   ]
  },
  {
   "cell_type": "code",
   "execution_count": 51,
   "metadata": {
    "collapsed": true
   },
   "outputs": [],
   "source": [
    "ratings4, n_users4,n_animes4,useridnn4,animeidnn4 = prep_for_keras1(ratings_4)"
   ]
  },
  {
   "cell_type": "code",
   "execution_count": 52,
   "metadata": {
    "collapsed": true
   },
   "outputs": [],
   "source": [
    "msk4 = np.random.rand(len(ratings4)) < 0.8 #training vs test set ratio\n",
    "trn4 = ratings4[msk4]\n",
    "val4 = ratings4[~msk4]"
   ]
  },
  {
   "cell_type": "code",
   "execution_count": 53,
   "metadata": {},
   "outputs": [
    {
     "name": "stderr",
     "output_type": "stream",
     "text": [
      "/home/nerd/Data/Conda/lib/python3.6/site-packages/ipykernel_launcher.py:3: UserWarning: Update your `Embedding` call to the Keras 2 API: `Embedding(90516, 40, input_length=1, embeddings_regularizer=<keras.reg...)`\n",
      "  This is separate from the ipykernel package so we can avoid doing imports until\n",
      "/home/nerd/Data/Conda/lib/python3.6/site-packages/ipykernel_launcher.py:3: UserWarning: Update your `Embedding` call to the Keras 2 API: `Embedding(11907, 40, input_length=1, embeddings_regularizer=<keras.reg...)`\n",
      "  This is separate from the ipykernel package so we can avoid doing imports until\n"
     ]
    }
   ],
   "source": [
    "user_in4, u4 = embedding_input('user_in', n_users4, n_factors, 1e-4)\n",
    "anim_in4, a4 = embedding_input('anime_in', n_animes4, n_factors, 1e-4)"
   ]
  },
  {
   "cell_type": "code",
   "execution_count": 56,
   "metadata": {},
   "outputs": [
    {
     "name": "stderr",
     "output_type": "stream",
     "text": [
      "/home/nerd/Data/Conda/lib/python3.6/site-packages/ipykernel_launcher.py:1: UserWarning: The `merge` function is deprecated and will be removed after 08/2017. Use instead layers from `keras.layers.merge`, e.g. `add`, `concatenate`, etc.\n",
      "  \"\"\"Entry point for launching an IPython kernel.\n",
      "/home/nerd/Data/Conda/lib/python3.6/site-packages/keras/legacy/layers.py:456: UserWarning: The `Merge` layer is deprecated and will be removed after 08/2017. Use instead layers from `keras.layers.merge`, e.g. `add`, `concatenate`, etc.\n",
      "  name=name)\n"
     ]
    }
   ],
   "source": [
    "x = merge([u4, a4], mode='concat')\n",
    "x = Flatten()(x)\n",
    "x = Dropout(0.3)(x)\n",
    "x = Dense(70, activation='relu')(x)\n",
    "x = Dropout(0.75)(x)\n",
    "x = Dense(1)(x)\n",
    "nn4 = Model([user_in4, anim_in4], x)\n",
    "nn4.compile(Adam(0.001), loss='mae')"
   ]
  },
  {
   "cell_type": "code",
   "execution_count": 57,
   "metadata": {},
   "outputs": [
    {
     "name": "stdout",
     "output_type": "stream",
     "text": [
      "Train on 7192052 samples, validate on 1797015 samples\n",
      "Epoch 1/1\n",
      "7192052/7192052 [==============================] - 18s - loss: 2.3500 - val_loss: 1.2274\n"
     ]
    },
    {
     "data": {
      "text/plain": [
       "<keras.callbacks.History at 0x7fd1297bfe10>"
      ]
     },
     "execution_count": 57,
     "metadata": {},
     "output_type": "execute_result"
    }
   ],
   "source": [
    "nn4.fit([trn4.userid, trn4.anime_id], trn4.score, batch_size=5120, epochs=1, \n",
    "          validation_data=([val4.userid, val4.anime_id], val4.score))"
   ]
  },
  {
   "cell_type": "code",
   "execution_count": 72,
   "metadata": {
    "collapsed": true
   },
   "outputs": [],
   "source": [
    "nn4.save_weights('nn4weights.h5')"
   ]
  },
  {
   "cell_type": "code",
   "execution_count": 39,
   "metadata": {
    "collapsed": true
   },
   "outputs": [],
   "source": [
    "ratings5, n_users5,n_animes5,useridnn5,animeidnn5 = prep_for_keras1(ratings_5)"
   ]
  },
  {
   "cell_type": "code",
   "execution_count": 40,
   "metadata": {
    "collapsed": true
   },
   "outputs": [],
   "source": [
    "def prep_for_keras2(df):\n",
    "    status = df.status.unique()\n",
    "    status2idx = {o:i for i,o in enumerate(status)} # turn the watched status into a vector \n",
    "    df['status_id'] = df.status.apply(lambda x: status2idx[x]) #the above code set up mapping, this applies it. \n",
    "    n_status = df.status.nunique()\n",
    "    return df,n_status,status2idx"
   ]
  },
  {
   "cell_type": "code",
   "execution_count": 41,
   "metadata": {
    "collapsed": true
   },
   "outputs": [],
   "source": [
    "ratings5, n_status, status2idx = prep_for_keras2(ratings5)"
   ]
  },
  {
   "cell_type": "code",
   "execution_count": 42,
   "metadata": {
    "collapsed": true
   },
   "outputs": [],
   "source": [
    "n_status_factors = 6"
   ]
  },
  {
   "cell_type": "code",
   "execution_count": 43,
   "metadata": {
    "collapsed": true
   },
   "outputs": [],
   "source": [
    "msk5 = np.random.rand(len(ratings5)) < 0.8 #training vs test set ratio\n",
    "trn5 = ratings5[msk5]\n",
    "val5 = ratings5[~msk5]"
   ]
  },
  {
   "cell_type": "code",
   "execution_count": 46,
   "metadata": {},
   "outputs": [
    {
     "name": "stderr",
     "output_type": "stream",
     "text": [
      "/home/nerd/Data/Conda/lib/python3.6/site-packages/ipykernel_launcher.py:6: UserWarning: Update your `Embedding` call to the Keras 2 API: `Embedding(90516, 40, input_length=1, name=\"Embed_User_Hidden_Factors\", embeddings_regularizer=<keras.reg...)`\n",
      "  \n",
      "/home/nerd/Data/Conda/lib/python3.6/site-packages/ipykernel_launcher.py:3: UserWarning: Update your `Embedding` call to the Keras 2 API: `Embedding(11907, 40, input_length=1, name=\"Embed_Anime_Hidden_Factors\", embeddings_regularizer=<keras.reg...)`\n",
      "  This is separate from the ipykernel package so we can avoid doing imports until\n",
      "/home/nerd/Data/Conda/lib/python3.6/site-packages/ipykernel_launcher.py:9: UserWarning: Update your `Embedding` call to the Keras 2 API: `Embedding(5, 6, input_length=1, name=\"Embed_Status_Hidden_Factors\", embeddings_regularizer=<keras.reg...)`\n",
      "  if __name__ == '__main__':\n"
     ]
    }
   ],
   "source": [
    "user_in5, u5 = embedding_input_user('user_id_in', n_users5, n_factors, 1e-4)\n",
    "anime_in5, a5 = embedding_input_anime('anime_id_in', n_animes5, n_factors, 1e-4)\n",
    "status_in5, s5=embedding_input_status('status_id_in', n_status, n_status_factors, 1e-4)"
   ]
  },
  {
   "cell_type": "code",
   "execution_count": 47,
   "metadata": {},
   "outputs": [
    {
     "name": "stderr",
     "output_type": "stream",
     "text": [
      "/home/nerd/Data/Conda/lib/python3.6/site-packages/ipykernel_launcher.py:1: UserWarning: The `merge` function is deprecated and will be removed after 08/2017. Use instead layers from `keras.layers.merge`, e.g. `add`, `concatenate`, etc.\n",
      "  \"\"\"Entry point for launching an IPython kernel.\n",
      "/home/nerd/Data/Conda/lib/python3.6/site-packages/keras/legacy/layers.py:456: UserWarning: The `Merge` layer is deprecated and will be removed after 08/2017. Use instead layers from `keras.layers.merge`, e.g. `add`, `concatenate`, etc.\n",
      "  name=name)\n"
     ]
    }
   ],
   "source": [
    "x = merge([u5, a5,s5], mode='concat',name='All_Factors_on_one_layer')\n",
    "x = Flatten()(x)\n",
    "x = Dropout(0.3,name='Prevent_Overfit')(x)\n",
    "x = Dense(70, activation='relu',name='Random_HF_Interactions')(x)\n",
    "x = Dropout(0.75,name='Prevent_Overfit2')(x)\n",
    "x = Dense(1,name='Final_Interactions')(x)\n",
    "nn5 = Model([user_in5, anime_in5,status_in5], x)\n",
    "nn5.compile(Adam(0.001), loss='mae')"
   ]
  },
  {
   "cell_type": "code",
   "execution_count": 65,
   "metadata": {},
   "outputs": [
    {
     "name": "stdout",
     "output_type": "stream",
     "text": [
      "Train on 7191749 samples, validate on 1797318 samples\n",
      "Epoch 1/1\n",
      "7191749/7191749 [==============================] - 20s - loss: 2.1078 - val_loss: 1.4189\n"
     ]
    },
    {
     "data": {
      "text/plain": [
       "<keras.callbacks.History at 0x7fd1102c3080>"
      ]
     },
     "execution_count": 65,
     "metadata": {},
     "output_type": "execute_result"
    }
   ],
   "source": [
    "nn5.fit([trn5.userid, trn5.anime_id,trn5.status_id], trn5.score, batch_size=5120, epochs=1, \n",
    "          validation_data=([val5.userid, val5.anime_id,val5.status_id], val5.score))"
   ]
  },
  {
   "cell_type": "code",
   "execution_count": 48,
   "metadata": {
    "collapsed": true
   },
   "outputs": [],
   "source": [
    "plot_model(nn5, to_file='nn5_1.png')"
   ]
  },
  {
   "cell_type": "code",
   "execution_count": 73,
   "metadata": {
    "collapsed": true
   },
   "outputs": [],
   "source": [
    "nn5.save_weights('nn5weights.h5')"
   ]
  },
  {
   "cell_type": "code",
   "execution_count": null,
   "metadata": {
    "collapsed": true
   },
   "outputs": [],
   "source": [
    "ratings5.tail()"
   ]
  },
  {
   "cell_type": "code",
   "execution_count": null,
   "metadata": {
    "collapsed": true
   },
   "outputs": [],
   "source": [
    "ub = create_bias(user_in, n_users,1e-3)\n",
    "ab = create_bias(anime_in, n_animes,1e-2)\n",
    "user_in, u = embedding_input('user_in', n_users, n_factors, 1e-4)\n",
    "anime_in, a = embedding_input('anime_in', n_animes, n_factors, 1e-4)"
   ]
  },
  {
   "cell_type": "code",
   "execution_count": null,
   "metadata": {
    "collapsed": true
   },
   "outputs": [],
   "source": [
    "x = keras.layers.dot([u, m], axes=2)\n",
    "x = Flatten()(x)\n",
    "model = Model([user_in, anime_in], x)\n",
    "model.compile(Adam(0.001), loss='mae')"
   ]
  },
  {
   "cell_type": "code",
   "execution_count": null,
   "metadata": {
    "collapsed": true
   },
   "outputs": [],
   "source": [
    "x = merge([u, a], mode='dot')\n",
    "x = Flatten()(x)\n",
    "x = merge([x, ub], mode='sum')\n",
    "x = merge([x, ab], mode='sum')\n",
    "model = Model([user_in, anime_in], x)\n",
    "model.compile(Adam(0.001), loss='mse')"
   ]
  },
  {
   "cell_type": "code",
   "execution_count": null,
   "metadata": {
    "collapsed": true
   },
   "outputs": [],
   "source": [
    "x = merge([u, a], mode='dot')\n",
    "x = Flatten()(x)\n",
    "x = merge([x, ub], mode='sum')\n",
    "x = merge([x, ab], mode='sum')\n",
    "dot_product_svd = Model([user_in, anime_in], x)\n",
    "dot_product_svd.compile(Adam(0.001), loss='mae')"
   ]
  },
  {
   "cell_type": "code",
   "execution_count": null,
   "metadata": {
    "collapsed": true
   },
   "outputs": [],
   "source": []
  },
  {
   "cell_type": "code",
   "execution_count": null,
   "metadata": {
    "collapsed": true
   },
   "outputs": [],
   "source": []
  }
 ],
 "metadata": {
  "kernelspec": {
   "display_name": "Python 3",
   "language": "python",
   "name": "python3"
  },
  "language_info": {
   "codemirror_mode": {
    "name": "ipython",
    "version": 3
   },
   "file_extension": ".py",
   "mimetype": "text/x-python",
   "name": "python",
   "nbconvert_exporter": "python",
   "pygments_lexer": "ipython3",
   "version": "3.6.1"
  }
 },
 "nbformat": 4,
 "nbformat_minor": 2
}
