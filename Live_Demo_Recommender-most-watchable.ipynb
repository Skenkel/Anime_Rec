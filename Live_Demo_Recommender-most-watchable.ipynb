{
 "cells": [
  {
   "cell_type": "code",
   "execution_count": 1,
   "metadata": {
    "collapsed": true,
    "scrolled": true
   },
   "outputs": [],
   "source": [
    "#!pip install tqdm"
   ]
  },
  {
   "cell_type": "code",
   "execution_count": 2,
   "metadata": {
    "collapsed": true
   },
   "outputs": [],
   "source": [
    "import pandas as pd\n",
    "import requests\n",
    "from bs4 import BeautifulSoup\n",
    "import time\n",
    "from tqdm import tqdm\n",
    "import mal_scraper\n",
    "import numpy as np"
   ]
  },
  {
   "cell_type": "code",
   "execution_count": 3,
   "metadata": {},
   "outputs": [
    {
     "name": "stderr",
     "output_type": "stream",
     "text": [
      "Using TensorFlow backend.\n"
     ]
    }
   ],
   "source": [
    "import numpy as np\n",
    "from keras import backend as K\n",
    "from keras.layers import Input, Embedding, merge\n",
    "import keras.layers\n",
    "from keras.regularizers import l2, l1\n",
    "from keras.layers.core import Flatten, Dense, Dropout, Lambda\n",
    "from keras.models import Sequential, Model\n",
    "from keras.optimizers import SGD, RMSprop, Adam\n",
    "from IPython.display import SVG\n",
    "from keras.utils.vis_utils import model_to_dot\n",
    "#import pydotplus as pydot \n",
    "#import graphviz\n",
    "from keras.utils import plot_model\n",
    "from sklearn.metrics import mean_absolute_error"
   ]
  },
  {
   "cell_type": "code",
   "execution_count": 4,
   "metadata": {
    "collapsed": true
   },
   "outputs": [],
   "source": [
    "import tensorflow as tf\n",
    "from keras.backend.tensorflow_backend import set_session\n",
    "config = tf.ConfigProto()\n",
    "config.gpu_options.per_process_gpu_memory_fraction = 0.3\n",
    "set_session(tf.Session(config=config))"
   ]
  },
  {
   "cell_type": "code",
   "execution_count": 5,
   "metadata": {
    "collapsed": true
   },
   "outputs": [],
   "source": [
    "knownscores  = pd.read_csv('mal_scores_train_nonzero_v2.csv')\n",
    "known_no_scores= pd.read_csv('mal_scores_train_zero.csv')\n",
    "anime_avgs = np.load('anime_avgs.npy').item()\n",
    "anime_names = pd.read_csv('Data/animeinfo3.csv').set_index('animeid')['name'].to_dict()\n",
    "review_lf_numbers = pd.read_csv('lf_sim_animeid.csv',index_col='Unnamed: 0')\n",
    "user_review_numbers = pd.read_csv('user_review_scaled_prod.csv',index_col='Unnamed: 0')\n",
    "review_nlp_numbers = pd.read_csv('reviewnlpsim_animeid.csv',index_col='Unnamed: 0')"
   ]
  },
  {
   "cell_type": "code",
   "execution_count": 6,
   "metadata": {},
   "outputs": [
    {
     "name": "stdout",
     "output_type": "stream",
     "text": [
      "Fri Sep  8 16:44:45 2017       \r\n",
      "+-----------------------------------------------------------------------------+\r\n",
      "| NVIDIA-SMI 384.69                 Driver Version: 384.69                    |\r\n",
      "|-------------------------------+----------------------+----------------------+\r\n",
      "| GPU  Name        Persistence-M| Bus-Id        Disp.A | Volatile Uncorr. ECC |\r\n",
      "| Fan  Temp  Perf  Pwr:Usage/Cap|         Memory-Usage | GPU-Util  Compute M. |\r\n",
      "|===============================+======================+======================|\r\n",
      "|   0  GeForce GTX 108...  Off  | 00000000:04:00.0 Off |                  N/A |\r\n",
      "| 20%   38C    P8    18W / 250W |   7016MiB / 11170MiB |      0%      Default |\r\n",
      "+-------------------------------+----------------------+----------------------+\r\n",
      "                                                                               \r\n",
      "+-----------------------------------------------------------------------------+\r\n",
      "| Processes:                                                       GPU Memory |\r\n",
      "|  GPU       PID  Type  Process name                               Usage      |\r\n",
      "|=============================================================================|\r\n",
      "+-----------------------------------------------------------------------------+\r\n"
     ]
    }
   ],
   "source": [
    "!nvidia-smi"
   ]
  },
  {
   "cell_type": "code",
   "execution_count": 7,
   "metadata": {
    "collapsed": true
   },
   "outputs": [],
   "source": [
    "\n",
    "n_users = 229756\n",
    "n_animes = 12826"
   ]
  },
  {
   "cell_type": "code",
   "execution_count": 8,
   "metadata": {
    "collapsed": true
   },
   "outputs": [],
   "source": [
    "userid2idx=np.load(\"user.npy\").item()\n",
    "animeid2idx=np.load(\"anime.npy\").item()\n",
    "anime_rev_dict=np.load(\"anime_rev_number.npy\").item()\n"
   ]
  },
  {
   "cell_type": "code",
   "execution_count": 9,
   "metadata": {
    "collapsed": true
   },
   "outputs": [],
   "source": [
    "n_highest_rated_shows= 7\n",
    "k_nearest_shows = 5\n",
    "t_highest_predicted_score=15\n",
    "l_max_reviews = 30000"
   ]
  },
  {
   "cell_type": "code",
   "execution_count": 10,
   "metadata": {
    "collapsed": true
   },
   "outputs": [],
   "source": [
    "#user_to_rec=input(\"Mal Username to check\") # we ask the wat user we are lookingat"
   ]
  },
  {
   "cell_type": "code",
   "execution_count": 11,
   "metadata": {
    "collapsed": true
   },
   "outputs": [],
   "source": [
    "user_to_rec = 'Figgybun'"
   ]
  },
  {
   "cell_type": "code",
   "execution_count": 12,
   "metadata": {
    "collapsed": true
   },
   "outputs": [],
   "source": [
    "user_scores = knownscores[knownscores['userid']==user_to_rec]"
   ]
  },
  {
   "cell_type": "code",
   "execution_count": 13,
   "metadata": {},
   "outputs": [
    {
     "name": "stderr",
     "output_type": "stream",
     "text": [
      "ERROR:root:Unable to parse the date text \"09-26-15\" from an anime list\n",
      "ERROR:root:Unable to parse the date text \"04-14-13\" from an anime list\n",
      "ERROR:root:Unable to parse the date text \"12-16-14\" from an anime list\n",
      "ERROR:root:Unable to parse the date text \"09-29-12\" from an anime list\n",
      "ERROR:root:Unable to parse the date text \"07-20-15\" from an anime list\n",
      "ERROR:root:Unable to parse the date text \"09-18-13\" from an anime list\n",
      "ERROR:root:Unable to parse the date text \"12-21-12\" from an anime list\n",
      "ERROR:root:Unable to parse the date text \"09-29-12\" from an anime list\n",
      "ERROR:root:Unable to parse the date text \"12-28-15\" from an anime list\n",
      "ERROR:root:Unable to parse the date text \"12-21-15\" from an anime list\n",
      "ERROR:root:Unable to parse the date text \"06-28-15\" from an anime list\n",
      "ERROR:root:Unable to parse the date text \"09-26-13\" from an anime list\n",
      "ERROR:root:Unable to parse the date text \"09-28-15\" from an anime list\n",
      "ERROR:root:Unable to parse the date text \"09-23-12\" from an anime list\n",
      "ERROR:root:Unable to parse the date text \"12-24-12\" from an anime list\n",
      "ERROR:root:Unable to parse the date text \"12-27-12\" from an anime list\n",
      "ERROR:root:Unable to parse the date text \"08-13-15\" from an anime list\n",
      "ERROR:root:Unable to parse the date text \"12-29-12\" from an anime list\n",
      "ERROR:root:Unable to parse the date text \"09-28-13\" from an anime list\n",
      "ERROR:root:Unable to parse the date text \"09-30-12\" from an anime list\n",
      "ERROR:root:Unable to parse the date text \"12-23-13\" from an anime list\n",
      "ERROR:root:Unable to parse the date text \"07-26-15\" from an anime list\n",
      "ERROR:root:Unable to parse the date text \"12-26-12\" from an anime list\n",
      "ERROR:root:Unable to parse the date text \"09-14-12\" from an anime list\n",
      "ERROR:root:Unable to parse the date text \"09-26-15\" from an anime list\n",
      "ERROR:root:Unable to parse the date text \"12-18-14\" from an anime list\n",
      "ERROR:root:Unable to parse the date text \"06-23-13\" from an anime list\n",
      "ERROR:root:Unable to parse the date text \"09-28-15\" from an anime list\n",
      "ERROR:root:Unable to parse the date text \"09-28-13\" from an anime list\n",
      "ERROR:root:Unable to parse the date text \"11-20-13\" from an anime list\n",
      "ERROR:root:Unable to parse the date text \"12-30-12\" from an anime list\n",
      "ERROR:root:Unable to parse the date text \"08-26-13\" from an anime list\n",
      "ERROR:root:Unable to parse the date text \"12-23-12\" from an anime list\n",
      "ERROR:root:Unable to parse the date text \"06-22-14\" from an anime list\n",
      "ERROR:root:Unable to parse the date text \"11-25-14\" from an anime list\n",
      "ERROR:root:Unable to parse the date text \"03-27-15\" from an anime list\n",
      "ERROR:root:Unable to parse the date text \"12-25-12\" from an anime list\n",
      "/usr/local/lib/python3.5/dist-packages/ipykernel_launcher.py:24: SettingWithCopyWarning: \n",
      "A value is trying to be set on a copy of a slice from a DataFrame.\n",
      "Try using .loc[row_indexer,col_indexer] = value instead\n",
      "\n",
      "See the caveats in the documentation: http://pandas.pydata.org/pandas-docs/stable/indexing.html#indexing-view-versus-copy\n",
      "/usr/local/lib/python3.5/dist-packages/ipykernel_launcher.py:27: SettingWithCopyWarning: \n",
      "A value is trying to be set on a copy of a slice from a DataFrame.\n",
      "Try using .loc[row_indexer,col_indexer] = value instead\n",
      "\n",
      "See the caveats in the documentation: http://pandas.pydata.org/pandas-docs/stable/indexing.html#indexing-view-versus-copy\n",
      "/usr/local/lib/python3.5/dist-packages/ipykernel_launcher.py:29: SettingWithCopyWarning: \n",
      "A value is trying to be set on a copy of a slice from a DataFrame.\n",
      "Try using .loc[row_indexer,col_indexer] = value instead\n",
      "\n",
      "See the caveats in the documentation: http://pandas.pydata.org/pandas-docs/stable/indexing.html#indexing-view-versus-copy\n"
     ]
    },
    {
     "name": "stdout",
     "output_type": "stream",
     "text": [
      "   animeid  animescore     index      name     status          unkey  score\n",
      "10     102           8  Figgybun  Figgybun  COMPLETED    102Figgybun      8\n",
      "14   15085           9  Figgybun  Figgybun  COMPLETED  15085Figgybun      9\n",
      "16   16518           9  Figgybun  Figgybun  COMPLETED  16518Figgybun      9\n",
      "17   12967           8  Figgybun  Figgybun  COMPLETED  12967Figgybun      8\n",
      "19     104          10  Figgybun  Figgybun  COMPLETED    104Figgybun     10\n",
      "   animeid  animescore     index      name     status          unkey  score  \\\n",
      "10     102           8  Figgybun  Figgybun  COMPLETED    102Figgybun      8   \n",
      "14   15085           9  Figgybun  Figgybun  COMPLETED  15085Figgybun      9   \n",
      "16   16518           9  Figgybun  Figgybun  COMPLETED  16518Figgybun      9   \n",
      "17   12967           8  Figgybun  Figgybun  COMPLETED  12967Figgybun      8   \n",
      "19     104          10  Figgybun  Figgybun  COMPLETED    104Figgybun     10   \n",
      "\n",
      "    score_usr_scaled  \n",
      "10          0.072289  \n",
      "14          1.072289  \n",
      "16          1.072289  \n",
      "17          0.072289  \n",
      "19          2.072289  \n",
      "    animeid  animescore     index      name     status          unkey  score  \\\n",
      "10      102           8  Figgybun  Figgybun  COMPLETED    102Figgybun      8   \n",
      "14    15085           9  Figgybun  Figgybun  COMPLETED  15085Figgybun      9   \n",
      "16    16518           9  Figgybun  Figgybun  COMPLETED  16518Figgybun      9   \n",
      "17    12967           8  Figgybun  Figgybun  COMPLETED  12967Figgybun      8   \n",
      "19      104          10  Figgybun  Figgybun  COMPLETED    104Figgybun     10   \n",
      "\n",
      "    score_usr_scaled  animeavg  \n",
      "10          0.072289  7.490500  \n",
      "14          1.072289  6.379665  \n",
      "16          1.072289  6.721913  \n",
      "17          0.072289  6.421552  \n",
      "19          2.072289  7.294018  \n",
      "    animeid  animescore     index      name     status          unkey  score  \\\n",
      "10      102           8  Figgybun  Figgybun  COMPLETED    102Figgybun      8   \n",
      "14    15085           9  Figgybun  Figgybun  COMPLETED  15085Figgybun      9   \n",
      "16    16518           9  Figgybun  Figgybun  COMPLETED  16518Figgybun      9   \n",
      "17    12967           8  Figgybun  Figgybun  COMPLETED  12967Figgybun      8   \n",
      "19      104          10  Figgybun  Figgybun  COMPLETED    104Figgybun     10   \n",
      "\n",
      "    score_usr_scaled  animeavg  score_anime_scaled  \n",
      "10          0.072289  7.490500            0.509500  \n",
      "14          1.072289  6.379665            2.620335  \n",
      "16          1.072289  6.721913            2.278087  \n",
      "17          0.072289  6.421552            1.578448  \n",
      "19          2.072289  7.294018            2.705982  \n"
     ]
    },
    {
     "name": "stderr",
     "output_type": "stream",
     "text": [
      "/usr/local/lib/python3.5/dist-packages/ipykernel_launcher.py:30: SettingWithCopyWarning: \n",
      "A value is trying to be set on a copy of a slice from a DataFrame.\n",
      "Try using .loc[row_indexer,col_indexer] = value instead\n",
      "\n",
      "See the caveats in the documentation: http://pandas.pydata.org/pandas-docs/stable/indexing.html#indexing-view-versus-copy\n",
      "/usr/local/lib/python3.5/dist-packages/ipykernel_launcher.py:32: SettingWithCopyWarning: \n",
      "A value is trying to be set on a copy of a slice from a DataFrame.\n",
      "Try using .loc[row_indexer,col_indexer] = value instead\n",
      "\n",
      "See the caveats in the documentation: http://pandas.pydata.org/pandas-docs/stable/indexing.html#indexing-view-versus-copy\n"
     ]
    }
   ],
   "source": [
    "userratinglist2 = []\n",
    "if user_scores.shape[0]==0: # This means the user doesn't exist in our dataset and we need to scrape him. \n",
    "    reviewdict = {'userid':user_to_rec,'name':user_to_rec,'index':user_to_rec}\n",
    "    useranime = mal_scraper.get_user_anime_list(user_to_rec)\n",
    "    if useranime is None:\n",
    "        print('User Has Not reviewed enough anime') # TODO Add seed shows\n",
    "        pass\n",
    "    else:\n",
    "         for animeiter in range(len(useranime)):\n",
    "            reviewdict = {'name':user_to_rec,'index':user_to_rec}\n",
    "            reviewdict['unkey']= str(useranime[animeiter]['id_ref'])+str(user_to_rec)\n",
    "            statusval = useranime[animeiter]['consumption_status'].value\n",
    "            #userdict[animeid] = usertest[animenum]['id_ref']\n",
    "            reviewdict['animescore'] =useranime[animeiter]['score']\n",
    "            #userdict[animestart] =useranime[animeiter]['start_date']\n",
    "            #userdict[animefinished] =useranime[animeiter]['finished_date']\n",
    "            reviewdict['animeid'] =  str(useranime[animeiter]['id_ref'])\n",
    "            reviewdict['status']= statusval\n",
    "            userratinglist2.append(reviewdict)\n",
    "    user_data= pd.DataFrame(userratinglist2) # this is the user's 0 and nonzero scores\n",
    "    user_data['score']=user_data['animescore'] #standardize the column names\n",
    "    user_scores=user_data[user_data['score']!=0] # scores\n",
    "    user_zeroes =user_data[user_data['score']==0] #zero scores\n",
    "    user_zeroes['animeid']=user_zeroes['animeid'].astype(int)\n",
    "    useravg= user_scores['score'].mean()\n",
    "    print(user_scores.head())\n",
    "    user_scores['score_usr_scaled']=user_scores['score']-useravg\n",
    "    print(user_scores.head())\n",
    "    user_scores['animeid']=user_scores['animeid'].astype(int)\n",
    "    user_scores['animeavg']= user_scores.animeid.map(anime_avgs)\n",
    "    print(user_scores.head())\n",
    "    user_scores['score_anime_scaled']=user_scores['score']-user_scores['animeavg']\n",
    "    print(user_scores.head())\n",
    "else:\n",
    "    user_zeroes=known_no_scores[known_no_scores['userid']==user_to_rec]\n"
   ]
  },
  {
   "cell_type": "code",
   "execution_count": 14,
   "metadata": {
    "collapsed": true
   },
   "outputs": [],
   "source": [
    "possiblerecs=[]\n",
    "#user_review_numbers = pd.read_csv('user_review_scaled_prod.csv',index_col='Unnamed: 0')\n",
    "seedshows = set(user_scores.sort_values('score_usr_scaled',ascending=False)[:n_highest_rated_shows].animeid.values).union(set(user_scores.sort_values('score_anime_scaled',ascending=False)[:n_highest_rated_shows].animeid.values))"
   ]
  },
  {
   "cell_type": "code",
   "execution_count": 15,
   "metadata": {},
   "outputs": [
    {
     "name": "stdout",
     "output_type": "stream",
     "text": [
      "seed shows are:\n",
      "Steins;Gate\n",
      "Arata Kangatari\n",
      "Yuu☆Yuu☆Hakusho\n",
      "Ayashi no Ceres\n",
      "Free!\n",
      "Suisei no Gargantia\n",
      "Sword Art Online\n",
      "Amnesia\n",
      "Howl no Ugoku Shiro\n",
      "Shingeki no Kyojin\n",
      "Hiiro no Kakera Dai Ni Shou\n"
     ]
    }
   ],
   "source": [
    "print(\"seed shows are:\")\n",
    "for rec in seedshows:\n",
    "    print(anime_names[rec])"
   ]
  },
  {
   "cell_type": "code",
   "execution_count": 16,
   "metadata": {
    "collapsed": true
   },
   "outputs": [],
   "source": [
    "possiblerecs1=[]\n",
    "for show in seedshows:\n",
    "    topn =list(user_review_numbers.loc[:,str(show)].sort_values(ascending=False)[1:k_nearest_shows+1].index)\n",
    "    #print(show)\n",
    "    possiblerecs1 = possiblerecs1+topn\n",
    "    #print(type(show))"
   ]
  },
  {
   "cell_type": "code",
   "execution_count": 17,
   "metadata": {
    "collapsed": true
   },
   "outputs": [],
   "source": [
    "#len(possiblerecs1)#so now we have one third of the target shows to check. "
   ]
  },
  {
   "cell_type": "code",
   "execution_count": 18,
   "metadata": {
    "collapsed": true
   },
   "outputs": [],
   "source": [
    "#review_nlp_numbers = pd.read_csv('reviewnlpsim_animeid.csv',index_col='Unnamed: 0')"
   ]
  },
  {
   "cell_type": "code",
   "execution_count": 19,
   "metadata": {
    "collapsed": true
   },
   "outputs": [],
   "source": [
    "#review_nlp_numbers.head()"
   ]
  },
  {
   "cell_type": "code",
   "execution_count": 20,
   "metadata": {
    "collapsed": true
   },
   "outputs": [],
   "source": [
    "possiblerecs2 = []\n",
    "for show in seedshows:\n",
    "    try:\n",
    "        topk =list(review_nlp_numbers.loc[:,str(show)].sort_values(ascending=False)[1:k_nearest_shows+1].index)\n",
    "        possiblerecs2 = possiblerecs2+topk\n",
    "    except:\n",
    "        continue\n",
    "    #print(type(show))"
   ]
  },
  {
   "cell_type": "code",
   "execution_count": 21,
   "metadata": {
    "collapsed": true
   },
   "outputs": [],
   "source": [
    "#review_lf_numbers = pd.read_csv('lf_sim_animeid.csv',index_col='Unnamed: 0')"
   ]
  },
  {
   "cell_type": "code",
   "execution_count": 22,
   "metadata": {
    "collapsed": true
   },
   "outputs": [],
   "source": [
    "possiblerecs3 = []\n",
    "k_half = int(k_nearest_shows/2)\n",
    "for show in seedshows:\n",
    "    try:\n",
    "        topk =list(review_lf_numbers.loc[:,str(show)].sort_values(ascending=False)[1:k_half+1].index)\n",
    "        possiblerecs3 = possiblerecs3+topk\n",
    "    except:\n",
    "        continue\n",
    "    #print(type(show))"
   ]
  },
  {
   "cell_type": "code",
   "execution_count": 23,
   "metadata": {
    "collapsed": true
   },
   "outputs": [],
   "source": [
    "\n",
    "user_known_anime = list(user_scores.animeid.values)+ list(user_zeroes.animeid.values)"
   ]
  },
  {
   "cell_type": "code",
   "execution_count": 24,
   "metadata": {
    "collapsed": true
   },
   "outputs": [],
   "source": [
    "possiblerecs1=[anime for anime in possiblerecs1 if anime not in user_known_anime ]\n",
    "possiblerecs2=[anime for anime in possiblerecs2 if anime not in user_known_anime ]\n",
    "possiblerecs3=[anime for anime in possiblerecs3 if anime not in user_known_anime ]\n",
    "possiblerecs = possiblerecs1+possiblerecs2+possiblerecs3"
   ]
  },
  {
   "cell_type": "code",
   "execution_count": 25,
   "metadata": {
    "collapsed": true
   },
   "outputs": [],
   "source": [
    "possiblerecs= list(set(possiblerecs))"
   ]
  },
  {
   "cell_type": "code",
   "execution_count": 26,
   "metadata": {
    "collapsed": true
   },
   "outputs": [],
   "source": [
    "possiblerecs= list(set(possiblerecs))"
   ]
  },
  {
   "cell_type": "code",
   "execution_count": 27,
   "metadata": {},
   "outputs": [
    {
     "data": {
      "text/plain": [
       "66"
      ]
     },
     "execution_count": 27,
     "metadata": {},
     "output_type": "execute_result"
    }
   ],
   "source": [
    "len(possiblerecs)"
   ]
  },
  {
   "cell_type": "code",
   "execution_count": 28,
   "metadata": {},
   "outputs": [
    {
     "name": "stdout",
     "output_type": "stream",
     "text": [
      "Possible recs are:\n",
      "Ibara-Hime matawa Nemuri-Hime\n",
      "Vampire Knight\n",
      "Hajime no Ippo\n",
      "Photokano\n",
      "Angel Beats!\n",
      "Naruto\n",
      "07-Ghost\n",
      "Suisei no Gargantia: Meguru Kouro, Haruka\n",
      "Log Horizon 2nd Season\n",
      "Starry☆Sky\n",
      "Claymore\n",
      "Kyoto Animation: Suiei-hen\n",
      "Kimi ni Todoke\n",
      "Neon Genesis Evangelion\n",
      "Hiiro no Kakera: Totsugeki! Tonari no Ikemenzu\n",
      "Kenpuu Denki Berserk\n",
      "Hoshi wo Ou Kodomo\n",
      "Black Lagoon: Roberta's Blood Trail\n",
      "Inu to Hasami wa Tsukaiyou\n",
      "Guilty Crown\n",
      "Zero no Tsukaima\n",
      "Death Note\n",
      "Rurouni Kenshin: Meiji Kenkaku Romantan\n",
      "Dragon Ball Z\n",
      "Fairy Tail\n",
      "Amnesia OVA\n",
      "Shingeki no Kyojin Season 2\n",
      "Zero no Tsukaima: Futatsuki no Kishi\n",
      "Tenshi Kinryouku\n",
      "Boku wa Imouto ni Koi wo Suru\n",
      "Hunter x Hunter (2011)\n",
      "Akatsuki no Yona\n",
      "Steins;Gate Movie: Fuka Ryouiki no Déjà vu\n",
      "Ocha-ken: Chokotto Monogatari\n",
      "Ao no Exorcist\n",
      "Death Parade\n",
      "Hataraku Maou-sama!\n",
      "Charlotte: Tsuyoimono-tachi\n",
      "Ookami Kodomo no Ame to Yuki\n",
      "One Punch Man\n",
      "Nanatsu no Taizai\n",
      "High☆Speed!: Free! Starting Days\n",
      "Rakuen Tsuihou: Expelled from Paradise\n",
      "Uta no☆Prince-sama♪ Maji Love 1000%\n",
      "Koutetsujou no Kabaneri\n",
      "Karin\n",
      "Free!: FrFr - Short Movie\n",
      "Code Geass: Hangyaku no Lelouch R2\n",
      "Durarara!!\n",
      "Fate/Zero 2nd Season\n",
      "Elfen Lied\n",
      "Dansai Bunri no Crime Edge\n",
      "Shakugan no Shana II (Second)\n",
      "Free!: Eternal Summer Special\n",
      "Bible Black: Imari Ryoujoku Genba\n",
      "Haikyuu!!\n",
      "Eureka Seven\n",
      "Oni Chichi\n",
      "Steins;Gate: Oukoubakko no Poriomania\n",
      "Accel World\n",
      "Fushigi Yuugi: Eikouden\n",
      "Fullmetal Alchemist: Brotherhood\n",
      "Fushigi Yuugi\n",
      "Mirai Nikki (TV)\n",
      "Fushigi Yuugi OVA 2\n",
      "High School DxD BorN\n"
     ]
    }
   ],
   "source": [
    "print(\"Possible recs are:\")\n",
    "for rec in possiblerecs:\n",
    "    print(anime_names[rec])\n",
    "    "
   ]
  },
  {
   "cell_type": "code",
   "execution_count": 29,
   "metadata": {},
   "outputs": [
    {
     "name": "stdout",
     "output_type": "stream",
     "text": [
      "Possible recs1(User Scores) are:\n",
      "Ibara-Hime matawa Nemuri-Hime\n",
      "Hajime no Ippo\n",
      "Photokano\n",
      "Suisei no Gargantia: Meguru Kouro, Haruka\n",
      "Starry☆Sky\n",
      "Kyoto Animation: Suiei-hen\n",
      "Hiiro no Kakera: Totsugeki! Tonari no Ikemenzu\n",
      "Inu to Hasami wa Tsukaiyou\n",
      "Rurouni Kenshin: Meiji Kenkaku Romantan\n",
      "Dragon Ball Z\n",
      "Fairy Tail\n",
      "Amnesia OVA\n",
      "Shingeki no Kyojin Season 2\n",
      "Tenshi Kinryouku\n",
      "Hunter x Hunter (2011)\n",
      "Mirai Nikki (TV)\n",
      "Steins;Gate Movie: Fuka Ryouiki no Déjà vu\n",
      "Hataraku Maou-sama!\n",
      "One Punch Man\n",
      "High☆Speed!: Free! Starting Days\n",
      "Rakuen Tsuihou: Expelled from Paradise\n",
      "Uta no☆Prince-sama♪ Maji Love 1000%\n",
      "Free!: FrFr - Short Movie\n",
      "Code Geass: Hangyaku no Lelouch R2\n",
      "Fate/Zero 2nd Season\n",
      "Dansai Bunri no Crime Edge\n",
      "Free!: Eternal Summer Special\n",
      "Steins;Gate: Oukoubakko no Poriomania\n",
      "Fullmetal Alchemist: Brotherhood\n",
      "Fushigi Yuugi\n",
      "Fushigi Yuugi: Eikouden\n",
      "Fushigi Yuugi OVA 2\n",
      "Death Note\n"
     ]
    }
   ],
   "source": [
    "print(\"Possible recs1(User Scores) are:\")\n",
    "for rec in set(possiblerecs1):\n",
    "    print(anime_names[rec])"
   ]
  },
  {
   "cell_type": "code",
   "execution_count": 30,
   "metadata": {},
   "outputs": [
    {
     "name": "stdout",
     "output_type": "stream",
     "text": [
      "Possible recs2(Tf-IDF) are:\n",
      "Vampire Knight\n",
      "Angel Beats!\n",
      "Naruto\n",
      "07-Ghost\n",
      "Kimi ni Todoke\n",
      "Neon Genesis Evangelion\n",
      "Hoshi wo Ou Kodomo\n",
      "Kenpuu Denki Berserk\n",
      "Guilty Crown\n",
      "Dragon Ball Z\n",
      "Hunter x Hunter (2011)\n",
      "Akatsuki no Yona\n",
      "Ao no Exorcist\n",
      "Ookami Kodomo no Ame to Yuki\n",
      "Nanatsu no Taizai\n",
      "Koutetsujou no Kabaneri\n",
      "Uta no☆Prince-sama♪ Maji Love 1000%\n",
      "Durarara!!\n",
      "Haikyuu!!\n",
      "Eureka Seven\n",
      "Accel World\n",
      "Fushigi Yuugi\n"
     ]
    }
   ],
   "source": [
    "print(\"Possible recs2(Tf-IDF) are:\")\n",
    "for rec in set(possiblerecs2):\n",
    "    print(anime_names[rec])"
   ]
  },
  {
   "cell_type": "code",
   "execution_count": 31,
   "metadata": {},
   "outputs": [
    {
     "name": "stdout",
     "output_type": "stream",
     "text": [
      "Possible recs3(Hidden Factors) are:\n",
      "Charlotte: Tsuyoimono-tachi\n",
      "Elfen Lied\n",
      "Shakugan no Shana II (Second)\n",
      "Bible Black: Imari Ryoujoku Genba\n",
      "Black Lagoon: Roberta's Blood Trail\n",
      "Ocha-ken: Chokotto Monogatari\n",
      "Zero no Tsukaima\n",
      "Oni Chichi\n",
      "Zero no Tsukaima: Futatsuki no Kishi\n",
      "Boku wa Imouto ni Koi wo Suru\n",
      "High School DxD BorN\n",
      "Karin\n",
      "Log Horizon 2nd Season\n",
      "Claymore\n",
      "Death Parade\n"
     ]
    }
   ],
   "source": [
    "print(\"Possible recs3(Hidden Factors) are:\")\n",
    "for rec in set(possiblerecs3):\n",
    "    print(anime_names[rec])"
   ]
  },
  {
   "cell_type": "code",
   "execution_count": 32,
   "metadata": {
    "collapsed": true
   },
   "outputs": [],
   "source": [
    "ratings_score_test = pd.read_csv('mal_scores_test_nonzero_v2.csv')"
   ]
  },
  {
   "cell_type": "code",
   "execution_count": 33,
   "metadata": {},
   "outputs": [
    {
     "data": {
      "text/html": [
       "<div>\n",
       "<style>\n",
       "    .dataframe thead tr:only-child th {\n",
       "        text-align: right;\n",
       "    }\n",
       "\n",
       "    .dataframe thead th {\n",
       "        text-align: left;\n",
       "    }\n",
       "\n",
       "    .dataframe tbody tr th {\n",
       "        vertical-align: top;\n",
       "    }\n",
       "</style>\n",
       "<table border=\"1\" class=\"dataframe\">\n",
       "  <thead>\n",
       "    <tr style=\"text-align: right;\">\n",
       "      <th></th>\n",
       "      <th>Unnamed: 0</th>\n",
       "      <th>Unnamed: 0.1</th>\n",
       "      <th>Unnamed: 0.1.1</th>\n",
       "      <th>Unnamed: 0.1.1</th>\n",
       "      <th>animeid</th>\n",
       "      <th>animescore</th>\n",
       "      <th>index</th>\n",
       "      <th>name</th>\n",
       "      <th>status</th>\n",
       "      <th>unkey</th>\n",
       "      <th>userid</th>\n",
       "      <th>score</th>\n",
       "      <th>useravg</th>\n",
       "      <th>animeavg</th>\n",
       "      <th>score_anime_scaled</th>\n",
       "      <th>score_usr_scaled</th>\n",
       "      <th>user_rev_count</th>\n",
       "      <th>anime_rev_count</th>\n",
       "    </tr>\n",
       "  </thead>\n",
       "  <tbody>\n",
       "    <tr>\n",
       "      <th>0</th>\n",
       "      <td>0</td>\n",
       "      <td>0</td>\n",
       "      <td>13</td>\n",
       "      <td>13</td>\n",
       "      <td>889</td>\n",
       "      <td>9</td>\n",
       "      <td>SeinfeldHentai</td>\n",
       "      <td>SeinfeldHentai</td>\n",
       "      <td>COMPLETED</td>\n",
       "      <td>889SeinfeldHentai</td>\n",
       "      <td>SeinfeldHentai</td>\n",
       "      <td>9</td>\n",
       "      <td>9.111111</td>\n",
       "      <td>8.157417</td>\n",
       "      <td>0.842583</td>\n",
       "      <td>-0.111111</td>\n",
       "      <td>9</td>\n",
       "      <td>18397</td>\n",
       "    </tr>\n",
       "    <tr>\n",
       "      <th>1</th>\n",
       "      <td>1</td>\n",
       "      <td>1</td>\n",
       "      <td>16</td>\n",
       "      <td>16</td>\n",
       "      <td>28907</td>\n",
       "      <td>9</td>\n",
       "      <td>SeinfeldHentai</td>\n",
       "      <td>SeinfeldHentai</td>\n",
       "      <td>COMPLETED</td>\n",
       "      <td>28907SeinfeldHentai</td>\n",
       "      <td>SeinfeldHentai</td>\n",
       "      <td>9</td>\n",
       "      <td>9.111111</td>\n",
       "      <td>7.894818</td>\n",
       "      <td>1.105182</td>\n",
       "      <td>-0.111111</td>\n",
       "      <td>9</td>\n",
       "      <td>15497</td>\n",
       "    </tr>\n",
       "    <tr>\n",
       "      <th>2</th>\n",
       "      <td>2</td>\n",
       "      <td>2</td>\n",
       "      <td>233</td>\n",
       "      <td>233</td>\n",
       "      <td>21185</td>\n",
       "      <td>7</td>\n",
       "      <td>OPERATIONiDROID</td>\n",
       "      <td>OPERATIONiDROID</td>\n",
       "      <td>COMPLETED</td>\n",
       "      <td>21185OPERATIONiDROID</td>\n",
       "      <td>OPERATIONiDROID</td>\n",
       "      <td>7</td>\n",
       "      <td>7.767857</td>\n",
       "      <td>7.921898</td>\n",
       "      <td>-0.921898</td>\n",
       "      <td>-0.767857</td>\n",
       "      <td>56</td>\n",
       "      <td>3329</td>\n",
       "    </tr>\n",
       "    <tr>\n",
       "      <th>3</th>\n",
       "      <td>3</td>\n",
       "      <td>3</td>\n",
       "      <td>243</td>\n",
       "      <td>243</td>\n",
       "      <td>18507</td>\n",
       "      <td>9</td>\n",
       "      <td>OPERATIONiDROID</td>\n",
       "      <td>OPERATIONiDROID</td>\n",
       "      <td>COMPLETED</td>\n",
       "      <td>18507OPERATIONiDROID</td>\n",
       "      <td>OPERATIONiDROID</td>\n",
       "      <td>9</td>\n",
       "      <td>7.767857</td>\n",
       "      <td>7.631896</td>\n",
       "      <td>1.368104</td>\n",
       "      <td>1.232143</td>\n",
       "      <td>56</td>\n",
       "      <td>16786</td>\n",
       "    </tr>\n",
       "    <tr>\n",
       "      <th>4</th>\n",
       "      <td>4</td>\n",
       "      <td>4</td>\n",
       "      <td>248</td>\n",
       "      <td>248</td>\n",
       "      <td>15059</td>\n",
       "      <td>8</td>\n",
       "      <td>OPERATIONiDROID</td>\n",
       "      <td>OPERATIONiDROID</td>\n",
       "      <td>COMPLETED</td>\n",
       "      <td>15059OPERATIONiDROID</td>\n",
       "      <td>OPERATIONiDROID</td>\n",
       "      <td>8</td>\n",
       "      <td>7.767857</td>\n",
       "      <td>8.219309</td>\n",
       "      <td>-0.219309</td>\n",
       "      <td>0.232143</td>\n",
       "      <td>56</td>\n",
       "      <td>1564</td>\n",
       "    </tr>\n",
       "  </tbody>\n",
       "</table>\n",
       "</div>"
      ],
      "text/plain": [
       "   Unnamed: 0  Unnamed: 0.1  Unnamed: 0.1.1  Unnamed: 0.1.1  animeid  \\\n",
       "0           0             0              13              13      889   \n",
       "1           1             1              16              16    28907   \n",
       "2           2             2             233             233    21185   \n",
       "3           3             3             243             243    18507   \n",
       "4           4             4             248             248    15059   \n",
       "\n",
       "   animescore            index             name     status  \\\n",
       "0           9   SeinfeldHentai   SeinfeldHentai  COMPLETED   \n",
       "1           9   SeinfeldHentai   SeinfeldHentai  COMPLETED   \n",
       "2           7  OPERATIONiDROID  OPERATIONiDROID  COMPLETED   \n",
       "3           9  OPERATIONiDROID  OPERATIONiDROID  COMPLETED   \n",
       "4           8  OPERATIONiDROID  OPERATIONiDROID  COMPLETED   \n",
       "\n",
       "                  unkey           userid  score   useravg  animeavg  \\\n",
       "0     889SeinfeldHentai   SeinfeldHentai      9  9.111111  8.157417   \n",
       "1   28907SeinfeldHentai   SeinfeldHentai      9  9.111111  7.894818   \n",
       "2  21185OPERATIONiDROID  OPERATIONiDROID      7  7.767857  7.921898   \n",
       "3  18507OPERATIONiDROID  OPERATIONiDROID      9  7.767857  7.631896   \n",
       "4  15059OPERATIONiDROID  OPERATIONiDROID      8  7.767857  8.219309   \n",
       "\n",
       "   score_anime_scaled  score_usr_scaled  user_rev_count  anime_rev_count  \n",
       "0            0.842583         -0.111111               9            18397  \n",
       "1            1.105182         -0.111111               9            15497  \n",
       "2           -0.921898         -0.767857              56             3329  \n",
       "3            1.368104          1.232143              56            16786  \n",
       "4           -0.219309          0.232143              56             1564  "
      ]
     },
     "execution_count": 33,
     "metadata": {},
     "output_type": "execute_result"
    }
   ],
   "source": [
    "ratings_score_test.head()"
   ]
  },
  {
   "cell_type": "code",
   "execution_count": 34,
   "metadata": {
    "collapsed": true
   },
   "outputs": [],
   "source": [
    "recs=pd.DataFrame(possiblerecs, columns=['animeid'])"
   ]
  },
  {
   "cell_type": "code",
   "execution_count": 35,
   "metadata": {
    "collapsed": true
   },
   "outputs": [],
   "source": [
    "recs['userid']=user_to_rec"
   ]
  },
  {
   "cell_type": "code",
   "execution_count": 36,
   "metadata": {
    "collapsed": true
   },
   "outputs": [],
   "source": [
    "recs['animescore']=0\n",
    "recs['score_anime_scaled']=0\n",
    "recs['score_usr_scaled']=0\n"
   ]
  },
  {
   "cell_type": "code",
   "execution_count": 37,
   "metadata": {
    "collapsed": true
   },
   "outputs": [],
   "source": [
    "#recs.head()"
   ]
  },
  {
   "cell_type": "code",
   "execution_count": 38,
   "metadata": {
    "collapsed": true
   },
   "outputs": [],
   "source": [
    "#type(userid2idx)"
   ]
  },
  {
   "cell_type": "code",
   "execution_count": 39,
   "metadata": {
    "collapsed": true
   },
   "outputs": [],
   "source": [
    "#userid2idx"
   ]
  },
  {
   "cell_type": "code",
   "execution_count": 40,
   "metadata": {
    "collapsed": true
   },
   "outputs": [],
   "source": [
    "#user_scores"
   ]
  },
  {
   "cell_type": "code",
   "execution_count": 41,
   "metadata": {},
   "outputs": [
    {
     "name": "stderr",
     "output_type": "stream",
     "text": [
      "/usr/local/lib/python3.5/dist-packages/ipykernel_launcher.py:1: SettingWithCopyWarning: \n",
      "A value is trying to be set on a copy of a slice from a DataFrame.\n",
      "Try using .loc[row_indexer,col_indexer] = value instead\n",
      "\n",
      "See the caveats in the documentation: http://pandas.pydata.org/pandas-docs/stable/indexing.html#indexing-view-versus-copy\n",
      "  \"\"\"Entry point for launching an IPython kernel.\n",
      "/usr/local/lib/python3.5/dist-packages/ipykernel_launcher.py:2: SettingWithCopyWarning: \n",
      "A value is trying to be set on a copy of a slice from a DataFrame.\n",
      "Try using .loc[row_indexer,col_indexer] = value instead\n",
      "\n",
      "See the caveats in the documentation: http://pandas.pydata.org/pandas-docs/stable/indexing.html#indexing-view-versus-copy\n",
      "  \n"
     ]
    }
   ],
   "source": [
    "user_scores['userid']= user_scores['name']\n",
    "user_zeroes['userid']= user_zeroes['name']\n",
    "user_scores = user_scores[['animeid','userid','status']]\n",
    "user_zeroes = user_zeroes[['animeid','userid','status']]"
   ]
  },
  {
   "cell_type": "code",
   "execution_count": 42,
   "metadata": {
    "collapsed": true
   },
   "outputs": [],
   "source": [
    "recs['user_id_emb'] = len(userid2idx)+2\n",
    "concatlist = [user_scores,user_zeroes]\n",
    "user_scores = pd.concat(concatlist,ignore_index=True)"
   ]
  },
  {
   "cell_type": "code",
   "execution_count": 43,
   "metadata": {
    "collapsed": true
   },
   "outputs": [],
   "source": [
    "user_scores['anime_id_emb']= user_scores.animeid.apply(lambda x: animeid2idx[x])\n",
    "user_scores['user_id_emb']= len(userid2idx)+1"
   ]
  },
  {
   "cell_type": "code",
   "execution_count": 44,
   "metadata": {
    "collapsed": true
   },
   "outputs": [],
   "source": [
    "user_scores['anime_id_emb']= user_scores.animeid.apply(lambda x: animeid2idx[x])\n",
    "recs['anime_id_emb'] = recs.animeid.apply(lambda x: animeid2idx[x])\n",
    "\n"
   ]
  },
  {
   "cell_type": "code",
   "execution_count": 45,
   "metadata": {
    "collapsed": true
   },
   "outputs": [],
   "source": [
    "user_scores['target']=user_scores['status']==\"COMPLETED\"\n",
    "user_scores['target']=user_scores['target'].astype(int)\n"
   ]
  },
  {
   "cell_type": "code",
   "execution_count": null,
   "metadata": {
    "collapsed": true
   },
   "outputs": [],
   "source": []
  },
  {
   "cell_type": "code",
   "execution_count": 46,
   "metadata": {
    "collapsed": true
   },
   "outputs": [],
   "source": [
    "n_factors =36"
   ]
  },
  {
   "cell_type": "code",
   "execution_count": 47,
   "metadata": {},
   "outputs": [
    {
     "name": "stderr",
     "output_type": "stream",
     "text": [
      "/usr/local/lib/python3.5/dist-packages/ipykernel_launcher.py:6: UserWarning: Update your `Embedding` call to the Keras 2 API: `Embedding(230977, 36, embeddings_regularizer=<keras.reg..., input_length=1, name=\"Embed_User_Hidden_Factors\")`\n",
      "  \n",
      "/usr/local/lib/python3.5/dist-packages/ipykernel_launcher.py:3: UserWarning: Update your `Embedding` call to the Keras 2 API: `Embedding(12873, 36, embeddings_regularizer=<keras.reg..., input_length=1, name=\"Embed_Anime_Hidden_Factors\")`\n",
      "  This is separate from the ipykernel package so we can avoid doing imports until\n"
     ]
    }
   ],
   "source": [
    "def embedding_input_anime1(name, n_in, n_out, reg):\n",
    "    inp = Input(shape=(1,), dtype='int64', name=name)\n",
    "    return inp, Embedding(n_in, n_out, input_length=1, W_regularizer=l2(reg),name='Embed_Anime_Hidden_Factors')(inp)\n",
    "def embedding_input_user1(name, n_in, n_out, reg):\n",
    "    inp = Input(shape=(1,), dtype='int64', name=name)\n",
    "    return inp, Embedding(n_in, n_out, input_length=1, W_regularizer=l2(reg),name='Embed_User_Hidden_Factors')(inp)\n",
    "\n",
    "user_in1, u1 = embedding_input_user1('user_id_in', n_users+1221, n_factors, 0)\n",
    "u1.trainable=True\n",
    "anime_in1, a1 = embedding_input_anime1('anime_id_in', n_animes+47, n_factors, 0)\n",
    "a1.trainable=False"
   ]
  },
  {
   "cell_type": "code",
   "execution_count": 48,
   "metadata": {},
   "outputs": [
    {
     "name": "stderr",
     "output_type": "stream",
     "text": [
      "/usr/local/lib/python3.5/dist-packages/ipykernel_launcher.py:2: UserWarning: The `merge` function is deprecated and will be removed after 08/2017. Use instead layers from `keras.layers.merge`, e.g. `add`, `concatenate`, etc.\n",
      "  \n",
      "/usr/local/lib/python3.5/dist-packages/keras/legacy/layers.py:458: UserWarning: The `Merge` layer is deprecated and will be removed after 08/2017. Use instead layers from `keras.layers.merge`, e.g. `add`, `concatenate`, etc.\n",
      "  name=name)\n"
     ]
    }
   ],
   "source": [
    "# nn1, It is given no modifications for status. It is predicting score\n",
    "x = merge([u1, a1], mode='concat', name='All_Factors_on_one_layer')\n",
    "x.trainable=False\n",
    "x = Flatten()(x)\n",
    "x.trainable=False\n",
    "x = Dense(70, activation='relu',name='Random_HF_Interactions')(x)\n",
    "x.trainable=False\n",
    "x = Dropout(0.55,name='Prevent_overfit2')(x)\n",
    "x.trainable=False\n",
    "x = Dense(16, activation='relu',name='Random_HF_Interactions2')(x)\n",
    "x.trainable=False\n",
    "x = Dropout(0.1, name='Prevent_overfit')(x)\n",
    "x.trainable=False\n",
    "x = Dense(1,name='Final_Interactions',activation='sigmoid')(x)\n",
    "x.trainable=False\n",
    "nn1 = Model([user_in1, anime_in1], x)\n",
    "nn1.compile(Adam(0.001), loss='mse')"
   ]
  },
  {
   "cell_type": "code",
   "execution_count": 49,
   "metadata": {
    "collapsed": true
   },
   "outputs": [],
   "source": [
    "nn1.load_weights('nn_score_weights_pred.h5',by_name=True)"
   ]
  },
  {
   "cell_type": "code",
   "execution_count": 50,
   "metadata": {},
   "outputs": [
    {
     "name": "stdout",
     "output_type": "stream",
     "text": [
      "Fri Sep  8 16:44:55 2017       \r\n",
      "+-----------------------------------------------------------------------------+\r\n",
      "| NVIDIA-SMI 384.69                 Driver Version: 384.69                    |\r\n",
      "|-------------------------------+----------------------+----------------------+\r\n",
      "| GPU  Name        Persistence-M| Bus-Id        Disp.A | Volatile Uncorr. ECC |\r\n",
      "| Fan  Temp  Perf  Pwr:Usage/Cap|         Memory-Usage | GPU-Util  Compute M. |\r\n",
      "|===============================+======================+======================|\r\n",
      "|   0  GeForce GTX 108...  Off  | 00000000:04:00.0 Off |                  N/A |\r\n",
      "| 20%   39C    P2    59W / 250W |   7052MiB / 11170MiB |      0%      Default |\r\n",
      "+-------------------------------+----------------------+----------------------+\r\n",
      "                                                                               \r\n",
      "+-----------------------------------------------------------------------------+\r\n",
      "| Processes:                                                       GPU Memory |\r\n",
      "|  GPU       PID  Type  Process name                               Usage      |\r\n",
      "|=============================================================================|\r\n",
      "+-----------------------------------------------------------------------------+\r\n"
     ]
    }
   ],
   "source": [
    "!nvidia-smi"
   ]
  },
  {
   "cell_type": "code",
   "execution_count": 51,
   "metadata": {},
   "outputs": [
    {
     "name": "stdout",
     "output_type": "stream",
     "text": [
      "Epoch 1/18\n",
      "186/186 [==============================] - 0s - loss: 0.2248     \n",
      "Epoch 2/18\n",
      "186/186 [==============================] - 0s - loss: 0.2093     \n",
      "Epoch 3/18\n",
      "186/186 [==============================] - 0s - loss: 0.1879     \n",
      "Epoch 4/18\n",
      "186/186 [==============================] - 0s - loss: 0.1787     \n",
      "Epoch 5/18\n",
      "186/186 [==============================] - 0s - loss: 0.1785     \n",
      "Epoch 6/18\n",
      "186/186 [==============================] - 0s - loss: 0.1626     \n",
      "Epoch 7/18\n",
      "186/186 [==============================] - 0s - loss: 0.1559     \n",
      "Epoch 8/18\n",
      "186/186 [==============================] - 0s - loss: 0.1478     \n",
      "Epoch 9/18\n",
      "186/186 [==============================] - 0s - loss: 0.1436     \n",
      "Epoch 10/18\n",
      "186/186 [==============================] - 0s - loss: 0.1276     \n",
      "Epoch 11/18\n",
      "186/186 [==============================] - 0s - loss: 0.1317     \n",
      "Epoch 12/18\n",
      "186/186 [==============================] - 0s - loss: 0.1148     \n",
      "Epoch 13/18\n",
      "186/186 [==============================] - 0s - loss: 0.1102     \n",
      "Epoch 14/18\n",
      "186/186 [==============================] - 0s - loss: 0.1121     \n",
      "Epoch 15/18\n",
      "186/186 [==============================] - 0s - loss: 0.1032     \n",
      "Epoch 16/18\n",
      "186/186 [==============================] - 0s - loss: 0.0870     \n",
      "Epoch 17/18\n",
      "186/186 [==============================] - 0s - loss: 0.0915     \n",
      "Epoch 18/18\n",
      "186/186 [==============================] - 0s - loss: 0.1029     \n"
     ]
    },
    {
     "data": {
      "text/plain": [
       "<keras.callbacks.History at 0x7ff903bcf7b8>"
      ]
     },
     "execution_count": 51,
     "metadata": {},
     "output_type": "execute_result"
    }
   ],
   "source": [
    "nn1.fit([user_scores.user_id_emb, user_scores.anime_id_emb], user_scores.target, epochs=18)"
   ]
  },
  {
   "cell_type": "code",
   "execution_count": 52,
   "metadata": {
    "collapsed": true
   },
   "outputs": [],
   "source": [
    "recs['score']=nn1.predict([recs.user_id_emb, recs.anime_id_emb])"
   ]
  },
  {
   "cell_type": "code",
   "execution_count": 53,
   "metadata": {
    "collapsed": true
   },
   "outputs": [],
   "source": [
    "#recs.head()"
   ]
  },
  {
   "cell_type": "code",
   "execution_count": 54,
   "metadata": {
    "collapsed": true
   },
   "outputs": [],
   "source": [
    "#recs.sort_values('score',ascending=False)"
   ]
  },
  {
   "cell_type": "code",
   "execution_count": 55,
   "metadata": {
    "collapsed": true
   },
   "outputs": [],
   "source": [
    "recs['anime_rev_count']= recs.animeid.map(anime_rev_dict)"
   ]
  },
  {
   "cell_type": "code",
   "execution_count": 56,
   "metadata": {
    "collapsed": true
   },
   "outputs": [],
   "source": [
    "recs=recs[recs['anime_rev_count']<l_max_reviews]"
   ]
  },
  {
   "cell_type": "code",
   "execution_count": 57,
   "metadata": {
    "collapsed": true
   },
   "outputs": [],
   "source": [
    "#recs.sort_values('score_usr_scaled',ascending=False).head(t_highest_predicted_score)"
   ]
  },
  {
   "cell_type": "code",
   "execution_count": 58,
   "metadata": {
    "collapsed": true
   },
   "outputs": [],
   "source": [
    "#recs.sort_values('score_anime_scaled',ascending=False).head(t_highest_predicted_score)"
   ]
  },
  {
   "cell_type": "code",
   "execution_count": 59,
   "metadata": {
    "collapsed": true
   },
   "outputs": [],
   "source": [
    "#recs.sort_values('score',ascending=False).head(t_highest_predicted_score)"
   ]
  },
  {
   "cell_type": "code",
   "execution_count": 60,
   "metadata": {
    "collapsed": true
   },
   "outputs": [],
   "source": [
    "#score_user_preds =recs.sort_values('score_usr_scaled',ascending=False).head(t_highest_predicted_score)\n",
    "score_preds =recs.sort_values('score',ascending=False).head(t_highest_predicted_score)\n",
    "#score_anime_preds =recs.sort_values('score_anime_scaled',ascending=False).head(t_highest_predicted_score)"
   ]
  },
  {
   "cell_type": "code",
   "execution_count": 61,
   "metadata": {
    "collapsed": true
   },
   "outputs": [],
   "source": [
    "#score_preds.animeid.values"
   ]
  },
  {
   "cell_type": "code",
   "execution_count": 62,
   "metadata": {},
   "outputs": [
    {
     "name": "stdout",
     "output_type": "stream",
     "text": [
      "seed shows are:\n",
      "Steins;Gate\n",
      "Arata Kangatari\n",
      "Yuu☆Yuu☆Hakusho\n",
      "Ayashi no Ceres\n",
      "Free!\n",
      "Suisei no Gargantia\n",
      "Sword Art Online\n",
      "Amnesia\n",
      "Howl no Ugoku Shiro\n",
      "Shingeki no Kyojin\n",
      "Hiiro no Kakera Dai Ni Shou\n",
      " \n",
      "Possible recs1(User Scores) are:\n",
      "Ibara-Hime matawa Nemuri-Hime\n",
      "Hajime no Ippo\n",
      "Photokano\n",
      "Suisei no Gargantia: Meguru Kouro, Haruka\n",
      "Starry☆Sky\n",
      "Kyoto Animation: Suiei-hen\n",
      "Hiiro no Kakera: Totsugeki! Tonari no Ikemenzu\n",
      "Inu to Hasami wa Tsukaiyou\n",
      "Rurouni Kenshin: Meiji Kenkaku Romantan\n",
      "Dragon Ball Z\n",
      "Fairy Tail\n",
      "Amnesia OVA\n",
      "Shingeki no Kyojin Season 2\n",
      "Tenshi Kinryouku\n",
      "Hunter x Hunter (2011)\n",
      "Mirai Nikki (TV)\n",
      "Steins;Gate Movie: Fuka Ryouiki no Déjà vu\n",
      "Hataraku Maou-sama!\n",
      "One Punch Man\n",
      "High☆Speed!: Free! Starting Days\n",
      "Rakuen Tsuihou: Expelled from Paradise\n",
      "Uta no☆Prince-sama♪ Maji Love 1000%\n",
      "Free!: FrFr - Short Movie\n",
      "Code Geass: Hangyaku no Lelouch R2\n",
      "Fate/Zero 2nd Season\n",
      "Dansai Bunri no Crime Edge\n",
      "Free!: Eternal Summer Special\n",
      "Steins;Gate: Oukoubakko no Poriomania\n",
      "Fullmetal Alchemist: Brotherhood\n",
      "Fushigi Yuugi\n",
      "Fushigi Yuugi: Eikouden\n",
      "Fushigi Yuugi OVA 2\n",
      "Death Note\n",
      " \n",
      "Possible recs2(Tf-IDF) are:\n",
      "Vampire Knight\n",
      "Angel Beats!\n",
      "Naruto\n",
      "07-Ghost\n",
      "Kimi ni Todoke\n",
      "Neon Genesis Evangelion\n",
      "Hoshi wo Ou Kodomo\n",
      "Kenpuu Denki Berserk\n",
      "Guilty Crown\n",
      "Dragon Ball Z\n",
      "Hunter x Hunter (2011)\n",
      "Akatsuki no Yona\n",
      "Ao no Exorcist\n",
      "Ookami Kodomo no Ame to Yuki\n",
      "Nanatsu no Taizai\n",
      "Koutetsujou no Kabaneri\n",
      "Uta no☆Prince-sama♪ Maji Love 1000%\n",
      "Durarara!!\n",
      "Haikyuu!!\n",
      "Eureka Seven\n",
      "Accel World\n",
      "Fushigi Yuugi\n",
      " \n",
      "Possible recs3(Hidden Factors) are:\n",
      "Charlotte: Tsuyoimono-tachi\n",
      "Elfen Lied\n",
      "Shakugan no Shana II (Second)\n",
      "Bible Black: Imari Ryoujoku Genba\n",
      "Black Lagoon: Roberta's Blood Trail\n",
      "Ocha-ken: Chokotto Monogatari\n",
      "Zero no Tsukaima\n",
      "Oni Chichi\n",
      "Zero no Tsukaima: Futatsuki no Kishi\n",
      "Boku wa Imouto ni Koi wo Suru\n",
      "High School DxD BorN\n",
      "Karin\n",
      "Log Horizon 2nd Season\n",
      "Claymore\n",
      "Death Parade\n"
     ]
    }
   ],
   "source": [
    "print(\"seed shows are:\")\n",
    "for rec in seedshows:\n",
    "    print(anime_names[rec])\n",
    "print(\" \")\n",
    "print(\"Possible recs1(User Scores) are:\")\n",
    "for rec in set(possiblerecs1):\n",
    "    print(anime_names[rec])\n",
    "print(' ' )\n",
    "print(\"Possible recs2(Tf-IDF) are:\")\n",
    "for rec in set(possiblerecs2):\n",
    "    print(anime_names[rec])\n",
    "print(\" \")\n",
    "print(\"Possible recs3(Hidden Factors) are:\")\n",
    "for rec in set(possiblerecs3):\n",
    "    print(anime_names[rec])"
   ]
  },
  {
   "cell_type": "code",
   "execution_count": 63,
   "metadata": {
    "scrolled": false
   },
   "outputs": [
    {
     "name": "stdout",
     "output_type": "stream",
     "text": [
      "Recommendations for likely to watch  for Figgybun are:\n",
      "Kyoto Animation: Suiei-hen\n",
      "Zero no Tsukaima: Futatsuki no Kishi\n",
      "Boku wa Imouto ni Koi wo Suru\n",
      "Vampire Knight\n",
      "Dragon Ball Z\n",
      "Ookami Kodomo no Ame to Yuki\n",
      "Steins;Gate: Oukoubakko no Poriomania\n",
      "Nanatsu no Taizai\n",
      "Karin\n",
      "Amnesia OVA\n",
      "Zero no Tsukaima\n",
      "Kimi ni Todoke\n",
      "Tenshi Kinryouku\n",
      "Hataraku Maou-sama!\n",
      "Claymore\n"
     ]
    }
   ],
   "source": [
    "print(\"Recommendations for likely to watch  for {0} are:\".format(user_to_rec))\n",
    "for rec in score_preds.animeid.values:\n",
    "    print(anime_names[rec])"
   ]
  },
  {
   "cell_type": "code",
   "execution_count": 64,
   "metadata": {},
   "outputs": [
    {
     "name": "stdout",
     "output_type": "stream",
     "text": [
      "Fri Sep  8 16:44:58 2017       \r\n",
      "+-----------------------------------------------------------------------------+\r\n",
      "| NVIDIA-SMI 384.69                 Driver Version: 384.69                    |\r\n",
      "|-------------------------------+----------------------+----------------------+\r\n",
      "| GPU  Name        Persistence-M| Bus-Id        Disp.A | Volatile Uncorr. ECC |\r\n",
      "| Fan  Temp  Perf  Pwr:Usage/Cap|         Memory-Usage | GPU-Util  Compute M. |\r\n",
      "|===============================+======================+======================|\r\n",
      "|   0  GeForce GTX 108...  Off  | 00000000:04:00.0 Off |                  N/A |\r\n",
      "| 20%   41C    P2   107W / 250W |   7156MiB / 11170MiB |     46%      Default |\r\n",
      "+-------------------------------+----------------------+----------------------+\r\n",
      "                                                                               \r\n",
      "+-----------------------------------------------------------------------------+\r\n",
      "| Processes:                                                       GPU Memory |\r\n",
      "|  GPU       PID  Type  Process name                               Usage      |\r\n",
      "|=============================================================================|\r\n",
      "+-----------------------------------------------------------------------------+\r\n"
     ]
    }
   ],
   "source": [
    "!nvidia-smi"
   ]
  },
  {
   "cell_type": "code",
   "execution_count": null,
   "metadata": {
    "collapsed": true
   },
   "outputs": [],
   "source": []
  }
 ],
 "metadata": {
  "kernelspec": {
   "display_name": "Python 3",
   "language": "python",
   "name": "python3"
  },
  "language_info": {
   "codemirror_mode": {
    "name": "ipython",
    "version": 3
   },
   "file_extension": ".py",
   "mimetype": "text/x-python",
   "name": "python",
   "nbconvert_exporter": "python",
   "pygments_lexer": "ipython3",
   "version": "3.5.2"
  }
 },
 "nbformat": 4,
 "nbformat_minor": 2
}
