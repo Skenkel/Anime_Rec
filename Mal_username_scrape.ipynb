{
 "cells": [
  {
   "cell_type": "code",
   "execution_count": null,
   "metadata": {
    "collapsed": true
   },
   "outputs": [],
   "source": [
    "import requests\n",
    "from bs4 import BeautifulSoup\n",
    "import pandas as pd\n",
    "import time\n",
    "import csv\n",
    "import mal_scraper\n",
    "import numpy.random"
   ]
  },
  {
   "cell_type": "code",
   "execution_count": 1,
   "metadata": {},
   "outputs": [
    {
     "data": {
      "text/plain": [
       "122"
      ]
     },
     "execution_count": 1,
     "metadata": {},
     "output_type": "execute_result"
    }
   ],
   "source": [
    "ord('z')"
   ]
  },
  {
   "cell_type": "code",
   "execution_count": 2,
   "metadata": {},
   "outputs": [
    {
     "data": {
      "text/plain": [
       "'{'"
      ]
     },
     "execution_count": 2,
     "metadata": {},
     "output_type": "execute_result"
    }
   ],
   "source": [
    "chr(123)"
   ]
  },
  {
   "cell_type": "code",
   "execution_count": 3,
   "metadata": {
    "collapsed": true
   },
   "outputs": [],
   "source": [
    "numbers = list(range(48,58))\n",
    "letters = list(range(97,123))"
   ]
  },
  {
   "cell_type": "code",
   "execution_count": 4,
   "metadata": {
    "collapsed": true
   },
   "outputs": [],
   "source": [
    "iterrange = numbers+letters"
   ]
  },
  {
   "cell_type": "code",
   "execution_count": 5,
   "metadata": {},
   "outputs": [
    {
     "data": {
      "text/plain": [
       "[48,\n",
       " 49,\n",
       " 50,\n",
       " 51,\n",
       " 52,\n",
       " 53,\n",
       " 54,\n",
       " 55,\n",
       " 56,\n",
       " 57,\n",
       " 97,\n",
       " 98,\n",
       " 99,\n",
       " 100,\n",
       " 101,\n",
       " 102,\n",
       " 103,\n",
       " 104,\n",
       " 105,\n",
       " 106,\n",
       " 107,\n",
       " 108,\n",
       " 109,\n",
       " 110,\n",
       " 111,\n",
       " 112,\n",
       " 113,\n",
       " 114,\n",
       " 115,\n",
       " 116,\n",
       " 117,\n",
       " 118,\n",
       " 119,\n",
       " 120,\n",
       " 121,\n",
       " 122]"
      ]
     },
     "execution_count": 5,
     "metadata": {},
     "output_type": "execute_result"
    }
   ],
   "source": [
    "iterrange"
   ]
  },
  {
   "cell_type": "code",
   "execution_count": 7,
   "metadata": {},
   "outputs": [
    {
     "data": {
      "text/plain": [
       "36"
      ]
     },
     "execution_count": 7,
     "metadata": {},
     "output_type": "execute_result"
    }
   ],
   "source": [
    "len(iterrange)"
   ]
  },
  {
   "cell_type": "code",
   "execution_count": 6,
   "metadata": {
    "collapsed": true
   },
   "outputs": [],
   "source": [
    "userset = set()"
   ]
  },
  {
   "cell_type": "code",
   "execution_count": null,
   "metadata": {
    "collapsed": true
   },
   "outputs": [],
   "source": [
    "itervar = 0 \n",
    "for char_one in range(len(iterrange)):\n",
    "    for char_two in range(len(iterrange)):\n",
    "        for char_three in range(1,len(iterrange)):\n",
    "            searchtoken = chr(iterrange[char_one])+chr(iterrange[char_two])+chr(iterrange[char_three])\n",
    "            print(searchtoken)\n",
    "            searchnum=0\n",
    "            endoflist =False\n",
    "            while endoflist is False:\n",
    "                try:\n",
    "                    httptoken = 'https://myanimelist.net/users.php?q='+searchtoken+'&show='+str(searchnum)\n",
    "                except:\n",
    "                    endoflist = True\n",
    "                time.sleep(1)\n",
    "                response = requests.get(httptoken)\n",
    "                main_soup = BeautifulSoup(response.content, 'lxml')\n",
    "                usertable = main_soup.find('table',{'border':\"0\",'cellpadding':'10'})\n",
    "                if usertable is None:\n",
    "                    endoflist = True\n",
    "                else:\n",
    "                    users = usertable.find_all('td')\n",
    "                    for num in range(len(users)):\n",
    "                        user = users[num]\n",
    "                        username = user.find('a').text\n",
    "                        userset.add(username)\n",
    "                searchnum = searchnum+24\n",
    "                itervar = itervar+1\n",
    "                if itervar %600==1:\n",
    "                    user_list = list(userset)\n",
    "                    userdf = pd.DataFrame(user_list)\n",
    "                    userdf.to_csv('maluserstoscrape.csv')\n",
    "                    \n",
    "    \n",
    "            "
   ]
  },
  {
   "cell_type": "code",
   "execution_count": null,
   "metadata": {
    "collapsed": true
   },
   "outputs": [],
   "source": [
    "itervar = 0 \n",
    "for char_one in range(len(iterrange)):\n",
    "    for char_two in range(len(iterrange)):\n",
    "        for char_three in range(1,len(iterrange)):\n",
    "            searchtoken = chr(iterrange[np.random.randomint(36)])+chr(iterrange[np.random.randomint(36)])+chr(iterrange[np.random.randomint(36)])\n",
    "            print(searchtoken)\n",
    "            searchnum=0\n",
    "            endoflist =False\n",
    "            while endoflist is False:\n",
    "                try:\n",
    "                    httptoken = 'https://myanimelist.net/users.php?q='+searchtoken+'&show='+str(searchnum)\n",
    "                except:\n",
    "                    endoflist = True\n",
    "                time.sleep(1)\n",
    "                response = requests.get(httptoken)\n",
    "                main_soup = BeautifulSoup(response.content, 'lxml')\n",
    "                usertable = main_soup.find('table',{'border':\"0\",'cellpadding':'10'})\n",
    "                if usertable is None:\n",
    "                    endoflist = True\n",
    "                else:\n",
    "                    users = usertable.find_all('td')\n",
    "                    for num in range(len(users)):\n",
    "                        user = users[num]\n",
    "                        username = user.find('a').text\n",
    "                        userset.add(username)\n",
    "                searchnum = searchnum+24\n",
    "                itervar = itervar+1\n",
    "                if itervar %600==1:\n",
    "                    user_list = list(userset)\n",
    "                    userdf = pd.DataFrame(user_list)\n",
    "                    userdf.to_csv('maluserstoscrape.csv')\n",
    "                    \n",
    "    \n",
    "            "
   ]
  }
 ],
 "metadata": {
  "kernelspec": {
   "display_name": "Python 3",
   "language": "python",
   "name": "python3"
  },
  "language_info": {
   "codemirror_mode": {
    "name": "ipython",
    "version": 3
   },
   "file_extension": ".py",
   "mimetype": "text/x-python",
   "name": "python",
   "nbconvert_exporter": "python",
   "pygments_lexer": "ipython3",
   "version": "3.6.1"
  }
 },
 "nbformat": 4,
 "nbformat_minor": 2
}
